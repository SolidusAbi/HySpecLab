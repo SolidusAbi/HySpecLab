{
 "cells": [
  {
   "cell_type": "code",
   "execution_count": 2,
   "source": [
    "import os, sys\n",
    "\n",
    "project_dir = os.getcwd()\n",
    "if project_dir not in sys.path:\n",
    "    sys.path.append(project_dir)\n",
    "\n",
    "import numpy as np\n",
    "from scipy.io import loadmat\n",
    "from dataset import Dataset"
   ],
   "outputs": [],
   "metadata": {}
  },
  {
   "cell_type": "code",
   "execution_count": 56,
   "source": [
    "dataset_dir = '/home/abian/Data/Dataset/IUMA/DermaDatabase/'\n",
    "dataset = Dataset(dataset_dir)"
   ],
   "outputs": [],
   "metadata": {}
  },
  {
   "cell_type": "code",
   "execution_count": 57,
   "source": [
    "x, y = test.get()\n",
    "np.unique(y)"
   ],
   "outputs": [
    {
     "output_type": "execute_result",
     "data": {
      "text/plain": [
       "array([b'a', b'b', b'c', b'd', b'e', b'f', b'g', b'h', b'i', b'j', b'k',\n",
       "       b'l', b'm', b'n', b'o', b'p', b'q', b'r'], dtype='|S1')"
      ]
     },
     "metadata": {},
     "execution_count": 57
    }
   ],
   "metadata": {}
  },
  {
   "cell_type": "code",
   "execution_count": 106,
   "source": [
    "dataset_dir = list(map(lambda x: os.path.join(dataset_root_dir, x), train_dir))\n",
    "files = []\n",
    "for _dataset_dir in dataset_dir:\n",
    "    _files = list(map(lambda x: os.path.join(_dataset_dir, x), os.listdir(_dataset_dir)))\n",
    "    files = files + _files\n",
    "\n",
    "files"
   ],
   "outputs": [
    {
     "output_type": "execute_result",
     "data": {
      "text/plain": [
       "['/home/abian/Data/Dataset/IUMA/DermaDatabase/dataCubes/train/P71_C1002.mat',\n",
       " '/home/abian/Data/Dataset/IUMA/DermaDatabase/dataCubes/train/P94_C1005.mat',\n",
       " '/home/abian/Data/Dataset/IUMA/DermaDatabase/dataCubes/train/P16_C1000.mat',\n",
       " '/home/abian/Data/Dataset/IUMA/DermaDatabase/dataCubes/train/P66_C1001.mat',\n",
       " '/home/abian/Data/Dataset/IUMA/DermaDatabase/dataCubes/train/P27_C4000.mat',\n",
       " '/home/abian/Data/Dataset/IUMA/DermaDatabase/dataCubes/train/P29_C1000.mat',\n",
       " '/home/abian/Data/Dataset/IUMA/DermaDatabase/dataCubes/train/P80_C1003.mat',\n",
       " '/home/abian/Data/Dataset/IUMA/DermaDatabase/dataCubes/train/P112_C1000.mat',\n",
       " '/home/abian/Data/Dataset/IUMA/DermaDatabase/dataCubes/train/P75_C1000.mat',\n",
       " '/home/abian/Data/Dataset/IUMA/DermaDatabase/dataCubes/train/P78_C3000.mat',\n",
       " '/home/abian/Data/Dataset/IUMA/DermaDatabase/dataCubes/train/P17_C2002.mat',\n",
       " '/home/abian/Data/Dataset/IUMA/DermaDatabase/dataCubes/train/P17_C1001.mat',\n",
       " '/home/abian/Data/Dataset/IUMA/DermaDatabase/dataCubes/train/P27_C1000.mat',\n",
       " '/home/abian/Data/Dataset/IUMA/DermaDatabase/dataCubes/train/P86_C4000.mat',\n",
       " '/home/abian/Data/Dataset/IUMA/DermaDatabase/dataCubes/train/P13_C2000.mat',\n",
       " '/home/abian/Data/Dataset/IUMA/DermaDatabase/dataCubes/train/P86_C1003.mat',\n",
       " '/home/abian/Data/Dataset/IUMA/DermaDatabase/dataCubes/train/P116_C1004.mat',\n",
       " '/home/abian/Data/Dataset/IUMA/DermaDatabase/dataCubes/train/P60_C3004.mat',\n",
       " '/home/abian/Data/Dataset/IUMA/DermaDatabase/dataCubes/train/P62_C1003.mat',\n",
       " '/home/abian/Data/Dataset/IUMA/DermaDatabase/dataCubes/train/P95_C1000.mat',\n",
       " '/home/abian/Data/Dataset/IUMA/DermaDatabase/dataCubes/train/P81_C1005.mat',\n",
       " '/home/abian/Data/Dataset/IUMA/DermaDatabase/dataCubes/train/P89_C1001.mat',\n",
       " '/home/abian/Data/Dataset/IUMA/DermaDatabase/dataCubes/train/P90_C1002.mat',\n",
       " '/home/abian/Data/Dataset/IUMA/DermaDatabase/dataCubes/train/P109_C1000.mat',\n",
       " '/home/abian/Data/Dataset/IUMA/DermaDatabase/dataCubes/train/P88_C1000.mat',\n",
       " '/home/abian/Data/Dataset/IUMA/DermaDatabase/dataCubes/train/P21_C1000.mat',\n",
       " '/home/abian/Data/Dataset/IUMA/DermaDatabase/dataCubes/train/P13_C3000.mat',\n",
       " '/home/abian/Data/Dataset/IUMA/DermaDatabase/dataCubes/train/P61_C1004.mat',\n",
       " '/home/abian/Data/Dataset/IUMA/DermaDatabase/dataCubes/train/P60_C2000.mat',\n",
       " '/home/abian/Data/Dataset/IUMA/DermaDatabase/dataCubes/train/P27_C3000.mat',\n",
       " '/home/abian/Data/Dataset/IUMA/DermaDatabase/dataCubes/train/P25_C3000.mat',\n",
       " '/home/abian/Data/Dataset/IUMA/DermaDatabase/dataCubes/train/P104_C1000.mat',\n",
       " '/home/abian/Data/Dataset/IUMA/DermaDatabase/dataCubes/train/P30_C1000.mat',\n",
       " '/home/abian/Data/Dataset/IUMA/DermaDatabase/dataCubes/train/P26_C1000.mat',\n",
       " '/home/abian/Data/Dataset/IUMA/DermaDatabase/dataCubes/train/P91_C1003.mat',\n",
       " '/home/abian/Data/Dataset/IUMA/DermaDatabase/dataCubes/train/P63_C1000.mat',\n",
       " '/home/abian/Data/Dataset/IUMA/DermaDatabase/dataCubes/train/P29_C3000.mat',\n",
       " '/home/abian/Data/Dataset/IUMA/DermaDatabase/dataCubes/train/P83_C1003.mat',\n",
       " '/home/abian/Data/Dataset/IUMA/DermaDatabase/dataCubes/train/P27_C2000.mat',\n",
       " '/home/abian/Data/Dataset/IUMA/DermaDatabase/dataCubes/train/P77_C1000.mat',\n",
       " '/home/abian/Data/Dataset/IUMA/DermaDatabase/dataCubes/train/P18_C1000.mat',\n",
       " '/home/abian/Data/Dataset/IUMA/DermaDatabase/dataCubes/train/P110_C1000.mat',\n",
       " '/home/abian/Data/Dataset/IUMA/DermaDatabase/dataCubes/train/P67_C1003.mat',\n",
       " '/home/abian/Data/Dataset/IUMA/DermaDatabase/dataCubes/train/P32_C1000.mat',\n",
       " '/home/abian/Data/Dataset/IUMA/DermaDatabase/dataCubes/train/P87_C1000.mat',\n",
       " '/home/abian/Data/Dataset/IUMA/DermaDatabase/dataCubes/train/P92_C1004.mat',\n",
       " '/home/abian/Data/Dataset/IUMA/DermaDatabase/dataCubes/train/P106_C1000.mat',\n",
       " '/home/abian/Data/Dataset/IUMA/DermaDatabase/dataCubes/train/P98_C1002.mat',\n",
       " '/home/abian/Data/Dataset/IUMA/DermaDatabase/dataCubes/train/P24_C1000.mat',\n",
       " '/home/abian/Data/Dataset/IUMA/DermaDatabase/dataCubes/train/P25_C2000.mat',\n",
       " '/home/abian/Data/Dataset/IUMA/DermaDatabase/dataCubes/train/P86_C3000.mat',\n",
       " '/home/abian/Data/Dataset/IUMA/DermaDatabase/dataCubes/train/P56_C1002.mat',\n",
       " '/home/abian/Data/Dataset/IUMA/DermaDatabase/dataCubes/train/P101_C1000.mat',\n",
       " '/home/abian/Data/Dataset/IUMA/DermaDatabase/dataCubes/train/P82_C1000.mat',\n",
       " '/home/abian/Data/Dataset/IUMA/DermaDatabase/dataCubes/train/P29_C2000.mat',\n",
       " '/home/abian/Data/Dataset/IUMA/DermaDatabase/dataCubes/train/P86_C2001.mat',\n",
       " '/home/abian/Data/Dataset/IUMA/DermaDatabase/dataCubes/validation/P96_C1002.mat',\n",
       " '/home/abian/Data/Dataset/IUMA/DermaDatabase/dataCubes/validation/P15_C2000.mat',\n",
       " '/home/abian/Data/Dataset/IUMA/DermaDatabase/dataCubes/validation/P103_C1003.mat',\n",
       " '/home/abian/Data/Dataset/IUMA/DermaDatabase/dataCubes/validation/P68_C1002.mat',\n",
       " '/home/abian/Data/Dataset/IUMA/DermaDatabase/dataCubes/validation/P99_C1000.mat',\n",
       " '/home/abian/Data/Dataset/IUMA/DermaDatabase/dataCubes/validation/P15_C1000.mat',\n",
       " '/home/abian/Data/Dataset/IUMA/DermaDatabase/dataCubes/validation/P20_C2000.mat',\n",
       " '/home/abian/Data/Dataset/IUMA/DermaDatabase/dataCubes/validation/P79_C1000.mat',\n",
       " '/home/abian/Data/Dataset/IUMA/DermaDatabase/dataCubes/validation/P60_C1003.mat',\n",
       " '/home/abian/Data/Dataset/IUMA/DermaDatabase/dataCubes/validation/P113_C1002.mat']"
      ]
     },
     "metadata": {},
     "execution_count": 106
    }
   ],
   "metadata": {}
  },
  {
   "cell_type": "code",
   "execution_count": 147,
   "source": [
    "dataset_root_dir = \"/home/abian/Data/Dataset/IUMA/DermaDatabase/dataCubes\"\n",
    "train_dir = ['train', 'validation']\n",
    "\n",
    "dataset_dir = map(lambda x: os.path.join(dataset_root_dir, x), train_dir)\n",
    "mat_files = []\n",
    "for _dataset_dir in dataset_dir:\n",
    "    files = list(map(lambda x: os.path.join(_dataset_dir, x), os.listdir(_dataset_dir)))\n",
    "    mat_files = mat_files + files\n",
    "\n",
    "x = None\n",
    "y = None\n",
    "for idx, file in enumerate(mat_files):\n",
    "    mat = loadmat(file)\n",
    "    x_orig = mat['preProcessedImage']\n",
    "    y_orig = mat['groundTruthMap']\n",
    "\n",
    "    benign_idx = np.where(np.logical_and(y_orig>200, y_orig<400))\n",
    "    malignant_idx = np.where(np.logical_and(y_orig>=400, y_orig<500))\n",
    "    result_idx = (np.concatenate((malignant_idx[0], benign_idx[0])), np.concatenate((malignant_idx[1], benign_idx[1])))\n",
    "\n",
    "    _y = np.zeros(malignant_idx[0].size + benign_idx[0].size)\n",
    "    _y[:malignant_idx[0].size] = 1\n",
    "    _x = x_orig[result_idx]\n",
    "    if idx == 0:\n",
    "        x = _x\n",
    "        y = _y\n",
    "    else:\n",
    "        x = np.concatenate((x, _x), axis=0)\n",
    "        y = np.concatenate((y, _y), axis=0)\n",
    "\n"
   ],
   "outputs": [],
   "metadata": {}
  },
  {
   "cell_type": "code",
   "execution_count": 172,
   "source": [
    "import os \n",
    "import numpy as np\n",
    "from scipy.io import loadmat\n",
    "\n",
    "class DermaDatabase:\n",
    "    '''\n",
    "        Dataset \n",
    "    '''\n",
    "    def __init__(self, dataset_dir):\n",
    "        ''' \n",
    "            Param:\n",
    "            -----\n",
    "            dataset_dir (str or list)\n",
    "        '''\n",
    "        if not isinstance(dataset_dir, list):\n",
    "            dataset_dir = [dataset_dir]\n",
    "\n",
    "        for dir in dataset_dir:\n",
    "            if not os.path.exists(dir):\n",
    "                assert \"{} path does not exists\".format(dir)\n",
    "                return\n",
    "\n",
    "        mat_files = []\n",
    "        for _dataset_dir in dataset_dir:\n",
    "            files = list(map(lambda x: os.path.join(_dataset_dir, x), os.listdir(_dataset_dir)))\n",
    "            mat_files = mat_files + files\n",
    "\n",
    "        self.__process(mat_files)\n",
    "\n",
    "    def __process(self, filenames):\n",
    "        for idx, filename in enumerate(filenames):\n",
    "            mat = loadmat(filename)\n",
    "            mat_x = mat['preProcessedImage']\n",
    "            mat_y = mat['groundTruthMap']\n",
    "\n",
    "            benign_idx = np.where(np.logical_and(mat_y>200, mat_y<400))\n",
    "            malignant_idx = np.where(np.logical_and(mat_y>=400, mat_y<500))\n",
    "            result_idx = (np.concatenate((malignant_idx[0], benign_idx[0])), np.concatenate((malignant_idx[1], benign_idx[1])))\n",
    "\n",
    "            _y = np.zeros(malignant_idx[0].size + benign_idx[0].size, dtype=int)\n",
    "            _y[:malignant_idx[0].size] = 1\n",
    "\n",
    "            if idx==0:\n",
    "                self.x = mat_x[result_idx]\n",
    "                self.y = _y\n",
    "            else:\n",
    "                self.x = np.concatenate([self.x, mat_x[result_idx]], axis=0)    \n",
    "                self.y = np.concatenate([self.y, _y], axis=0)\n",
    "\n",
    "    def get(self):\n",
    "        return self.x, self.y\n",
    "\n",
    "\n",
    "dataset_root_dir = \"/home/abian/Data/Dataset/IUMA/DermaDatabase/dataCubes\"\n",
    "train_dir = ['train', 'validation']\n",
    "dataset_dir = list(map(lambda x: os.path.join(dataset_root_dir, x), train_dir))\n",
    "\n",
    "a = DermaDatabase(dataset_dir)"
   ],
   "outputs": [],
   "metadata": {}
  },
  {
   "cell_type": "code",
   "execution_count": 173,
   "source": [
    "a.get()"
   ],
   "outputs": [
    {
     "output_type": "execute_result",
     "data": {
      "text/plain": [
       "(array([[0.10847308, 0.07011808, 0.03540395, ..., 0.77803494, 0.77312806,\n",
       "         0.70713294],\n",
       "        [0.10683183, 0.06519125, 0.03763591, ..., 0.7617083 , 0.7498897 ,\n",
       "         0.73933219],\n",
       "        [0.05165076, 0.03815085, 0.01635811, ..., 0.80627717, 0.82546832,\n",
       "         0.82016977],\n",
       "        ...,\n",
       "        [0.11382079, 0.08698409, 0.07124586, ..., 0.92677138, 0.98462638,\n",
       "         1.        ],\n",
       "        [0.0769648 , 0.08451364, 0.06562315, ..., 0.87568026, 0.91760418,\n",
       "         1.        ],\n",
       "        [0.08246624, 0.08058432, 0.04994389, ..., 0.98243433, 0.98815602,\n",
       "         1.        ]]),\n",
       " array([0, 0, 0, ..., 1, 1, 1]))"
      ]
     },
     "metadata": {},
     "execution_count": 173
    }
   ],
   "metadata": {}
  },
  {
   "cell_type": "code",
   "execution_count": 174,
   "source": [
    "print(a.y[a.y==0].shape)\n",
    "print(a.y[a.y==1].shape)"
   ],
   "outputs": [
    {
     "output_type": "stream",
     "name": "stdout",
     "text": [
      "(3343,)\n",
      "(7295,)\n"
     ]
    }
   ],
   "metadata": {}
  },
  {
   "cell_type": "code",
   "execution_count": 182,
   "source": [
    "from imblearn.under_sampling import RandomUnderSampler, NearMiss"
   ],
   "outputs": [],
   "metadata": {}
  },
  {
   "cell_type": "code",
   "execution_count": 183,
   "source": [
    "rus = RandomUnderSampler(random_state=0)\n",
    "X_resampled, y_resampled = rus.fit_resample(a.x, a.y)"
   ],
   "outputs": [],
   "metadata": {}
  },
  {
   "cell_type": "code",
   "execution_count": 185,
   "source": [
    "nm1 = NearMiss(version=1)\n",
    "X_resampled_nm1, y_resampled = nm1.fit_resample(a.x, a.y)"
   ],
   "outputs": [],
   "metadata": {}
  },
  {
   "cell_type": "code",
   "execution_count": 178,
   "source": [
    "X_resampled.shape"
   ],
   "outputs": [
    {
     "output_type": "execute_result",
     "data": {
      "text/plain": [
       "(6686, 116)"
      ]
     },
     "metadata": {},
     "execution_count": 178
    }
   ],
   "metadata": {}
  },
  {
   "cell_type": "code",
   "execution_count": 186,
   "source": [
    "print(y_resampled[y_resampled==0].shape)\n",
    "print(y_resampled[y_resampled==1].shape)"
   ],
   "outputs": [
    {
     "output_type": "stream",
     "name": "stdout",
     "text": [
      "(3343,)\n",
      "(3343,)\n"
     ]
    }
   ],
   "metadata": {}
  },
  {
   "cell_type": "code",
   "execution_count": null,
   "source": [
    "print(y_resampled[y_resampled==0].shape)\n",
    "print(y_resampled[y_resampled==1].shape)"
   ],
   "outputs": [],
   "metadata": {}
  },
  {
   "cell_type": "code",
   "execution_count": 5,
   "source": [
    "from sklearn.svm import LinearSVC\n",
    "from sklearn.datasets import load_iris\n",
    "from sklearn.feature_selection import SelectFromModel\n",
    "\n",
    "_X, _y = load_iris(return_X_y=True)\n",
    "print(_X.shape)\n",
    "lsvc = LinearSVC(C=0.01, penalty=\"l1\", dual=False).fit(_X, _y)\n",
    "model = SelectFromModel(lsvc, prefit=True)\n",
    "X_new = model.transform(_X)\n",
    "print(X_new.shape)"
   ],
   "outputs": [
    {
     "output_type": "stream",
     "name": "stdout",
     "text": [
      "(150, 4)\n",
      "(150, 3)\n"
     ]
    }
   ],
   "metadata": {}
  },
  {
   "cell_type": "code",
   "execution_count": null,
   "source": [],
   "outputs": [],
   "metadata": {}
  }
 ],
 "metadata": {
  "orig_nbformat": 4,
  "language_info": {
   "name": "python",
   "version": "3.9.7",
   "mimetype": "text/x-python",
   "codemirror_mode": {
    "name": "ipython",
    "version": 3
   },
   "pygments_lexer": "ipython3",
   "nbconvert_exporter": "python",
   "file_extension": ".py"
  },
  "kernelspec": {
   "name": "python3",
   "display_name": "Python 3.9.7 64-bit ('HySpecLab': conda)"
  },
  "interpreter": {
   "hash": "af680f298c3d17ec705d00ff05262bced2955ca0c4523d2b3ea9cadbd32c0648"
  }
 },
 "nbformat": 4,
 "nbformat_minor": 2
}