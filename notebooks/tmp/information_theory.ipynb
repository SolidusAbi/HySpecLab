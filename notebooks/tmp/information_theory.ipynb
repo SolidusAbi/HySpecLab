{
 "cells": [
  {
   "cell_type": "code",
   "execution_count": 1,
   "metadata": {},
   "outputs": [],
   "source": [
    "import os, sys\n",
    "project_dir = os.path.join(os.getcwd(),'..')\n",
    "if project_dir not in sys.path:\n",
    "    sys.path.append(project_dir)\n",
    "\n",
    "hyspeclab_dir = os.path.join(project_dir, 'HySpecLab')\n",
    "if hyspeclab_dir not in sys.path:\n",
    "    sys.path.append(hyspeclab_dir)\n",
    "\n",
    "ipdl_dir = os.path.join(project_dir, 'modules/IPDL')\n",
    "if ipdl_dir not in sys.path:\n",
    "    sys.path.append(ipdl_dir)    \n",
    "\n",
    "from matplotlib import pyplot as plt\n",
    "import numpy as np\n",
    "import pandas as pd\n",
    "import torch\n",
    "import config\n",
    "\n",
    "from HySpecLab.feature_selection import InterbandRedundancySelector \n",
    "\n",
    "device = 'cuda' if torch.cuda.is_available() else 'cpu'"
   ]
  },
  {
   "cell_type": "markdown",
   "metadata": {},
   "source": [
    "# Dataset"
   ]
  },
  {
   "cell_type": "code",
   "execution_count": 2,
   "metadata": {},
   "outputs": [],
   "source": [
    "from dataset import DermaDataset\n",
    "\n",
    "train_dir = ['train', 'validation']\n",
    "dataset_dir = list(map(lambda x: os.path.join(config.DERMA_DATASET_DIR, x), train_dir))\n",
    "\n",
    "dataset = DermaDataset(dataset_dir)\n",
    "x, y = dataset.get(dataframe=True)"
   ]
  },
  {
   "cell_type": "markdown",
   "metadata": {},
   "source": [
    "## Normalization (Z-Score)"
   ]
  },
  {
   "cell_type": "code",
   "execution_count": 3,
   "metadata": {},
   "outputs": [],
   "source": [
    "x_normalized = (x.values - x.mean().values) / x.std().values\n",
    "x_normalized = pd.DataFrame(x_normalized, columns=x.columns)"
   ]
  },
  {
   "cell_type": "markdown",
   "metadata": {},
   "source": [
    "# Feature Selection"
   ]
  },
  {
   "cell_type": "code",
   "execution_count": 4,
   "metadata": {},
   "outputs": [
    {
     "data": {
      "text/plain": [
       "InterbandRedundancySelector(threshold=10)"
      ]
     },
     "execution_count": 4,
     "metadata": {},
     "output_type": "execute_result"
    }
   ],
   "source": [
    "selector = InterbandRedundancySelector(threshold=10)\n",
    "selector.fit(x_normalized.values)"
   ]
  },
  {
   "cell_type": "markdown",
   "metadata": {},
   "source": [
    "# Select samples"
   ]
  },
  {
   "cell_type": "code",
   "execution_count": 105,
   "metadata": {},
   "outputs": [
    {
     "name": "stdout",
     "output_type": "stream",
     "text": [
      "{0: 512, 1: 512}\n"
     ]
    }
   ],
   "source": [
    "from imblearn.under_sampling import RandomUnderSampler, NearMiss\n",
    "\n",
    "n_samples = 512\n",
    "sampling_strategy = {class_id:n_samples for class_id in np.unique(y)}\n",
    "print(sampling_strategy)\n",
    "nm = NearMiss(sampling_strategy=sampling_strategy, version=3)\n",
    "x_selected, y_selected = nm.fit_resample(x_normalized, y)"
   ]
  },
  {
   "cell_type": "markdown",
   "metadata": {},
   "source": [
    "# Torch tensor"
   ]
  },
  {
   "cell_type": "code",
   "execution_count": 82,
   "metadata": {},
   "outputs": [
    {
     "name": "stdout",
     "output_type": "stream",
     "text": [
      "X Shape: torch.Size([1024, 116]); Y Shape: torch.Size([1024, 2])\n"
     ]
    }
   ],
   "source": [
    "from torch.nn.functional import one_hot\n",
    "\n",
    "x_tensor = torch.tensor(x_selected.values)\n",
    "y_tensor = one_hot(torch.tensor(y_selected.values.flatten()))\n",
    "print('X Shape: {}; Y Shape: {}'.format(x_tensor.shape, y_tensor.shape))"
   ]
  },
  {
   "cell_type": "code",
   "execution_count": 97,
   "metadata": {},
   "outputs": [
    {
     "data": {
      "text/plain": [
       "{0: 100, 1: 100}"
      ]
     },
     "execution_count": 97,
     "metadata": {},
     "output_type": "execute_result"
    }
   ],
   "source": [
    "y_tensor.size(1) \n",
    "\n",
    "{i:100 for i in range(0,y_tensor.size(1))}"
   ]
  },
  {
   "cell_type": "markdown",
   "metadata": {},
   "source": [
    "### Shuffle"
   ]
  },
  {
   "cell_type": "code",
   "execution_count": 83,
   "metadata": {},
   "outputs": [],
   "source": [
    "torch.manual_seed(123)\n",
    "shuffle_idx = torch.randperm(x_tensor.shape[0])\n",
    "x_tensor = x_tensor[shuffle_idx]\n",
    "y_tensor = y_tensor[shuffle_idx]"
   ]
  },
  {
   "cell_type": "markdown",
   "metadata": {},
   "source": [
    "# Cosos"
   ]
  },
  {
   "cell_type": "markdown",
   "metadata": {},
   "source": [
    "## PMF"
   ]
  },
  {
   "cell_type": "markdown",
   "metadata": {},
   "source": [
    "Gaussian maximum entropy: $H(X) = \\frac{1}{2}(1 + log(2\\sigma^2\\pi))$"
   ]
  },
  {
   "cell_type": "code",
   "execution_count": 84,
   "metadata": {},
   "outputs": [],
   "source": [
    "# from scipy.stats import entropy\n",
    "\n",
    "# mean = 0.5\n",
    "# std = 1.8\n",
    "# gaussian = np.random.normal(loc=mean, scale=std, size=(1000))\n",
    "# gaussian_dist = np.histogram(gaussian, bins=35)[0]\n",
    "\n",
    "# theorical_entropy = 1/2*(1+np.log2(2*mean*std))\n",
    "# entropy_value = entropy(gaussian_dist[0], base=2)\n",
    "\n",
    "# from IPDL.functional import matrix_estimator\n",
    "# from IPDL.InformationTheory import MatrixBasedRenyisEntropy as renyis\n",
    "\n",
    "# n = gaussian.size\n",
    "# d = 1\n",
    "# gamma = 1\n",
    "# sigma = gamma * (n ** (-1 / (4 + d))) * np.sqrt(d)\n",
    "# print(sigma)\n",
    "# Kx, Ax = matrix_estimator(torch.tensor(gaussian.reshape(-1, 1)), sigma=3.5)\n",
    "# kernel_based_entropy = renyis.entropy(Ax) \n",
    "\n",
    "# print(theorical_entropy, entropy_value, kernel_based_entropy)"
   ]
  },
  {
   "cell_type": "markdown",
   "metadata": {},
   "source": [
    "# Kernel-Based Entropy"
   ]
  },
  {
   "cell_type": "code",
   "execution_count": 93,
   "metadata": {},
   "outputs": [
    {
     "name": "stdout",
     "output_type": "stream",
     "text": [
      "0.12499999999999999\n",
      "0.15749013123685915\n"
     ]
    }
   ],
   "source": [
    "n = x_tensor.size(0)\n",
    "d = x_tensor.size(1)\n",
    "d = 1\n",
    "gamma = 0.5\n",
    "sigma = gamma * (n ** (-1 / (4 + d)))\n",
    "sigma_y = gamma * (n ** (-1 / (4 + 2))) \n",
    "print(sigma)\n",
    "print(sigma_y)"
   ]
  },
  {
   "cell_type": "code",
   "execution_count": 94,
   "metadata": {},
   "outputs": [
    {
     "name": "stdout",
     "output_type": "stream",
     "text": [
      "Target entropy: 1.0003081560134888 bits\n"
     ]
    },
    {
     "data": {
      "image/png": "[encoded data removed]",
      "text/plain": [
       "<Figure size 432x288 with 1 Axes>"
      ]
     },
     "metadata": {
      "needs_background": "light"
     },
     "output_type": "display_data"
    }
   ],
   "source": [
    "from IPDL.functional import matrix_estimator\n",
    "from IPDL.InformationTheory import MatrixBasedRenyisEntropy as renyis\n",
    "\n",
    "\n",
    "n_features = x_tensor.size(1)\n",
    "sigma_y = gamma * (n ** (-1 / (4 + 2))) \n",
    "Ky, Ay = matrix_estimator(y_tensor, sigma=sigma_y)\n",
    "\n",
    "mi_estimation = np.zeros(x_tensor.size(1))\n",
    "# for feature in range()\n",
    "\n",
    "for feature in range(n_features):\n",
    "    Kx, Ax = matrix_estimator(x_tensor[:, feature].reshape(-1, 1), sigma=sigma)\n",
    "    mi_estimation[feature] = renyis.mutualInformation(Ax, Ay)\n",
    "\n",
    "\n",
    "# print(renyis.entropy(Ax).item())\n",
    "print('Target entropy: {} bits'.format(renyis.entropy(Ay)))\n",
    "plt.plot(mi_estimation)\n",
    "plt.ylabel('I(X; Y)')\n",
    "plt.xlabel('Feature')\n",
    "plt.show()\n"
   ]
  },
  {
   "cell_type": "code",
   "execution_count": 108,
   "metadata": {},
   "outputs": [
    {
     "data": {
      "text/plain": [
       "(116,)"
      ]
     },
     "execution_count": 108,
     "metadata": {},
     "output_type": "execute_result"
    }
   ],
   "source": [
    "mi_estimation.shape"
   ]
  },
  {
   "cell_type": "code",
   "execution_count": 109,
   "metadata": {},
   "outputs": [
    {
     "data": {
      "image/png": "[encoded data removed]",
      "text/plain": [
       "<Figure size 1152x576 with 1 Axes>"
      ]
     },
     "metadata": {
      "needs_background": "light"
     },
     "output_type": "display_data"
    }
   ],
   "source": [
    "independent_var = 20\n",
    "available_features = np.arange(116)\n",
    "cluster = selector._clusterize(independent_var, available_features)\n",
    "\n",
    "max_mi = np.argmax(mi_estimation[cluster])\n",
    "\n",
    "fig, ax = plt.subplots(figsize=(16, 8))\n",
    "ax.plot(mi_estimation[cluster])\n",
    "ax.scatter(max_mi, mi_estimation[cluster][max_mi])\n",
    "ax.set_xticks(np.arange(len(cluster)))\n",
    "ax.set_xticklabels(cluster)\n",
    "plt.grid(True, axis='x')\n",
    "plt.show()"
   ]
  },
  {
   "cell_type": "code",
   "execution_count": null,
   "metadata": {},
   "outputs": [],
   "source": [
    "mi_estimation[max_mi]"
   ]
  },
  {
   "cell_type": "code",
   "execution_count": null,
   "metadata": {},
   "outputs": [],
   "source": [
    "print(mi_estimation[cluster])\n",
    "print(np.argmax(mi_estimation[cluster]))"
   ]
  },
  {
   "cell_type": "code",
   "execution_count": null,
   "metadata": {},
   "outputs": [],
   "source": [
    "from scipy.signal import find_peaks\n",
    "\n",
    "signal_peaks = find_peaks(mi_estimation)[0]\n",
    "plt.plot(mi_estimation)\n",
    "plt.scatter(signal_peaks, mi_estimation[signal_peaks])\n",
    "plt.show()"
   ]
  },
  {
   "cell_type": "code",
   "execution_count": null,
   "metadata": {},
   "outputs": [],
   "source": [
    "n ** (-1 / (4 + d)) * 2"
   ]
  },
  {
   "cell_type": "code",
   "execution_count": null,
   "metadata": {},
   "outputs": [],
   "source": [
    "from torch.nn import Sigmoid\n",
    "model = Sigmoid()\n",
    "\n",
    "sigmoid = model(torch.arange(-10, 10, 0.01))\n",
    "# plt.plot(sigmoid)\n",
    "\n",
    "gaussian = np.random.normal(loc=0.0, scale=1.0, size=(100))\n",
    "plt.hist(gaussian)\n",
    "print(entropy(gaussian))"
   ]
  },
  {
   "cell_type": "code",
   "execution_count": null,
   "metadata": {},
   "outputs": [],
   "source": []
  },
  {
   "cell_type": "code",
   "execution_count": null,
   "metadata": {},
   "outputs": [],
   "source": [
    "from IPDL.functional import matrix_estimator\n",
    "\n",
    "Ky, Ay = matrix_estimator(y_tensor, sigma=.1)"
   ]
  },
  {
   "cell_type": "code",
   "execution_count": null,
   "metadata": {},
   "outputs": [],
   "source": [
    "from IPDL import MatrixEstimator\n",
    "from IPDL.optim import AligmentOptimizer\n",
    "\n",
    "x_estimator = MatrixEstimator(0.1)\n",
    "matrix_optimizer = AligmentOptimizer(x_estimator, beta=.99, n_sigmas=200)"
   ]
  },
  {
   "cell_type": "code",
   "execution_count": null,
   "metadata": {},
   "outputs": [],
   "source": [
    "x_estimator.eval()\n",
    "# x_estimator(x_tensor[:, 10].reshape((-1, 1)))\n",
    "x_estimator(x_tensor[:, 45:60])\n",
    "matrix_optimizer.step(Ky.to(device))\n",
    "# print(x_estimator)\n",
    "# print(estimator.get_matrix().shape)\n"
   ]
  },
  {
   "cell_type": "code",
   "execution_count": null,
   "metadata": {},
   "outputs": [],
   "source": [
    "from IPDL.InformationTheory import MatrixBasedRenyisEntropy as renyis\n",
    "\n",
    "renyis.mutualInformation(x_estimator.get_matrix(), Ay)\n",
    "# x_estimator"
   ]
  },
  {
   "cell_type": "code",
   "execution_count": null,
   "metadata": {},
   "outputs": [],
   "source": [
    "print(renyis.entropy(x_estimator.get_matrix()))\n",
    "print(renyis.entropy(Ay))"
   ]
  },
  {
   "cell_type": "code",
   "execution_count": null,
   "metadata": {},
   "outputs": [],
   "source": []
  }
 ],
 "metadata": {
  "interpreter": {
   "hash": "bc81a3ec444beb1d5a523daf231afa571e79be8a57abb6fe0028623a3d4d7136"
  },
  "kernelspec": {
   "display_name": "Python 3.9.7 64-bit ('HySpecLab': conda)",
   "name": "python3"
  },
  "language_info": {
   "codemirror_mode": {
    "name": "ipython",
    "version": 3
   },
   "file_extension": ".py",
   "mimetype": "text/x-python",
   "name": "python",
   "nbconvert_exporter": "python",
   "pygments_lexer": "ipython3",
   "version": "3.9.7"
  },
  "orig_nbformat": 4
 },
 "nbformat": 4,
 "nbformat_minor": 2
}
