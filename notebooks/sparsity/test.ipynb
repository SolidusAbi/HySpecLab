{
 "cells": [
  {
   "cell_type": "code",
   "execution_count": 1,
   "metadata": {},
   "outputs": [],
   "source": [
    "import os, sys\n",
    "project_dir = os.path.join(os.getcwd(),'../..')\n",
    "if project_dir not in sys.path:\n",
    "    sys.path.append(project_dir)\n",
    "\n",
    "hyspeclab_dir = os.path.join(project_dir, 'HySpecLab')\n",
    "if hyspeclab_dir not in sys.path:\n",
    "    sys.path.append(hyspeclab_dir)\n",
    "\n",
    "ipdl_dir = os.path.join(project_dir, 'modules/IPDL')\n",
    "if ipdl_dir not in sys.path:\n",
    "    sys.path.append(ipdl_dir)    \n",
    "\n",
    "sparse_dir = os.path.join(project_dir, 'modules/Sparse')\n",
    "if sparse_dir not in sys.path:\n",
    "    sys.path.append(sparse_dir)    \n",
    "\n",
    "from scipy.io import loadmat\n",
    "from matplotlib import pyplot as plt\n",
    "import numpy as np\n",
    "import config\n",
    "import torch\n",
    "from torch import nn\n",
    "\n",
    "device = 'cuda' if torch.cuda.is_available() else 'cpu'"
   ]
  },
  {
   "cell_type": "code",
   "execution_count": 2,
   "metadata": {},
   "outputs": [],
   "source": [
    "from dataset import DermaDataset\n",
    "\n",
    "train_dir = ['train', 'validation']\n",
    "dataset_dir = list(map(lambda x: os.path.join(config.DERMA_DATASET_DIR, x), train_dir))\n",
    "\n",
    "dataset = DermaDataset(dataset_dir)\n",
    "X, y = dataset.get(dataframe=False)"
   ]
  },
  {
   "cell_type": "code",
   "execution_count": 3,
   "metadata": {},
   "outputs": [],
   "source": [
    "from torchvision.transforms import ToTensor\n",
    "\n",
    "from torch.utils.data import Dataset \n",
    "from torchvision import transforms as torchTransforms\n",
    "\n",
    "class AuxDataset(Dataset):\n",
    "    def __init__(self, dataset_dir, transform=torchTransforms.Compose([torchTransforms.ToTensor()])):\n",
    "        super(AuxDataset, self).__init__()\n",
    "        dataset = DermaDataset(dataset_dir)\n",
    "        self.X, self.y = dataset.get(dataframe=False)\n",
    "        self.X, self.y = torch.tensor(self.X, dtype=torch.float), torch.tensor(self.y)\n",
    "        self.transform = transform\n",
    "\n",
    "    def __len__(self):\n",
    "        return len(self.X)\n",
    "\n",
    "    def __getitem__(self, idx):\n",
    "        return (self.X[idx], self.y[idx])\n",
    "\n",
    "dataset = AuxDataset(dataset_dir, None)\n",
    "val_size = 512\n",
    "train_set, val_set = torch.utils.data.random_split(dataset, [len(dataset)-val_size, val_size])\n",
    "train_loader = torch.utils.data.DataLoader(train_set, batch_size=64, shuffle=True)\n",
    "val_loader = torch.utils.data.DataLoader(val_set, batch_size=512, shuffle=False)"
   ]
  },
  {
   "cell_type": "code",
   "execution_count": null,
   "metadata": {},
   "outputs": [],
   "source": [
    "from HySpecLab.feature_selection.nn import KFeatureSelector\n",
    "\n",
    "# model = nn.Sequential(*[\n",
    "#     nn.Conv1d(1,1,1, bias=False),\n",
    "#     nn.Flatten(1),\n",
    "#     KWinners(116, 50),    \n",
    "#     nn.Linear(116, 256),\n",
    "#     nn.ReLU(),\n",
    "#     nn.Linear(256, 64),\n",
    "#     nn.ReLU(),\n",
    "#     nn.Linear(64, 2),\n",
    "# ])\n",
    "\n",
    "n_bands = 116\n",
    "# model = nn.Sequential(*[\n",
    "#     nn.Conv1d(n_bands,n_bands,1, groups=n_bands, bias=False),\n",
    "#     nn.Flatten(1),\n",
    "#     KWinners(n_bands, 25),\n",
    "#     nn.Linear(n_bands, 256, bias=True),\n",
    "#     nn.Dropout(0.25),\n",
    "#     nn.ReLU(),\n",
    "#     nn.Linear(256, n_bands, bias=True),\n",
    "#     nn.Sigmoid()\n",
    "# ])\n",
    "\n"
   ]
  },
  {
   "cell_type": "code",
   "execution_count": null,
   "metadata": {},
   "outputs": [],
   "source": [
    "n_bands = 116\n",
    "model = nn.Sequential(*[\n",
    "    KFeatureSelector(n_bands, 25),\n",
    "    nn.Linear(n_bands, 64, bias=True),\n",
    "    nn.Dropout(0.25),\n",
    "    nn.ReLU(),\n",
    "    nn.Linear(64, n_bands, bias=True),\n",
    "    nn.Sigmoid()\n",
    "])\n",
    "\n",
    "for m in model.modules():\n",
    "    if isinstance(m, (nn.Linear, nn.Conv1d)):\n",
    "        torch.nn.init.kaiming_normal_(m.weight, mode='fan_out', nonlinearity='relu')\n",
    "\n",
    "optimizer = torch.optim.Adam(model.parameters(), lr=1e-3, weight_decay=1e-6)\n",
    "criterion = nn.MSELoss()\n",
    "\n",
    "from torch.utils.tensorboard import SummaryWriter\n",
    "from HySpecLab.feature_selection.nn.utils import Reconstruction\n",
    "\n",
    "tb_writer = SummaryWriter('runs/KFeatureSelector/MSE')\n",
    "Reconstruction.train(model, optimizer, [train_loader, val_loader], 50, criterion, tb_writer=tb_writer)"
   ]
  },
  {
   "cell_type": "code",
   "execution_count": null,
   "metadata": {},
   "outputs": [],
   "source": [
    "model.eval()\n",
    "with torch.no_grad():\n",
    "    input, _ = next(iter(val_loader))\n",
    "    out = model(input[:,:,None].to(device))\n",
    "plt.figure(figsize=(16,6))\n",
    "plt.subplot(1,2,1)\n",
    "plt.plot(input.detach().cpu().numpy()[::64,:].T)\n",
    "plt.subplot(1,2,2)\n",
    "plt.plot(out.detach().cpu().numpy()[::64,:].T)\n",
    "plt.show()"
   ]
  },
  {
   "cell_type": "code",
   "execution_count": null,
   "metadata": {},
   "outputs": [],
   "source": [
    "model.eval()\n",
    "with torch.no_grad():\n",
    "    input = input.to(device)\n",
    "    out = model[0](input[:,:, None])\n",
    "plt.plot(out[6].detach().cpu().numpy().T)\n",
    "plt.show()"
   ]
  },
  {
   "cell_type": "code",
   "execution_count": null,
   "metadata": {},
   "outputs": [],
   "source": [
    "a = model[0].model[0].weight.data.cpu().flatten().numpy()\n",
    "plt.plot(a)\n",
    "plt.show()\n",
    "\n",
    "len(a[a>0])"
   ]
  },
  {
   "cell_type": "markdown",
   "metadata": {},
   "source": [
    "# Test with Cross-Correlation"
   ]
  },
  {
   "cell_type": "code",
   "execution_count": null,
   "metadata": {},
   "outputs": [],
   "source": []
  },
  {
   "cell_type": "code",
   "execution_count": null,
   "metadata": {},
   "outputs": [],
   "source": [
    "from HySpecLab.metrics import NCC\n",
    "\n",
    "n_bands = 116\n",
    "model = nn.Sequential(*[\n",
    "    KFeatureSelector(n_bands, 25),\n",
    "    nn.Linear(n_bands, 64, bias=True),\n",
    "    nn.Dropout(0.2),\n",
    "    nn.ReLU(),\n",
    "    nn.Linear(64, n_bands, bias=True),\n",
    "    nn.Sigmoid()\n",
    "])\n",
    "\n",
    "for m in model.modules():\n",
    "    if isinstance(m, (nn.Linear, nn.Conv1d)):\n",
    "        torch.nn.init.kaiming_normal_(m.weight, mode='fan_out', nonlinearity='relu')\n",
    "\n",
    "optimizer = torch.optim.Adam(model.parameters(), lr=1e-3, weight_decay=1e-6)\n",
    "criterion = NCC()\n",
    "\n",
    "from torch.utils.tensorboard import SummaryWriter\n",
    "from HySpecLab.feature_selection.nn.utils import Reconstruction\n",
    "\n",
    "tb_writer = SummaryWriter('runs/KFeatureSelector/NCC')\n",
    "Reconstruction.train(model, optimizer, [train_loader, val_loader], 50, criterion, tb_writer=tb_writer)"
   ]
  },
  {
   "cell_type": "code",
   "execution_count": null,
   "metadata": {},
   "outputs": [],
   "source": [
    "model.eval()\n",
    "with torch.no_grad():\n",
    "    input, _ = next(iter(val_loader))\n",
    "    out = model(input[:,:,None].to(device))\n",
    "plt.figure(figsize=(16,6))\n",
    "plt.subplot(1,2,1)\n",
    "plt.plot(input.detach().cpu().numpy()[::64,:].T)\n",
    "plt.subplot(1,2,2)\n",
    "plt.plot(out.detach().cpu().numpy()[::64,:].T)\n",
    "plt.show()"
   ]
  },
  {
   "cell_type": "code",
   "execution_count": null,
   "metadata": {},
   "outputs": [],
   "source": [
    "model.eval()\n",
    "with torch.no_grad():\n",
    "    input = input.to(device)\n",
    "    out = model[0](input[:,:, None])\n",
    "plt.plot(out[6].detach().cpu().numpy().T)\n",
    "plt.show()"
   ]
  },
  {
   "cell_type": "code",
   "execution_count": null,
   "metadata": {},
   "outputs": [],
   "source": [
    "a = model[0].model[0].weight.data.cpu().flatten().numpy()\n",
    "plt.plot(a)\n",
    "plt.show()"
   ]
  },
  {
   "cell_type": "code",
   "execution_count": null,
   "metadata": {},
   "outputs": [],
   "source": [
    "model[0].model[0].weight.data.cpu().flatten()\n",
    "len(a[a<=0])\n",
    "len(a[a>0])"
   ]
  },
  {
   "cell_type": "markdown",
   "metadata": {},
   "source": [
    "# Sparse with KL Div"
   ]
  },
  {
   "cell_type": "code",
   "execution_count": null,
   "metadata": {},
   "outputs": [],
   "source": [
    "from HySpecLab.feature_selection.nn import SparseWeightedFeatureSelector\n",
    "n_bands = 116\n",
    "model = nn.Sequential(*[\n",
    "    SparseWeightedFeatureSelector(n_bands, 1e-5),\n",
    "    nn.ReLU(),\n",
    "    nn.Linear(n_bands, 64, bias=True),\n",
    "    nn.Dropout(0.2),\n",
    "    nn.ReLU(),\n",
    "    nn.Linear(64, n_bands, bias=True),\n",
    "    nn.Sigmoid(),\n",
    "])\n",
    "\n",
    "for m in model.modules():\n",
    "    if isinstance(m, (nn.Linear, nn.Conv1d)):\n",
    "        torch.nn.init.kaiming_normal_(m.weight, mode='fan_out', nonlinearity='relu')\n",
    "\n",
    "from HySpecLab.metrics import NCC\n",
    "optimizer = torch.optim.Adam(model.parameters(), lr=1e-3, weight_decay=1e-6)\n",
    "criterion = nn.MSELoss()\n",
    "\n",
    "from torch.utils.tensorboard import SummaryWriter\n",
    "from HySpecLab.feature_selection.nn.utils import Reconstruction\n",
    "\n",
    "tb_writer = SummaryWriter('runs/SparseWeightedFeatureSelector/MSE')\n",
    "Reconstruction.train(model, optimizer, [train_loader, val_loader], 50, criterion, tb_writer=tb_writer)"
   ]
  },
  {
   "cell_type": "code",
   "execution_count": null,
   "metadata": {},
   "outputs": [],
   "source": [
    "weight_data = model[0].weight.data.cpu().numpy()\n",
    "weight_data_no_negative = weight_data.copy()\n",
    "weight_data_no_negative[weight_data_no_negative<0] = 0\n",
    "plt.plot(weight_data_no_negative)\n",
    "plt.show()\n",
    "\n",
    "print(len(weight_data[weight_data > 0]))"
   ]
  },
  {
   "cell_type": "code",
   "execution_count": null,
   "metadata": {},
   "outputs": [],
   "source": [
    "model.eval()\n",
    "with torch.no_grad():\n",
    "    input, _ = next(iter(val_loader))\n",
    "    out = model(input[:,:].to(device))\n",
    "plt.figure(figsize=(16,6))\n",
    "plt.subplot(1,2,1)\n",
    "plt.plot(input.detach().cpu().numpy()[::64,:].T)\n",
    "plt.subplot(1,2,2)\n",
    "plt.plot(out.detach().cpu().numpy()[::64,:].T)\n",
    "plt.show()"
   ]
  }
 ],
 "metadata": {
  "interpreter": {
   "hash": "15b37510c40f952771730cdce6ed2555d8094a99b7d6886f5b16bebe3e0bdfae"
  },
  "kernelspec": {
   "display_name": "Python 3.9.7 ('HySpecLab')",
   "language": "python",
   "name": "python3"
  },
  "language_info": {
   "codemirror_mode": {
    "name": "ipython",
    "version": 3
   },
   "file_extension": ".py",
   "mimetype": "text/x-python",
   "name": "python",
   "nbconvert_exporter": "python",
   "pygments_lexer": "ipython3",
   "version": "3.9.7"
  },
  "orig_nbformat": 4
 },
 "nbformat": 4,
 "nbformat_minor": 2
}
