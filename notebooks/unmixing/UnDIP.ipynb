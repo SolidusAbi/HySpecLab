{
 "cells": [
  {
   "cell_type": "code",
   "execution_count": 1,
   "metadata": {},
   "outputs": [],
   "source": [
    "import torch\n",
    "from torch import nn"
   ]
  },
  {
   "cell_type": "code",
   "execution_count": 3,
   "metadata": {},
   "outputs": [],
   "source": [
    "import os, sys\n",
    "project_dir = os.path.join(os.getcwd(),'../..')\n",
    "if project_dir not in sys.path:\n",
    "    sys.path.append(project_dir)\n",
    "\n",
    "hyspeclab_dir = os.path.join(project_dir, 'HySpecLab')\n",
    "if hyspeclab_dir not in sys.path:\n",
    "    sys.path.append(hyspeclab_dir)\n",
    "\n",
    "ipdl_dir = os.path.join(project_dir, 'modules/IPDL')\n",
    "if ipdl_dir not in sys.path:\n",
    "    sys.path.append(ipdl_dir)\n",
    "\n",
    "ae_dir = os.path.join(project_dir, 'modules/AutoEncoder')\n",
    "if ae_dir not in sys.path:\n",
    "    sys.path.append(ae_dir)\n",
    "\n",
    "import torch\n",
    "\n",
    "device = 'cuda' if torch.cuda.is_available() else 'cpu'"
   ]
  },
  {
   "cell_type": "code",
   "execution_count": 173,
   "metadata": {},
   "outputs": [],
   "source": [
    "from torch import Tensor\n",
    "\n",
    "class EncoderPrior(nn.Module):\n",
    "    def __init__(self, in_channels, out_channels) -> None:\n",
    "        super(EncoderPrior, self).__init__()\n",
    "\n",
    "        self.encode = nn.Sequential(\n",
    "            nn.Conv2d(in_channels, out_channels, kernel_size=3, stride=1, padding=1),\n",
    "            nn.Sigmoid(),\n",
    "            nn.MaxPool2d(kernel_size=3, stride=2, padding=1),\n",
    "            nn.Conv2d(out_channels, out_channels, kernel_size=3, stride=1, padding=1),\n",
    "            nn.Sigmoid()\n",
    "        )\n",
    "\n",
    "    def forward(self, x: Tensor):\n",
    "        return self.encode(x)\n",
    "\n",
    "class Decoder(nn.Module):\n",
    "    def __init__(self, in_channels, out_channels) -> None:\n",
    "        super(Decoder, self).__init__()\n",
    "\n",
    "        self.decode = nn.Sequential(\n",
    "            nn.Upsample(scale_factor=2, mode='nearest'),\n",
    "            nn.Conv2d(in_channels, out_channels, kernel_size=3, stride=1, padding=1),\n",
    "            nn.Sigmoid(),\n",
    "            nn.Conv2d(out_channels, out_channels, kernel_size=3, stride=1, padding=1),\n",
    "            nn.Sigmoid()\n",
    "        )\n",
    "\n",
    "    def forward(self, x: Tensor):\n",
    "        return self.decode(x)\n",
    "\n",
    "# class UnDIP(nn.module):\n",
    "#     def __init__(self, in_channels : list, out_channels : list, skip_channels : list):\n",
    "#         super(UnDIP, self).__init__()\n",
    "#         if not(isinstance(in_channels, list)) or not(isinstance(out_channels, list)) or not(isinstance(skip_channels, list)):\n",
    "#             raise ValueError('Parameters must be list')\n",
    "\n",
    "#         if len(in_channels) != len(out_channels) != len(skip_channels):\n",
    "#             raise ValueError('The parameters must contain the samme number of elements')\n",
    "        \n",
    "#         for \n",
    "\n",
    "#         self.encoder = Prior(in_channels, )\n",
    "\n",
    "#         pass\n",
    "    \n",
    "#     def forward(self):\n",
    "# #         pass"
   ]
  },
  {
   "cell_type": "code",
   "execution_count": 177,
   "metadata": {},
   "outputs": [],
   "source": [
    "in_channels = [3, 25, 32, 64]\n",
    "out_channels = [3, 25, 32, 64]\n",
    "skip_channels = [2, 4, 6]"
   ]
  },
  {
   "cell_type": "code",
   "execution_count": 178,
   "metadata": {},
   "outputs": [],
   "source": [
    "from collections import deque\n",
    "from itertools import islice\n",
    "\n",
    "def sliding_window_iter(iterable, size):\n",
    "    '''\n",
    "        Iterate through iterable using a sliding window of several elements.\n",
    "        Important: It is a generator!.\n",
    "        \n",
    "        Creates an iterable where each element is a tuple of `size`\n",
    "        consecutive elements from `iterable`, advancing by 1 element each\n",
    "        time. For example:\n",
    "        >>> list(sliding_window_iter([1, 2, 3, 4], 2))\n",
    "        [(1, 2), (2, 3), (3, 4)]\n",
    "        \n",
    "        source: https://codereview.stackexchange.com/questions/239352/sliding-window-iteration-in-python\n",
    "    '''\n",
    "    iterable = iter(iterable)\n",
    "    window = deque(islice(iterable, size), maxlen=size)\n",
    "    for item in iterable:\n",
    "        yield tuple(window)\n",
    "        window.append(item)\n",
    "    if window:  \n",
    "        # needed because if iterable was already empty before the `for`,\n",
    "        # then the window would be yielded twice.\n",
    "        yield tuple(window)"
   ]
  },
  {
   "cell_type": "code",
   "execution_count": 180,
   "metadata": {},
   "outputs": [],
   "source": [
    "encode_modules = []\n",
    "for idx, (in_channel, out_channel) in enumerate(sliding_window_iter(in_channels, 2)):\n",
    "    encode_modules.append(EncoderPrior(in_channel, out_channel))\n",
    "\n",
    "decode_modules = []\n",
    "for idx, (in_channel, out_channel) in enumerate(sliding_window_iter(out_channels[::-1], 2)):\n",
    "    decode_modules.append(Decoder(in_channel + skip_channels[::-1][idx], out_channel))\n"
   ]
  },
  {
   "cell_type": "code",
   "execution_count": 181,
   "metadata": {},
   "outputs": [],
   "source": [
    "encoder = nn.Sequential(*encode_modules)\n",
    "decoder = nn.Sequential(*decode_modules)"
   ]
  },
  {
   "cell_type": "code",
   "execution_count": 182,
   "metadata": {},
   "outputs": [],
   "source": [
    "class Level(nn.Module):\n",
    "    def __init__(self, in_channels, out_channels, skip_channels = 0, deeper = None):\n",
    "        super(Level, self).__init__()\n",
    "\n",
    "        self.in_channels = in_channels\n",
    "        self.out_channels = out_channels if deeper else in_channels\n",
    "\n",
    "        if skip_channels:\n",
    "            self.skip_ = nn.Sequential(\n",
    "                nn.Conv2d(in_channels, skip_channels, kernel_size=1, stride=1),\n",
    "                nn.Sigmoid()\n",
    "            )\n",
    "\n",
    "        if not deeper:\n",
    "            self.f = EncoderPrior(in_channels, out_channels)\n",
    "            self.decoder = Decoder(out_channels + skip_channels, in_channels)\n",
    "        else:\n",
    "            if not isinstance(deeper, Level):\n",
    "                raise ValueError('Meh!')\n",
    "            \n",
    "            self.f = nn.Sequential(\n",
    "                EncoderPrior(in_channels, deeper.in_channels),\n",
    "                deeper\n",
    "            )\n",
    "\n",
    "            self.decoder = Decoder(deeper.out_channels + skip_channels, out_channels)\n",
    "\n",
    "    def forward(self, x: Tensor):\n",
    "        x = torch.cat([self.skip_(x), self.decoder.decode[0](self.f(x))], dim=1) if hasattr(self, 'skip_') else self.f(x)\n",
    "        print(x.shape)\n",
    "        return self.decoder.decode[1:](x) if hasattr(self, 'skip_') else self.decoder(x)\n"
   ]
  },
  {
   "cell_type": "code",
   "execution_count": 183,
   "metadata": {},
   "outputs": [],
   "source": [
    "test = Level(32, 64, skip_channels=5)\n",
    "test2 = Level(26, 12, deeper=test)\n",
    "test3 = Level(3, 6, deeper=test2, skip_channels=12)\n",
    "# test2 = Level(test, decoder[1])\n",
    "# test3 = Level(test2, decoder[2])"
   ]
  },
  {
   "cell_type": "code",
   "execution_count": 184,
   "metadata": {},
   "outputs": [
    {
     "name": "stdout",
     "output_type": "stream",
     "text": [
      "torch.Size([1, 69, 32, 32])\n",
      "torch.Size([1, 32, 32, 32])\n",
      "torch.Size([1, 24, 128, 128])\n"
     ]
    },
    {
     "data": {
      "text/plain": [
       "torch.Size([1, 6, 128, 128])"
      ]
     },
     "execution_count": 184,
     "metadata": {},
     "output_type": "execute_result"
    }
   ],
   "source": [
    "x = torch.rand((1,3,128,128))\n",
    "test3(x).shape"
   ]
  },
  {
   "cell_type": "code",
   "execution_count": 127,
   "metadata": {},
   "outputs": [
    {
     "name": "stdout",
     "output_type": "stream",
     "text": [
      "True\n"
     ]
    }
   ],
   "source": [
    "print(hasattr(test, 'skip_'))"
   ]
  },
  {
   "cell_type": "code",
   "execution_count": 185,
   "metadata": {},
   "outputs": [
    {
     "data": {
      "text/plain": [
       "Level(\n",
       "  (skip_): Sequential(\n",
       "    (0): Conv2d(3, 12, kernel_size=(1, 1), stride=(1, 1))\n",
       "    (1): Sigmoid()\n",
       "  )\n",
       "  (f): Sequential(\n",
       "    (0): EncoderPrior(\n",
       "      (encode): Sequential(\n",
       "        (0): Conv2d(3, 26, kernel_size=(3, 3), stride=(1, 1), padding=(1, 1))\n",
       "        (1): Sigmoid()\n",
       "        (2): MaxPool2d(kernel_size=3, stride=2, padding=1, dilation=1, ceil_mode=False)\n",
       "        (3): Conv2d(26, 26, kernel_size=(3, 3), stride=(1, 1), padding=(1, 1))\n",
       "        (4): Sigmoid()\n",
       "      )\n",
       "    )\n",
       "    (1): Level(\n",
       "      (f): Sequential(\n",
       "        (0): EncoderPrior(\n",
       "          (encode): Sequential(\n",
       "            (0): Conv2d(26, 32, kernel_size=(3, 3), stride=(1, 1), padding=(1, 1))\n",
       "            (1): Sigmoid()\n",
       "            (2): MaxPool2d(kernel_size=3, stride=2, padding=1, dilation=1, ceil_mode=False)\n",
       "            (3): Conv2d(32, 32, kernel_size=(3, 3), stride=(1, 1), padding=(1, 1))\n",
       "            (4): Sigmoid()\n",
       "          )\n",
       "        )\n",
       "        (1): Level(\n",
       "          (skip_): Sequential(\n",
       "            (0): Conv2d(32, 5, kernel_size=(1, 1), stride=(1, 1))\n",
       "            (1): Sigmoid()\n",
       "          )\n",
       "          (f): EncoderPrior(\n",
       "            (encode): Sequential(\n",
       "              (0): Conv2d(32, 64, kernel_size=(3, 3), stride=(1, 1), padding=(1, 1))\n",
       "              (1): Sigmoid()\n",
       "              (2): MaxPool2d(kernel_size=3, stride=2, padding=1, dilation=1, ceil_mode=False)\n",
       "              (3): Conv2d(64, 64, kernel_size=(3, 3), stride=(1, 1), padding=(1, 1))\n",
       "              (4): Sigmoid()\n",
       "            )\n",
       "          )\n",
       "          (decoder): Decoder(\n",
       "            (decode): Sequential(\n",
       "              (0): Upsample(scale_factor=2.0, mode=nearest)\n",
       "              (1): Conv2d(69, 32, kernel_size=(3, 3), stride=(1, 1), padding=(1, 1))\n",
       "              (2): Sigmoid()\n",
       "              (3): Conv2d(32, 32, kernel_size=(3, 3), stride=(1, 1), padding=(1, 1))\n",
       "              (4): Sigmoid()\n",
       "            )\n",
       "          )\n",
       "        )\n",
       "      )\n",
       "      (decoder): Decoder(\n",
       "        (decode): Sequential(\n",
       "          (0): Upsample(scale_factor=2.0, mode=nearest)\n",
       "          (1): Conv2d(32, 12, kernel_size=(3, 3), stride=(1, 1), padding=(1, 1))\n",
       "          (2): Sigmoid()\n",
       "          (3): Conv2d(12, 12, kernel_size=(3, 3), stride=(1, 1), padding=(1, 1))\n",
       "          (4): Sigmoid()\n",
       "        )\n",
       "      )\n",
       "    )\n",
       "  )\n",
       "  (decoder): Decoder(\n",
       "    (decode): Sequential(\n",
       "      (0): Upsample(scale_factor=2.0, mode=nearest)\n",
       "      (1): Conv2d(24, 6, kernel_size=(3, 3), stride=(1, 1), padding=(1, 1))\n",
       "      (2): Sigmoid()\n",
       "      (3): Conv2d(6, 6, kernel_size=(3, 3), stride=(1, 1), padding=(1, 1))\n",
       "      (4): Sigmoid()\n",
       "    )\n",
       "  )\n",
       ")"
      ]
     },
     "execution_count": 185,
     "metadata": {},
     "output_type": "execute_result"
    }
   ],
   "source": [
    "test3"
   ]
  },
  {
   "cell_type": "code",
   "execution_count": 79,
   "metadata": {},
   "outputs": [
    {
     "data": {
      "text/plain": [
       "Level(\n",
       "  (f): EncoderPrior(\n",
       "    (skip_): Sequential(\n",
       "      (0): Conv2d(25, 4, kernel_size=(1, 1), stride=(1, 1))\n",
       "      (1): Sigmoid()\n",
       "    )\n",
       "    (encode): Sequential(\n",
       "      (0): Conv2d(25, 32, kernel_size=(3, 3), stride=(1, 1), padding=(1, 1))\n",
       "      (1): Sigmoid()\n",
       "      (2): MaxPool2d(kernel_size=3, stride=2, padding=1, dilation=1, ceil_mode=False)\n",
       "      (3): Conv2d(32, 32, kernel_size=(3, 3), stride=(1, 1), padding=(1, 1))\n",
       "      (4): Sigmoid()\n",
       "    )\n",
       "  )\n",
       "  (decoder): Decoder(\n",
       "    (decode): Sequential(\n",
       "      (0): Upsample(scale_factor=2.0, mode=nearest)\n",
       "      (1): Conv2d(36, 25, kernel_size=(3, 3), stride=(1, 1), padding=(1, 1))\n",
       "      (2): Sigmoid()\n",
       "      (3): Conv2d(25, 25, kernel_size=(3, 3), stride=(1, 1), padding=(1, 1))\n",
       "      (4): Sigmoid()\n",
       "    )\n",
       "  )\n",
       ")"
      ]
     },
     "execution_count": 79,
     "metadata": {},
     "output_type": "execute_result"
    }
   ],
   "source": [
    "test2.f"
   ]
  },
  {
   "cell_type": "code",
   "execution_count": null,
   "metadata": {},
   "outputs": [],
   "source": []
  }
 ],
 "metadata": {
  "interpreter": {
   "hash": "15b37510c40f952771730cdce6ed2555d8094a99b7d6886f5b16bebe3e0bdfae"
  },
  "kernelspec": {
   "display_name": "Python 3.9.7 64-bit ('HySpecLab': conda)",
   "language": "python",
   "name": "python3"
  },
  "language_info": {
   "codemirror_mode": {
    "name": "ipython",
    "version": 3
   },
   "file_extension": ".py",
   "mimetype": "text/x-python",
   "name": "python",
   "nbconvert_exporter": "python",
   "pygments_lexer": "ipython3",
   "version": "3.9.7"
  },
  "orig_nbformat": 4
 },
 "nbformat": 4,
 "nbformat_minor": 2
}
