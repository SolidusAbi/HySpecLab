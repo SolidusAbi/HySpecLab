{
 "cells": [
  {
   "cell_type": "code",
   "execution_count": 1,
   "metadata": {},
   "outputs": [],
   "source": [
    "import torch\n",
    "from torch import nn"
   ]
  },
  {
   "cell_type": "code",
   "execution_count": 2,
   "metadata": {},
   "outputs": [],
   "source": [
    "import os, sys\n",
    "project_dir = os.path.join(os.getcwd(),'../..')\n",
    "if project_dir not in sys.path:\n",
    "    sys.path.append(project_dir)\n",
    "\n",
    "hyspeclab_dir = os.path.join(project_dir, 'HySpecLab')\n",
    "if hyspeclab_dir not in sys.path:\n",
    "    sys.path.append(hyspeclab_dir)\n",
    "\n",
    "ipdl_dir = os.path.join(project_dir, 'modules/IPDL')\n",
    "if ipdl_dir not in sys.path:\n",
    "    sys.path.append(ipdl_dir)\n",
    "\n",
    "ae_dir = os.path.join(project_dir, 'modules/AutoEncoder')\n",
    "if ae_dir not in sys.path:\n",
    "    sys.path.append(ae_dir)\n",
    "\n",
    "import numpy as np\n",
    "import torch\n",
    "import config\n",
    "\n",
    "device = 'cuda' if torch.cuda.is_available() else 'cpu'"
   ]
  },
  {
   "cell_type": "code",
   "execution_count": 3,
   "metadata": {},
   "outputs": [],
   "source": [
    "from torchvision.transforms import ToTensor\n",
    "\n",
    "def fill_noise(x, noise_type):\n",
    "    \"\"\"Fills tensor `x` with noise of type `noise_type`.\"\"\"\n",
    "    if noise_type == 'u':\n",
    "        x.uniform_()\n",
    "    elif noise_type == 'n':\n",
    "        x.normal_() \n",
    "    else:\n",
    "        assert False\n",
    "        \n",
    "def get_noise(input_depth, method, spatial_size, noise_type='u', var=1./10):\n",
    "    \"\"\"Returns a pytorch.Tensor of size (1 x `input_depth` x `spatial_size[0]` x `spatial_size[1]`) \n",
    "    initialized in a specific way.\n",
    "    Args:\n",
    "        input_depth: number of channels in the tensor\n",
    "        method: `noise` for fillting tensor with noise; `meshgrid` for np.meshgrid\n",
    "        spatial_size: spatial size of the tensor to initialize\n",
    "        noise_type: 'u' for uniform; 'n' for normal\n",
    "        var: a factor, a noise will be multiplicated by. Basically it is standard deviation scaler. \n",
    "    \"\"\"\n",
    "    if isinstance(spatial_size, int):\n",
    "        spatial_size = (spatial_size, spatial_size)\n",
    "    if method == 'noise':\n",
    "        shape = [1, input_depth, spatial_size[0], spatial_size[1]]\n",
    "        net_input = torch.zeros(shape)\n",
    "        \n",
    "        fill_noise(net_input, noise_type)\n",
    "        net_input *= var            \n",
    "    elif method == 'meshgrid': \n",
    "        assert input_depth == 2\n",
    "        X, Y = np.meshgrid(np.arange(0, spatial_size[1])/float(spatial_size[1]-1), np.arange(0, spatial_size[0])/float(spatial_size[0]-1))\n",
    "        meshgrid = np.concatenate([X[None,:], Y[None,:]])\n",
    "        net_input=  ToTensor()(meshgrid)\n",
    "    else:\n",
    "        assert False\n",
    "        \n",
    "    return net_input"
   ]
  },
  {
   "cell_type": "markdown",
   "metadata": {},
   "source": [
    "# Data"
   ]
  },
  {
   "cell_type": "code",
   "execution_count": 4,
   "metadata": {},
   "outputs": [],
   "source": [
    "from scipy.io import loadmat\n",
    "mat = loadmat(os.path.join(config.DERMA_DATASET_DIR, 'train/P32_C1000.mat'))\n",
    "X = mat['preProcessedImage'].astype(np.float64)"
   ]
  },
  {
   "cell_type": "code",
   "execution_count": 5,
   "metadata": {},
   "outputs": [
    {
     "name": "stdout",
     "output_type": "stream",
     "text": [
      "Endmember shape: torch.Size([1, 116, 6])\n"
     ]
    }
   ],
   "source": [
    "from pysptools import eea\n",
    "\n",
    "ee = eea.NFINDR()\n",
    "U = torch.tensor(ee.extract(X, 6, maxit=1024, normalize=False,ATGP_init=True))\n",
    "U_tensor = torch.unsqueeze(U.T, dim=0)\n",
    "print('Endmember shape: {}'.format(U_tensor.shape))"
   ]
  },
  {
   "cell_type": "code",
   "execution_count": 6,
   "metadata": {},
   "outputs": [],
   "source": [
    "from torchvision.transforms import Compose, ToTensor, Resize, InterpolationMode\n",
    "\n",
    "transform = Compose([\n",
    "    ToTensor(),\n",
    "    Resize((64,64), InterpolationMode.NEAREST)\n",
    "])"
   ]
  },
  {
   "cell_type": "code",
   "execution_count": 7,
   "metadata": {},
   "outputs": [
    {
     "name": "stdout",
     "output_type": "stream",
     "text": [
      "Z shape: torch.Size([1, 116, 64, 64])\n",
      "HyperCube shape: torch.Size([1, 116, 64, 64])\n"
     ]
    }
   ],
   "source": [
    "X = torch.unsqueeze(transform(X), dim=0)\n",
    "noisy_input = get_noise(X.shape[1], 'noise', X.shape[2:], noise_type='u')\n",
    "\n",
    "print('Z shape: {}'.format(noisy_input.shape))\n",
    "print('HyperCube shape: {}'.format(X.shape))"
   ]
  },
  {
   "cell_type": "code",
   "execution_count": 55,
   "metadata": {},
   "outputs": [],
   "source": [
    "from HySpecLab.unmixing import UnDIP\n",
    "\n",
    "n_bands = X.shape[1]\n",
    "n_endmembers = U.shape[0]\n",
    "\n",
    "in_channels = [n_bands, 256]\n",
    "out_channels = [32, 128]\n",
    "skip_channels = [4, 8]\n",
    "\n",
    "model = UnDIP(in_channels, out_channels, skip_channels, n_endmembers)"
   ]
  },
  {
   "cell_type": "code",
   "execution_count": 56,
   "metadata": {},
   "outputs": [
    {
     "data": {
      "text/plain": [
       "torch.Size([1, 6, 64, 64])"
      ]
     },
     "execution_count": 56,
     "metadata": {},
     "output_type": "execute_result"
    }
   ],
   "source": [
    "output = model(noisy_input)\n",
    "output.shape"
   ]
  },
  {
   "cell_type": "code",
   "execution_count": 57,
   "metadata": {},
   "outputs": [],
   "source": [
    "batch_size = output.shape[0]\n",
    "w, h = output.shape[2:]\n",
    "criterion = nn.MSELoss()\n",
    "restoration = torch.matmul(U_tensor, output.flatten(start_dim=2)).reshape((batch_size, n_bands, w, h))"
   ]
  },
  {
   "cell_type": "code",
   "execution_count": 58,
   "metadata": {},
   "outputs": [
    {
     "data": {
      "text/plain": [
       "tensor(0.0056, dtype=torch.float64, grad_fn=<MseLossBackward0>)"
      ]
     },
     "execution_count": 58,
     "metadata": {},
     "output_type": "execute_result"
    }
   ],
   "source": [
    "criterion(X, restoration)"
   ]
  },
  {
   "cell_type": "markdown",
   "metadata": {},
   "source": [
    "# Train"
   ]
  },
  {
   "cell_type": "code",
   "execution_count": 109,
   "metadata": {},
   "outputs": [
    {
     "name": "stderr",
     "output_type": "stream",
     "text": [
      "100%|██████████| 5000/5000 [03:26<00:00, 24.17epoch/s, tls=0.0010]\n"
     ]
    }
   ],
   "source": [
    "from tqdm import tqdm\n",
    "from torch.utils.tensorboard import SummaryWriter\n",
    "from torchvision.utils import make_grid\n",
    "\n",
    "n_bands = X.shape[1]\n",
    "w, h = X.shape[2:]\n",
    "\n",
    "n_epoch = 5000\n",
    "optimizer = torch.optim.Adam(model.parameters(), lr=5e-4)\n",
    "scheduler = torch.optim.lr_scheduler.ExponentialLR(optimizer, gamma=0.999)\n",
    "criterion = nn.MSELoss()\n",
    "\n",
    "model = model.to(device)\n",
    "\n",
    "epoch_iterator = tqdm(\n",
    "        range(n_epoch),\n",
    "        leave=True,\n",
    "        unit=\"epoch\",\n",
    "        postfix={\"tls\": \"%.4f\" % 1},\n",
    "    )\n",
    "\n",
    "tb_writer = SummaryWriter('logs/test')\n",
    "show_band_idx = np.linspace(0, X.shape[1]-1, num=16, dtype=np.int64)\n",
    "target_imgs = torch.unsqueeze(X[0, show_band_idx], dim=1)\n",
    "img_grid = make_grid(target_imgs)\n",
    "tb_writer.add_image('Target', img_grid, 0)\n",
    "\n",
    "noisy_input = noisy_input.to(device)\n",
    "\n",
    "for epoch in epoch_iterator:\n",
    "    output = model(noisy_input)\n",
    "\n",
    "    restoration = torch.matmul(U_tensor.to(device), output.flatten(start_dim=2)).reshape((1, n_bands, w, h))\n",
    "\n",
    "    rest_imgs = torch.unsqueeze(restoration[0, show_band_idx], dim=1)\n",
    "    img_grid = make_grid(rest_imgs)\n",
    "    tb_writer.add_image('Output', img_grid, epoch)\n",
    "\n",
    "    batch_loss = criterion(restoration, X.float().to(device))\n",
    "\n",
    "    epoch_iterator.set_postfix(tls=\"%.4f\" % np.mean(batch_loss.detach().item()))\n",
    "\n",
    "    optimizer.zero_grad()\n",
    "    batch_loss.backward()\n",
    "    optimizer.step()\n",
    "    scheduler.step()\n",
    "\n",
    "\n",
    "    # epoch_iterator.set_postfix(tls=\"%.4f\" % np.mean(batch_loss.detach().item())                )\n",
    "    \n"
   ]
  },
  {
   "cell_type": "markdown",
   "metadata": {},
   "source": [
    "# Testing"
   ]
  },
  {
   "cell_type": "code",
   "execution_count": 59,
   "metadata": {},
   "outputs": [],
   "source": [
    "from torch.utils.tensorboard import SummaryWriter\n",
    "from torchvision.utils import make_grid"
   ]
  },
  {
   "cell_type": "code",
   "execution_count": 60,
   "metadata": {},
   "outputs": [],
   "source": [
    "tb_writer = SummaryWriter('logs/test')"
   ]
  },
  {
   "cell_type": "code",
   "execution_count": 83,
   "metadata": {},
   "outputs": [],
   "source": [
    "idx = np.linspace(0, X.shape[1]-1, num=16, dtype=np.int64)\n",
    "test = torch.unsqueeze(restoration[0, idx], dim=1)\n",
    "target_imgs = torch.unsqueeze(X[0, idx], dim=1)\n",
    "# idx"
   ]
  },
  {
   "cell_type": "code",
   "execution_count": 84,
   "metadata": {},
   "outputs": [],
   "source": [
    "img_grid = make_grid(test)\n",
    "tb_writer.add_image('Output', img_grid, 0)"
   ]
  },
  {
   "cell_type": "code",
   "execution_count": 85,
   "metadata": {},
   "outputs": [],
   "source": [
    "img_grid = make_grid(target_imgs)\n",
    "tb_writer.add_image('Target', img_grid, 0)"
   ]
  },
  {
   "cell_type": "code",
   "execution_count": 79,
   "metadata": {},
   "outputs": [
    {
     "data": {
      "text/plain": [
       "tensor(0., dtype=torch.float64)"
      ]
     },
     "execution_count": 79,
     "metadata": {},
     "output_type": "execute_result"
    }
   ],
   "source": [
    "X.min()"
   ]
  },
  {
   "cell_type": "code",
   "execution_count": null,
   "metadata": {},
   "outputs": [],
   "source": []
  }
 ],
 "metadata": {
  "interpreter": {
   "hash": "15b37510c40f952771730cdce6ed2555d8094a99b7d6886f5b16bebe3e0bdfae"
  },
  "kernelspec": {
   "display_name": "Python 3.9.7 64-bit ('HySpecLab': conda)",
   "language": "python",
   "name": "python3"
  },
  "language_info": {
   "codemirror_mode": {
    "name": "ipython",
    "version": 3
   },
   "file_extension": ".py",
   "mimetype": "text/x-python",
   "name": "python",
   "nbconvert_exporter": "python",
   "pygments_lexer": "ipython3",
   "version": "3.9.7"
  },
  "orig_nbformat": 4
 },
 "nbformat": 4,
 "nbformat_minor": 2
}
