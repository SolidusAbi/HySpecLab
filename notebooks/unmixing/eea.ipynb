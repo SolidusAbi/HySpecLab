{
 "cells": [
  {
   "cell_type": "code",
   "execution_count": 1,
   "metadata": {},
   "outputs": [],
   "source": [
    "import os, sys\n",
    "project_dir = os.path.join(os.getcwd(),'../..')\n",
    "if project_dir not in sys.path:\n",
    "    sys.path.append(project_dir)\n",
    "\n",
    "hyspeclab_dir = os.path.join(project_dir, 'HySpecLab')\n",
    "if hyspeclab_dir not in sys.path:\n",
    "    sys.path.append(hyspeclab_dir)\n",
    "\n",
    "ipdl_dir = os.path.join(project_dir, 'modules/IPDL')\n",
    "if ipdl_dir not in sys.path:\n",
    "    sys.path.append(ipdl_dir)\n",
    "\n",
    "ipdl_dir = os.path.join(project_dir, 'modules/SVDD')\n",
    "if ipdl_dir not in sys.path:\n",
    "    sys.path.append(ipdl_dir)\n",
    "\n",
    "import numpy as np\n",
    "import torch\n",
    "import config\n",
    "import torch\n",
    "from torch import nn\n",
    "\n",
    "device = 'cuda' if torch.cuda.is_available() else 'cpu'"
   ]
  },
  {
   "cell_type": "code",
   "execution_count": 2,
   "metadata": {},
   "outputs": [],
   "source": [
    "from scipy.io import loadmat\n",
    "\n",
    "dataset_path = os.path.join(config.DERMA_DATASET_DIR, 'train/')\n",
    "subjects = os.listdir(dataset_path)[::12]\n",
    "\n",
    "subject_data = []\n",
    "for i in subjects:\n",
    "    mat = loadmat(os.path.join(dataset_path, i))\n",
    "    subject_data.append(mat['preProcessedImage'].astype(np.float64)[np.newaxis,:])\n",
    "\n",
    "subject_data = np.nan_to_num(np.concatenate(subject_data))"
   ]
  },
  {
   "cell_type": "code",
   "execution_count": null,
   "metadata": {},
   "outputs": [],
   "source": [
    "import scipy as sp\n",
    "import scipy.linalg as splin\n",
    "\n",
    "#############################################\n",
    "# Internal functions\n",
    "#############################################\n",
    "\n",
    "def estimate_snr(Y,r_m,x):\n",
    "\n",
    "  [L, N] = Y.shape           # L number of bands (channels), N number of pixels\n",
    "  [p, N] = x.shape           # p number of endmembers (reduced dimension)\n",
    "  \n",
    "  P_y     = np.sum(Y**2)/float(N)\n",
    "  P_x     = np.sum(x**2)/float(N) + np.sum(r_m**2)\n",
    "  return 10*np.log10( (P_x - p/L*P_y)/(P_y - P_x) )\n",
    "\n",
    "\n",
    "def vca(Y,R,verbose = True,snr_input = 0):\n",
    "# Vertex Component Analysis\n",
    "#\n",
    "# Ae, indice, Yp = vca(Y,R,verbose = True,snr_input = 0)\n",
    "#\n",
    "# ------- Input variables -------------\n",
    "#  Y - matrix with dimensions L(channels) x N(pixels)\n",
    "#      each pixel is a linear mixture of R endmembers\n",
    "#      signatures Y = M x s, where s = gamma x alfa\n",
    "#      gamma is a illumination perturbation factor and\n",
    "#      alfa are the abundance fractions of each endmember.\n",
    "#  R - positive integer number of endmembers in the scene\n",
    "#\n",
    "# ------- Output variables -----------\n",
    "# Ae     - estimated mixing matrix (endmembers signatures)\n",
    "# indice - pixels that were chosen to be the most pure\n",
    "# Yp     - Data matrix Y projected.   \n",
    "#\n",
    "# ------- Optional parameters---------\n",
    "# snr_input - (float) signal to noise ratio (dB)\n",
    "# v         - [True | False]\n",
    "# ------------------------------------\n",
    "#\n",
    "# Author: Adrien Lagrange (adrien.lagrange@enseeiht.fr)\n",
    "# This code is a translation of a matlab code provided by \n",
    "# Jose Nascimento (zen@isel.pt) and Jose Bioucas Dias (bioucas@lx.it.pt)\n",
    "# available at http://www.lx.it.pt/~bioucas/code.htm under a non-specified Copyright (c)\n",
    "# Translation of last version at 22-February-2018 (Matlab version 2.1 (7-May-2004))\n",
    "#\n",
    "# more details on:\n",
    "# Jose M. P. Nascimento and Jose M. B. Dias \n",
    "# \"Vertex Component Analysis: A Fast Algorithm to Unmix Hyperspectral Data\"\n",
    "# submited to IEEE Trans. Geosci. Remote Sensing, vol. .., no. .., pp. .-., 2004\n",
    "# \n",
    "# \n",
    "\n",
    "  #############################################\n",
    "  # Initializations\n",
    "  #############################################\n",
    "  if len(Y.shape)!=2:\n",
    "    sys.exit('Input data must be of size L (number of bands i.e. channels) by N (number of pixels)')\n",
    "\n",
    "  [L, N]=Y.shape   # L number of bands (channels), N number of pixels\n",
    "       \n",
    "  R = int(R)\n",
    "  if (R<0 or R>L):  \n",
    "    sys.exit('ENDMEMBER parameter must be integer between 1 and L')\n",
    "        \n",
    "  #############################################\n",
    "  # SNR Estimates\n",
    "  #############################################\n",
    "\n",
    "  if snr_input==0:\n",
    "    y_m = np.mean(Y,axis=1,keepdims=True)\n",
    "    Y_o = Y - y_m           # data with zero-mean\n",
    "    Ud  = splin.svd(np.dot(Y_o,Y_o.T)/float(N))[0][:,:R]  # computes the R-projection matrix \n",
    "    x_p = np.dot(Ud.T, Y_o)                 # project the zero-mean data onto p-subspace\n",
    "\n",
    "    SNR = estimate_snr(Y,y_m,x_p)\n",
    "\n",
    "  else:\n",
    "    SNR = snr_input\n",
    "    \n",
    "  if verbose:\n",
    "    print(\"input SNR = {}[dB]\\n\".format(SNR))\n",
    "\n",
    "  SNR_th = 15 + 10*np.log10(R)\n",
    "         \n",
    "  #############################################\n",
    "  # Choosing Projective Projection or \n",
    "  #          projection to R-1 subspace\n",
    "  #############################################\n",
    "\n",
    "  if SNR < SNR_th:\n",
    "    if verbose:\n",
    "      print(\"... Select proj. to R-1\")\n",
    "                \n",
    "      d = R-1\n",
    "      if snr_input==0: # it means that the projection is already computed\n",
    "        Ud = Ud[:,:d]\n",
    "      else:\n",
    "        y_m = np.mean(Y,axis=1,keepdims=True)\n",
    "        Y_o = Y - y_m  # data with zero-mean \n",
    "         \n",
    "        Ud  = splin.svd(np.dot(Y_o,Y_o.T)/float(N))[0][:,:d]  # computes the p-projection matrix \n",
    "        x_p =  np.dot(Ud.T,Y_o)                 # project thezeros mean data onto p-subspace\n",
    "                \n",
    "      Yp =  np.dot(Ud,x_p[:d,:]) + y_m      # again in dimension L\n",
    "                \n",
    "      x = x_p[:d,:] #  x_p =  Ud.T * Y_o is on a R-dim subspace\n",
    "      c = np.amax(np.sum(x**2,axis=0))**0.5\n",
    "      y = np.vstack(( x, c*np.ones((1,N)) ))\n",
    "  else:\n",
    "    if verbose:\n",
    "      print(\"... Select the projective proj.\")\n",
    "             \n",
    "    d = R\n",
    "    Ud  = splin.svd(np.dot(Y,Y.T)/float(N))[0][:,:d] # computes the p-projection matrix \n",
    "                \n",
    "    x_p = np.dot(Ud.T,Y)\n",
    "    Yp =  np.dot(Ud,x_p[:d,:])      # again in dimension L (note that x_p has no null mean)\n",
    "                \n",
    "    x =  np.dot(Ud.T,Y)\n",
    "    u = np.mean(x,axis=1,keepdims=True)        #equivalent to  u = Ud.T * r_m\n",
    "    y =  x / (np.dot(u.T,x) + 1e-16)\n",
    "\n",
    "  #############################################\n",
    "  # VCA algorithm\n",
    "  #############################################\n",
    "\n",
    "  indice = np.zeros((R),dtype=int)\n",
    "  A = np.zeros((R,R))\n",
    "  A[-1,0] = 1\n",
    "\n",
    "  for i in range(R):\n",
    "    w = np.random.rand(R,1);   \n",
    "    f = w - np.dot(A,np.dot(splin.pinv(A),w))\n",
    "    f = f / splin.norm(f)\n",
    "      \n",
    "    v = np.dot(f.T,y)\n",
    "\n",
    "    indice[i] = np.argmax(np.absolute(v))\n",
    "    A[:,i] = y[:,indice[i]]        # same as x(:,indice(i))\n",
    "\n",
    "  Ae = Yp[:,indice]\n",
    "\n",
    "  return Ae,indice,Yp"
   ]
  },
  {
   "cell_type": "code",
   "execution_count": null,
   "metadata": {},
   "outputs": [],
   "source": [
    "data = subject_data.reshape(subject_data.shape[0]*subject_data.shape[1]*subject_data.shape[2], subject_data.shape[3])\n",
    "data = data.T\n",
    "Ae, indice, Yp = vca(data, 4, True, 0)"
   ]
  },
  {
   "cell_type": "code",
   "execution_count": null,
   "metadata": {},
   "outputs": [],
   "source": [
    "from matplotlib import pyplot as plt\n",
    "plt.plot(Ae)\n",
    "plt.show()"
   ]
  },
  {
   "cell_type": "code",
   "execution_count": null,
   "metadata": {},
   "outputs": [],
   "source": [
    "indice"
   ]
  },
  {
   "cell_type": "code",
   "execution_count": null,
   "metadata": {},
   "outputs": [],
   "source": [
    "plt.plot(data[:,indice])"
   ]
  },
  {
   "cell_type": "code",
   "execution_count": null,
   "metadata": {},
   "outputs": [],
   "source": [
    "from sklearn.base import BaseEstimator, TransformerMixin\n",
    "from sklearn.utils.validation import check_is_fitted\n",
    "import scipy.linalg as splin\n",
    "\n",
    "class VCA(TransformerMixin, BaseEstimator):\n",
    "    def __init__(self, n_endmembers:int, snr_input=0):\n",
    "        super(VCA, self).__init__()\n",
    "        self.n_endmembers = n_endmembers\n",
    "        self.snr_input = snr_input\n",
    "\n",
    "    def fit(self, X, y=None):\n",
    "        '''\n",
    "            Parameters\n",
    "            ----------\n",
    "                X : array, shape (n_samples, n_features)\n",
    "                    Matrix with dimensions N (number of pixels) x L (number of  channels). Each pixel is a\n",
    "                    linear mixture of R endmembers signatures Y = M x s, where s = gamma x alfa.\n",
    "                    Gamma is a illumination perturbation factor and alfa are the abundance\n",
    "                    fractions of each endmember\n",
    "\n",
    "                y : any, default=None\n",
    "                    Ignored. This parameter exists only for compatibility with\n",
    "                    sklearn.pipeline.Pipeline.\n",
    "\n",
    "            Returns\n",
    "            -------\n",
    "            self : object\n",
    "                Returns the instance itself.\n",
    "        '''\n",
    "        X_ = X.T\n",
    "        L, N = X_.shape   # L number of bands (channels), N number of pixels\n",
    "        R = self.n_endmembers\n",
    "\n",
    "        if (self.n_endmembers<0 or self.n_endmembers>L):\n",
    "            raise ValueError('Number of endmemembers parameter must be integer between 1 and L')\n",
    "\n",
    "        if self.snr_input == 0:\n",
    "            y_m = np.mean(X_,axis=1,keepdims=True)\n",
    "            Y_o = X_ - y_m           # data with zero-mean\n",
    "            Ud  = splin.svd(np.dot(Y_o,Y_o.T)/float(N))[0][:,:R]  # computes the R-projection matrix \n",
    "            x_p = np.dot(Ud.T, Y_o)                 # project the zero-mean data onto p-subspace\n",
    "\n",
    "            SNR = self._estimate_snr(X_,y_m,x_p)\n",
    "        else:\n",
    "            SNR = self.snr_input\n",
    "\n",
    "        SNR_th = 15 + 10*np.log10(R)\n",
    "\n",
    "        if SNR < SNR_th:\n",
    "            # ... Select proj. to R-1\n",
    "            d = R-1\n",
    "            if self.snr_input==0: # it means that the projection is already computed\n",
    "                Ud = Ud[:,:d]\n",
    "            else:\n",
    "                y_m = np.mean(X_,axis=1,keepdims=True)\n",
    "                Y_o = X_ - y_m  # data with zero-mean \n",
    "                \n",
    "                Ud  = splin.svd(np.dot(Y_o,Y_o.T)/float(N))[0][:,:d]  # computes the p-projection matrix \n",
    "                x_p =  np.dot(Ud.T,Y_o)                 # project the zeros-mean data onto p-subspace\n",
    "                        \n",
    "            Yp =  np.dot(Ud,x_p[:d,:]) + y_m      # again in dimension L\n",
    "                        \n",
    "            x = x_p[:d,:] #  x_p =  Ud.T * Y_o is on a R-dim subspace\n",
    "            c = np.amax(np.sum(x**2,axis=0))**0.5\n",
    "            y = np.vstack(( x, c*np.ones((1,N)) ))\n",
    "\n",
    "        else: \n",
    "            # ... Select the projective proj.\n",
    "                    \n",
    "            d = R\n",
    "            Ud  = splin.svd(np.dot(X_,X_.T)/float(N))[0][:,:d] # computes the p-projection matrix \n",
    "                        \n",
    "            x_p = np.dot(Ud.T,X_)\n",
    "            Yp =  np.dot(Ud,x_p[:d,:])      # again in dimension L (note that x_p has no null mean)\n",
    "                        \n",
    "            x =  np.dot(Ud.T,X_)\n",
    "            u = np.mean(x,axis=1,keepdims=True)        #equivalent to  u = Ud.T * r_m\n",
    "            y =  x / (np.dot(u.T,x) + 1e-16)\n",
    "\n",
    "        #############################################\n",
    "        # VCA algorithm\n",
    "        #############################################\n",
    "\n",
    "        indice = np.zeros((R),dtype=int)\n",
    "        A = np.zeros((R,R))\n",
    "        A[-1,0] = 1\n",
    "\n",
    "        for i in range(R):\n",
    "            w = np.random.rand(R,1);   \n",
    "            f = w - np.dot(A,np.dot(splin.pinv(A),w))\n",
    "            f = f / splin.norm(f)\n",
    "            \n",
    "            v = np.dot(f.T,y)\n",
    "\n",
    "            indice[i] = np.argmax(np.absolute(v))\n",
    "            A[:,i] = y[:,indice[i]]        # same as x(:,indice(i))\n",
    "\n",
    "        Ae = Yp[:,indice]\n",
    "\n",
    "        self.Ae_ = Ae\n",
    "        self.idx_ = indice\n",
    "        self.Xp_ = Yp\n",
    "        \n",
    "        return self\n",
    "\n",
    "    def transform(self, X, y=None, **kwargs):\n",
    "        check_is_fitted(self)\n",
    "        return self.Xp_[:,self.idx_]\n",
    "\n",
    "    def _estimate_snr(self, X, X_mean_0, reduced_x) -> float:\n",
    "        L, N = X.shape          # L number of bands (channels), N number of pixels\n",
    "        p, N = reduced_x.shape  # p number of endmembers (reduced dimension)\n",
    "        \n",
    "        P_y     = np.sum(X**2)/float(N)\n",
    "        P_x     = np.sum(reduced_x**2)/float(N) + np.sum(X_mean_0**2)\n",
    "        return 10*np.log10( (P_x - p/L*P_y)/(P_y - P_x) )\n"
   ]
  },
  {
   "cell_type": "code",
   "execution_count": null,
   "metadata": {},
   "outputs": [],
   "source": [
    "eea = VCA(4)\n",
    "data = subject_data.reshape(subject_data.shape[0]*subject_data.shape[1]*subject_data.shape[2], subject_data.shape[3])\n",
    "endmembers = eea.fit_transform(data)"
   ]
  },
  {
   "cell_type": "code",
   "execution_count": null,
   "metadata": {},
   "outputs": [],
   "source": [
    "from matplotlib import pyplot as plt\n",
    "plt.plot(endmembers)\n",
    "plt.show()"
   ]
  },
  {
   "cell_type": "code",
   "execution_count": null,
   "metadata": {},
   "outputs": [],
   "source": [
    "y_m = np.mean(data,axis=1,keepdims=True)\n",
    "y_m.shape"
   ]
  },
  {
   "cell_type": "code",
   "execution_count": null,
   "metadata": {},
   "outputs": [],
   "source": [
    "Y_o = data - y_m\n",
    "Y_o.shape"
   ]
  },
  {
   "cell_type": "code",
   "execution_count": null,
   "metadata": {},
   "outputs": [],
   "source": [
    "R=3\n",
    "N=Y_o.shape[1]\n",
    "Ud  = splin.svd(np.dot(Y_o,Y_o.T)/float(N))[0][:,:R]"
   ]
  },
  {
   "cell_type": "code",
   "execution_count": null,
   "metadata": {},
   "outputs": [],
   "source": [
    "# Ud = np.linalg.svd(np.dot(Y_o,Y_o.T)/N)[0][:,:R]"
   ]
  },
  {
   "cell_type": "code",
   "execution_count": null,
   "metadata": {},
   "outputs": [],
   "source": [
    "x_p = np.dot(Ud.T, Y_o)\n",
    "\n",
    "SNR = estimate_snr(data,y_m,x_p)\n",
    "SNR"
   ]
  },
  {
   "cell_type": "code",
   "execution_count": null,
   "metadata": {},
   "outputs": [],
   "source": [
    "from sklearn.decomposition import KernelPCA\n",
    "\n",
    "data = subject_data.reshape(subject_data.shape[0]*subject_data.shape[1]*subject_data.shape[2], subject_data.shape[3])\n",
    "\n",
    "kpca = KernelPCA(n_components=6, kernel=\"rbf\", gamma=0.1, fit_inverse_transform=True)\n",
    "data_kpca = kpca.fit_transform(data)"
   ]
  },
  {
   "cell_type": "code",
   "execution_count": null,
   "metadata": {},
   "outputs": [],
   "source": [
    "data_kpca.shape"
   ]
  },
  {
   "cell_type": "code",
   "execution_count": null,
   "metadata": {},
   "outputs": [],
   "source": [
    "from SVDD import BaseSVDD\n",
    "data = subject_data.reshape(subject_data.shape[0]*subject_data.shape[1]*subject_data.shape[2], subject_data.shape[3])\n",
    "\n",
    "eea = BaseSVDD(C=0.9, gamma=0.3, kernel='rbf', display='on')\n",
    "eea.fit(data[:3000])\n",
    "# endmembers = eea.fit_transform(data)"
   ]
  },
  {
   "cell_type": "code",
   "execution_count": 2,
   "metadata": {},
   "outputs": [],
   "source": [
    "from HySpecLab.dataset import DermaDataset\n",
    "\n",
    "train_dir = ['train', 'validation']\n",
    "dataset_dir = list(map(lambda x: os.path.join(config.DERMA_DATASET_DIR, x), train_dir))\n",
    "\n",
    "dataset = DermaDataset(dataset_dir)"
   ]
  },
  {
   "cell_type": "code",
   "execution_count": 70,
   "metadata": {},
   "outputs": [],
   "source": [
    "from imblearn.under_sampling import RandomUnderSampler, NearMiss\n",
    "\n",
    "# Randomly selecting a subset of data for the targeted classes:\n",
    "# rus = RandomUnderSampler(random_state=123)\n",
    "# x, y = rus.fit_resample(x, y)\n",
    "\n",
    "# # Let positive samples be the samples belonging to the targeted class to be under-sampled. \n",
    "# # Negative sample refers to the samples from the minority class.\n",
    "# # Select the positive samples for which the average distance to the N closest samples of the negative \n",
    "# # class is the smallest\n",
    "sampling_strategy = {0: 1500, 1: 1500}\n",
    "nm = NearMiss(sampling_strategy=sampling_strategy, version=1)\n",
    "x, y = dataset.get(dataframe=False)\n",
    "X_resampled, y_resampled = nm.fit_resample(x, y)"
   ]
  },
  {
   "cell_type": "code",
   "execution_count": 71,
   "metadata": {},
   "outputs": [],
   "source": [
    "import scipy.linalg as splin\n",
    "\n",
    "def _proj_subspace(X, d):\n",
    "    '''\n",
    "        Project data onto a subspace d. This method uses SVD. SVD and PCA are\n",
    "        also equal in the case of zero-mean data.\n",
    "\n",
    "        Params\n",
    "        -----\n",
    "        X : array, shape (n_features, n_samples)\n",
    "            Data that will be projected in the subspace d.\n",
    "\n",
    "        d : int\n",
    "            Space where the zero-mean data will be projected.\n",
    "\n",
    "        Return\n",
    "        ------\n",
    "            (Data projected onto subspace d, Tranform matrix which project data onto d-space).\n",
    "    '''\n",
    "    _, N = X.shape\n",
    "    Ud  = splin.svd(np.dot(X,X.T)/float(N))[0][:,:d]   # computes the d-projection matrix \n",
    "    return (np.dot(Ud.T, X), Ud)"
   ]
  },
  {
   "cell_type": "code",
   "execution_count": 158,
   "metadata": {},
   "outputs": [],
   "source": [
    "n_endmembers = 3\n",
    "\n",
    "data_p, Ud = _proj_subspace(X_resampled.T, n_endmembers)"
   ]
  },
  {
   "cell_type": "code",
   "execution_count": 159,
   "metadata": {},
   "outputs": [],
   "source": [
    "Xp = np.dot(Ud,data_p[:n_endmembers,:]) # again in dimension L (note that X_p has no zero mean)"
   ]
  },
  {
   "cell_type": "code",
   "execution_count": 172,
   "metadata": {},
   "outputs": [
    {
     "name": "stdout",
     "output_type": "stream",
     "text": [
      "0.09354573454818554\n"
     ]
    }
   ],
   "source": [
    "n, d = X_resampled.shape\n",
    "sigma = 0.1 * (n ** (-1 / (4 + d)))\n",
    "print(sigma)"
   ]
  },
  {
   "cell_type": "code",
   "execution_count": 173,
   "metadata": {},
   "outputs": [
    {
     "data": {
      "text/plain": [
       "BaseSVDD(C=[0.9, 1], display='off', gamma=0.09354573454818554)"
      ]
     },
     "execution_count": 173,
     "metadata": {},
     "output_type": "execute_result"
    }
   ],
   "source": [
    "from SVDD import BaseSVDD\n",
    "\n",
    "eea = BaseSVDD(C=0.9, gamma=sigma, kernel='rbf', display='off')\n",
    "eea.fit(data_p.T)"
   ]
  },
  {
   "cell_type": "code",
   "execution_count": 174,
   "metadata": {},
   "outputs": [
    {
     "name": "stdout",
     "output_type": "stream",
     "text": [
      "[ 424  962 1084 2462 2623 2936 2975]\n",
      "[[2.14128471e-01]\n",
      " [5.94701984e-02]\n",
      " [1.48883080e-01]\n",
      " [2.67183419e-01]\n",
      " [1.46664511e-01]\n",
      " [1.32281235e-05]\n",
      " [1.63656596e-01]]\n",
      "[[0.14888308]\n",
      " [0.1636566 ]\n",
      " [0.21412847]\n",
      " [0.26718342]]\n",
      "[1084 2975  424 2462]\n"
     ]
    }
   ],
   "source": [
    "print(eea.support_vector_indices)\n",
    "print(eea.support_vector_alpha)\n",
    "choosen = np.argsort(eea.support_vector_alpha, axis=0)[-(n_endmembers+1)::].flatten()\n",
    "print(eea.support_vector_alpha[choosen])\n",
    "print(eea.support_vector_indices[choosen])\n",
    "\n",
    "eea.support_vector_alpha = eea.support_vector_alpha[choosen]\n",
    "eea.support_vector_indices = eea.support_vector_indices[choosen]\n",
    "# print(sv_idx)"
   ]
  },
  {
   "cell_type": "code",
   "execution_count": 175,
   "metadata": {},
   "outputs": [
    {
     "ename": "SyntaxError",
     "evalue": "Visualization of decision boundary only supports for 2D data (<string>)",
     "output_type": "error",
     "traceback": [
      "Traceback \u001b[0;36m(most recent call last)\u001b[0m:\n",
      "  File \u001b[1;32m\"/home/abian/Workspace/Anaconda/envs/HySpecLab/lib/python3.9/site-packages/IPython/core/interactiveshell.py\"\u001b[0m, line \u001b[1;32m3441\u001b[0m, in \u001b[1;35mrun_code\u001b[0m\n    exec(code_obj, self.user_global_ns, self.user_ns)\n",
      "  File \u001b[1;32m\"/tmp/ipykernel_7121/2947057118.py\"\u001b[0m, line \u001b[1;32m1\u001b[0m, in \u001b[1;35m<module>\u001b[0m\n    eea.plot_boundary(data_p.T)\n",
      "\u001b[0;36m  File \u001b[0;32m\"/mnt/workspace/Thesis/IUMA/HySpecLab/notebooks/unmixing/../../modules/SVDD/SVDD/BaseSVDD.py\"\u001b[0;36m, line \u001b[0;32m515\u001b[0;36m, in \u001b[0;35mplot_boundary\u001b[0;36m\u001b[0m\n\u001b[0;31m    raise SyntaxError('Visualization of decision boundary only supports for 2D data')\u001b[0m\n",
      "\u001b[0;36m  File \u001b[0;32m\"<string>\"\u001b[0;36m, line \u001b[0;32munknown\u001b[0m\n\u001b[0;31mSyntaxError\u001b[0m\u001b[0;31m:\u001b[0m Visualization of decision boundary only supports for 2D data\n"
     ]
    }
   ],
   "source": [
    "eea.plot_boundary(data_p.T)"
   ]
  },
  {
   "cell_type": "code",
   "execution_count": 176,
   "metadata": {},
   "outputs": [],
   "source": [
    "result = Xp.T[eea.support_vector_indices]"
   ]
  },
  {
   "cell_type": "code",
   "execution_count": 177,
   "metadata": {},
   "outputs": [
    {
     "data": {
      "text/plain": [
       "[<matplotlib.lines.Line2D at 0x7efbbe88edf0>,\n",
       " <matplotlib.lines.Line2D at 0x7efbbe88ec70>,\n",
       " <matplotlib.lines.Line2D at 0x7efbbe88e970>,\n",
       " <matplotlib.lines.Line2D at 0x7efbbe88e5b0>]"
      ]
     },
     "execution_count": 177,
     "metadata": {},
     "output_type": "execute_result"
    },
    {
     "data": {
      "image/png": "[encoded data removed]",
      "text/plain": [
       "<Figure size 432x288 with 1 Axes>"
      ]
     },
     "metadata": {
      "needs_background": "light"
     },
     "output_type": "display_data"
    }
   ],
   "source": [
    "from matplotlib import pyplot as plt\n",
    "plt.plot(result.T)"
   ]
  },
  {
   "cell_type": "code",
   "execution_count": 178,
   "metadata": {},
   "outputs": [
    {
     "data": {
      "text/plain": [
       "BaseSVDD(C=[0.9, 1], display='off', gamma=0.09354573454818554)"
      ]
     },
     "execution_count": 178,
     "metadata": {},
     "output_type": "execute_result"
    }
   ],
   "source": [
    "eea = BaseSVDD(C=0.9, gamma=sigma, kernel='rbf', display='off')\n",
    "eea.fit(X_resampled)"
   ]
  },
  {
   "cell_type": "code",
   "execution_count": 179,
   "metadata": {},
   "outputs": [
    {
     "name": "stdout",
     "output_type": "stream",
     "text": [
      "[ 361  424  700  962 1084 2462 2623 2898 2936 2975]\n",
      "[[0.06105927]\n",
      " [0.12948737]\n",
      " [0.01392943]\n",
      " [0.11392112]\n",
      " [0.1604202 ]\n",
      " [0.23665573]\n",
      " [0.13455019]\n",
      " [0.03626196]\n",
      " [0.02127992]\n",
      " [0.09243359]]\n",
      "[[0.12948737]\n",
      " [0.13455019]\n",
      " [0.1604202 ]\n",
      " [0.23665573]]\n",
      "[ 424 2623 1084 2462]\n"
     ]
    }
   ],
   "source": [
    "print(eea.support_vector_indices)\n",
    "print(eea.support_vector_alpha)\n",
    "choosen = np.argsort(eea.support_vector_alpha, axis=0)[-(n_endmembers+1)::].flatten()\n",
    "print(eea.support_vector_alpha[choosen])\n",
    "print(eea.support_vector_indices[choosen])\n",
    "\n",
    "eea.support_vector_alpha = eea.support_vector_alpha[choosen]\n",
    "eea.support_vector_indices = eea.support_vector_indices[choosen]"
   ]
  },
  {
   "cell_type": "code",
   "execution_count": 180,
   "metadata": {},
   "outputs": [],
   "source": [
    "result = X_resampled[eea.support_vector_indices]"
   ]
  },
  {
   "cell_type": "code",
   "execution_count": 181,
   "metadata": {},
   "outputs": [
    {
     "data": {
      "text/plain": [
       "[<matplotlib.lines.Line2D at 0x7efbc066adf0>,\n",
       " <matplotlib.lines.Line2D at 0x7efbc066ae80>,\n",
       " <matplotlib.lines.Line2D at 0x7efbc066ad60>,\n",
       " <matplotlib.lines.Line2D at 0x7efbc066ac40>]"
      ]
     },
     "execution_count": 181,
     "metadata": {},
     "output_type": "execute_result"
    },
    {
     "data": {
      "image/png": "[encoded data removed]",
      "text/plain": [
       "<Figure size 432x288 with 1 Axes>"
      ]
     },
     "metadata": {
      "needs_background": "light"
     },
     "output_type": "display_data"
    }
   ],
   "source": [
    "from matplotlib import pyplot as plt\n",
    "plt.plot(result.T)"
   ]
  },
  {
   "cell_type": "code",
   "execution_count": null,
   "metadata": {},
   "outputs": [],
   "source": []
  }
 ],
 "metadata": {
  "interpreter": {
   "hash": "bc81a3ec444beb1d5a523daf231afa571e79be8a57abb6fe0028623a3d4d7136"
  },
  "kernelspec": {
   "display_name": "Python 3.9.7 64-bit ('HySpecLab': conda)",
   "language": "python",
   "name": "python3"
  },
  "language_info": {
   "codemirror_mode": {
    "name": "ipython",
    "version": 3
   },
   "file_extension": ".py",
   "mimetype": "text/x-python",
   "name": "python",
   "nbconvert_exporter": "python",
   "pygments_lexer": "ipython3",
   "version": "3.9.7"
  },
  "orig_nbformat": 4
 },
 "nbformat": 4,
 "nbformat_minor": 2
}
