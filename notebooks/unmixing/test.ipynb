{
 "cells": [
  {
   "cell_type": "code",
   "execution_count": null,
   "metadata": {},
   "outputs": [],
   "source": [
    "import os, sys\n",
    "project_dir = os.path.join(os.getcwd(),'../..')\n",
    "if project_dir not in sys.path:\n",
    "    sys.path.append(project_dir)\n",
    "\n",
    "hyspeclab_dir = os.path.join(project_dir, 'HySpecLab')\n",
    "if hyspeclab_dir not in sys.path:\n",
    "    sys.path.append(hyspeclab_dir)\n",
    "\n",
    "ipdl_dir = os.path.join(project_dir, 'modules/IPDL')\n",
    "if ipdl_dir not in sys.path:\n",
    "    sys.path.append(ipdl_dir)    \n",
    "\n",
    "from scipy.io import loadmat\n",
    "from matplotlib import pyplot as plt\n",
    "import numpy as np\n",
    "import config\n",
    "\n",
    "from HySpecLab.utils import HyperSpectralCalibration as calibration"
   ]
  },
  {
   "cell_type": "code",
   "execution_count": null,
   "metadata": {},
   "outputs": [],
   "source": [
    "from scipy.io import loadmat\n",
    "mat = loadmat(os.path.join(config.DERMA_DATASET_DIR, 'train/P32_C1000.mat'))\n",
    "X = mat['preProcessedImage'].astype(np.float64)\n",
    "tiny_X = X.reshape(X.shape[0]*X.shape[1], X.shape[2])"
   ]
  },
  {
   "cell_type": "code",
   "execution_count": null,
   "metadata": {},
   "outputs": [],
   "source": [
    "from HySpecLab.transform import Norm1Transform, StandarizedTransform\n",
    "\n",
    "transform = Norm1Transform()\n",
    "# transform = StandarizedTransform()\n",
    "tiny_X = transform.fit_transform(tiny_X)\n",
    "X = tiny_X.reshape(X.shape)"
   ]
  },
  {
   "cell_type": "code",
   "execution_count": null,
   "metadata": {},
   "outputs": [],
   "source": [
    "from pysptools import eea\n",
    "\n",
    "ee = eea.NFINDR()\n",
    "U = ee.extract(X, 3, maxit=128, normalize=False,ATGP_init=True)"
   ]
  },
  {
   "cell_type": "code",
   "execution_count": null,
   "metadata": {},
   "outputs": [],
   "source": [
    "U.shape"
   ]
  },
  {
   "cell_type": "code",
   "execution_count": null,
   "metadata": {},
   "outputs": [],
   "source": [
    "plt.plot(U.T)\n",
    "plt.show()"
   ]
  },
  {
   "cell_type": "code",
   "execution_count": null,
   "metadata": {},
   "outputs": [],
   "source": [
    "plt.plot(U.T)\n",
    "plt.show()"
   ]
  },
  {
   "cell_type": "code",
   "execution_count": null,
   "metadata": {},
   "outputs": [],
   "source": [
    "import pysptools.abundance_maps as amap\n",
    "\n",
    "am = amap.FCLS() #define am object using the amap \n",
    "amaps = am.map(X,U,normalize=False) #create abundance maps for the HSI cubems"
   ]
  },
  {
   "cell_type": "code",
   "execution_count": null,
   "metadata": {},
   "outputs": [],
   "source": [
    "print(U.shape)\n",
    "print(amaps.shape)\n",
    "\n",
    "import torch \n",
    "\n",
    "U_tensor = torch.tensor(U)\n",
    "amaps_tensor = torch.tensor(amaps)\n",
    "\n",
    "result = torch.matmul(U_tensor.T, amaps_tensor.T.flatten(start_dim=1)).reshape(116, 50, 50)\n",
    "\n",
    "# amaps_tensor.T.shape\n",
    "plt.imshow(result[10].T)"
   ]
  },
  {
   "cell_type": "code",
   "execution_count": null,
   "metadata": {},
   "outputs": [],
   "source": [
    "plt.imshow(X[:,:,10])"
   ]
  },
  {
   "cell_type": "code",
   "execution_count": null,
   "metadata": {},
   "outputs": [],
   "source": [
    "am.display(colorMap='jet',columns=2,suffix='SERC')\n",
    "plt.show()"
   ]
  },
  {
   "cell_type": "code",
   "execution_count": null,
   "metadata": {},
   "outputs": [],
   "source": [
    "print('Abundance Map Mean Values:')\n",
    "print('EM1:',np.mean(amaps[:,:,0]))\n",
    "print('EM2:',np.mean(amaps[:,:,1]))\n",
    "print('EM3:',np.mean(amaps[:,:,2]))\n",
    "# print('EM4:',np.mean(amaps[:,:,3]))"
   ]
  },
  {
   "cell_type": "code",
   "execution_count": null,
   "metadata": {},
   "outputs": [],
   "source": [
    "import matplotlib.pyplot as plt\n",
    "fig = plt.figure(figsize=(18,8))\n",
    "\n",
    "ax1 = fig.add_subplot(2,4,1); plt.title('EM1')\n",
    "amap1_hist = plt.hist(np.ndarray.flatten(amaps[:,:,0]),bins=50,range=[0,1.0]) \n",
    "\n",
    "ax2 = fig.add_subplot(2,4,2); plt.title('EM2')\n",
    "amap1_hist = plt.hist(np.ndarray.flatten(amaps[:,:,1]),bins=50,range=[0,0.001]) \n",
    "\n",
    "ax3 = fig.add_subplot(2,4,3); plt.title('EM3')\n",
    "amap1_hist = plt.hist(np.ndarray.flatten(amaps[:,:,2]),bins=50,range=[0,0.5]) \n",
    "\n",
    "# ax4 = fig.add_subplot(2,4,4); plt.title('EM4')\n",
    "# amap1_hist = plt.hist(np.ndarray.flatten(amaps[:,:,3]),bins=50,range=[0,0.05]) "
   ]
  },
  {
   "cell_type": "code",
   "execution_count": null,
   "metadata": {},
   "outputs": [],
   "source": [
    "import pysptools.classification as cls\n",
    "\n",
    "def SID(data,E,thrs=None):\n",
    "    sid = cls.SID()\n",
    "    cmap = sid.classify(data,E,threshold=thrs)\n",
    "    return cmap\n",
    "    # sid.display(colorMap='tab20b',suffix='SERC')"
   ]
  },
  {
   "cell_type": "code",
   "execution_count": null,
   "metadata": {},
   "outputs": [],
   "source": [
    "U2 = U[[0,2],:]\n",
    "# cmap = SID(X, U2, [0.9, 0.9])\n",
    "cmap = SID(X, U2, 0.75)\n"
   ]
  },
  {
   "cell_type": "code",
   "execution_count": null,
   "metadata": {},
   "outputs": [],
   "source": [
    "plt.imshow(cmap)"
   ]
  },
  {
   "cell_type": "code",
   "execution_count": null,
   "metadata": {},
   "outputs": [],
   "source": []
  }
 ],
 "metadata": {
  "interpreter": {
   "hash": "bc81a3ec444beb1d5a523daf231afa571e79be8a57abb6fe0028623a3d4d7136"
  },
  "kernelspec": {
   "display_name": "Python 3.9.7 64-bit ('HySpecLab': conda)",
   "language": "python",
   "name": "python3"
  },
  "language_info": {
   "codemirror_mode": {
    "name": "ipython",
    "version": 3
   },
   "file_extension": ".py",
   "mimetype": "text/x-python",
   "name": "python",
   "nbconvert_exporter": "python",
   "pygments_lexer": "ipython3",
   "version": "3.9.7"
  },
  "orig_nbformat": 4
 },
 "nbformat": 4,
 "nbformat_minor": 2
}
