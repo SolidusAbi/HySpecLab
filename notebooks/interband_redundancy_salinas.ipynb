{
 "cells": [
  {
   "cell_type": "code",
   "execution_count": 1,
   "metadata": {},
   "outputs": [],
   "source": [
    "import os, sys\n",
    "project_dir = os.path.join(os.getcwd(),'..')\n",
    "if project_dir not in sys.path:\n",
    "    sys.path.append(project_dir)\n",
    "\n",
    "import numpy as np\n",
    "import pandas as pd"
   ]
  },
  {
   "cell_type": "code",
   "execution_count": null,
   "metadata": {},
   "outputs": [],
   "source": [
    "from scipy.io import loadmat\n",
    "\n",
    "x = loadmat(\"/home/abian/Data/Dataset/HyperSpectral/Salinas/Salinas_corrected.mat\")['salinas_corrected']\n",
    "y = loadmat(\"/home/abian/Data/Dataset/HyperSpectral/Salinas/Salinas_gt.mat\")['salinas_gt']"
   ]
  },
  {
   "cell_type": "code",
   "execution_count": null,
   "metadata": {},
   "outputs": [],
   "source": [
    "from matplotlib import pyplot as plt\n",
    "from scipy.ndimage import median_filter\n",
    "\n",
    "n_features = x.shape[2]\n",
    "x_filtered = np.zeros(x.shape)\n",
    "for i in range(n_features):\n",
    "    x_filtered[:,:, i] = median_filter(x[:,:, i], size=3)\n",
    "\n",
    "plt.plot(x.reshape((x.shape[0]*x.shape[1], -1))[28342], label='original')\n",
    "plt.plot(x_filtered.reshape((x.shape[0]*x.shape[1], -1))[28342], label='processed')\n",
    "plt.legend()\n",
    "plt.plot()"
   ]
  },
  {
   "cell_type": "code",
   "execution_count": null,
   "metadata": {},
   "outputs": [],
   "source": [
    "plt.plot(x.reshape((x.shape[0]*x.shape[1], -1))[52344], label='original')\n",
    "plt.plot(x_filtered.reshape((x.shape[0]*x.shape[1], -1))[52344], label='processed')\n",
    "plt.legend()\n",
    "plt.plot()"
   ]
  },
  {
   "cell_type": "code",
   "execution_count": null,
   "metadata": {},
   "outputs": [],
   "source": [
    "x = pd.DataFrame(x_filtered.reshape((x_filtered.shape[0] * x_filtered.shape[1], -1)))\n",
    "y = pd.DataFrame(y.flatten())"
   ]
  },
  {
   "cell_type": "code",
   "execution_count": null,
   "metadata": {},
   "outputs": [],
   "source": [
    "import seaborn as sns\n",
    "test = pd.DataFrame(x_filtered.reshape((x.shape[0]*x.shape[1], -1)), copy=True)\n",
    "# ax = sns.boxplot(y=test.all())\n",
    "fig, ax = plt.subplots(figsize=(32,12)) \n",
    "sns.boxplot(x=\"variable\", y=\"value\", data=pd.melt(test))"
   ]
  },
  {
   "cell_type": "code",
   "execution_count": null,
   "metadata": {},
   "outputs": [],
   "source": [
    "Q1 = test.quantile(0.25)\n",
    "Q3 = test.quantile(0.75)\n",
    "IQR = Q3 - Q1\n",
    "\n",
    "mask = ((test < (Q1 - 1.5 * IQR)) | (test > (Q3 + 1.5 * IQR)))\n",
    "test[mask]=np.nan"
   ]
  },
  {
   "cell_type": "code",
   "execution_count": null,
   "metadata": {},
   "outputs": [],
   "source": [
    "fig, ax = plt.subplots(figsize=(32,12)) \n",
    "sns.boxplot(x=\"variable\", y=\"value\", data=pd.melt(test))\n",
    "plt.plot()"
   ]
  },
  {
   "cell_type": "markdown",
   "metadata": {},
   "source": [
    "## Normalize per band"
   ]
  },
  {
   "cell_type": "code",
   "execution_count": null,
   "metadata": {},
   "outputs": [],
   "source": [
    "_x = x_filtered.reshape((x.shape[0]*x.shape[1], -1))\n",
    "band_std = np.std(_x, axis=0)\n",
    "band_mean = np.mean(_x, axis=0)\n",
    "results = (_x - band_mean) / band_std\n",
    "plt.plot(results[28342,:])\n",
    "\n",
    "# test = x.reshape((x.shape[0]*x.shape[1], -1))\n",
    "# test = (test + test.min())/(test.max() + test.min())\n",
    "# print(test.min())\n",
    "# band_std = np.std(test, axis=0)\n",
    "# band_mean = np.mean(test, axis=0)\n",
    "\n",
    "# results = (test - band_mean) / band_std\n",
    "# plt.plot(results[28342,:])"
   ]
  },
  {
   "cell_type": "code",
   "execution_count": null,
   "metadata": {},
   "outputs": [],
   "source": [
    "# _x = x_filtered.reshape((x.shape[0]*x.shape[1], -1))\n",
    "# band_std = np.std(_x, axis=0)\n",
    "# band_mean = np.mean(_x, axis=0)\n",
    "# results = (_x - band_mean) / band_std\n",
    "plt.plot(results[48342,:])"
   ]
  },
  {
   "cell_type": "markdown",
   "metadata": {},
   "source": []
  }
 ],
 "metadata": {
  "interpreter": {
   "hash": "bc81a3ec444beb1d5a523daf231afa571e79be8a57abb6fe0028623a3d4d7136"
  },
  "kernelspec": {
   "display_name": "Python 3.9.7 64-bit ('HySpecLab': conda)",
   "name": "python3"
  },
  "language_info": {
   "codemirror_mode": {
    "name": "ipython",
    "version": 3
   },
   "file_extension": ".py",
   "mimetype": "text/x-python",
   "name": "python",
   "nbconvert_exporter": "python",
   "pygments_lexer": "ipython3",
   "version": "3.9.7"
  },
  "orig_nbformat": 4
 },
 "nbformat": 4,
 "nbformat_minor": 2
}
