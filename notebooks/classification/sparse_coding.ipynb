{
 "cells": [
  {
   "cell_type": "code",
   "execution_count": 1,
   "metadata": {},
   "outputs": [],
   "source": [
    "import os, sys\n",
    "project_dir = os.path.join(os.getcwd(),'../..')\n",
    "if project_dir not in sys.path:\n",
    "    sys.path.append(project_dir)\n",
    "\n",
    "hyspeclab_dir = os.path.join(project_dir, 'HySpecLab')\n",
    "if hyspeclab_dir not in sys.path:\n",
    "    sys.path.append(hyspeclab_dir)\n",
    "\n",
    "import numpy as np\n",
    "import config"
   ]
  },
  {
   "cell_type": "code",
   "execution_count": 2,
   "metadata": {},
   "outputs": [],
   "source": [
    "from dataset import DermaDataset\n",
    "\n",
    "train_dir = ['train', 'validation']\n",
    "dataset_dir = list(map(lambda x: os.path.join(config.DERMA_DATASET_DIR, x), train_dir))\n",
    "\n",
    "dataset = DermaDataset(dataset_dir)\n",
    "X, y = dataset.get(dataframe=True)"
   ]
  },
  {
   "cell_type": "code",
   "execution_count": 8,
   "metadata": {},
   "outputs": [],
   "source": [
    "from sklearn.linear_model import LogisticRegression\n",
    "\n",
    "C = 5e-1\n",
    "log_l1 = LogisticRegression(C=C, penalty=\"l1\", tol=0.01, solver=\"saga\")"
   ]
  },
  {
   "cell_type": "code",
   "execution_count": 9,
   "metadata": {},
   "outputs": [
    {
     "name": "stderr",
     "output_type": "stream",
     "text": [
      "/home/abian/Workspace/Anaconda/envs/HySpecLab/lib/python3.9/site-packages/sklearn/utils/validation.py:72: DataConversionWarning: A column-vector y was passed when a 1d array was expected. Please change the shape of y to (n_samples, ), for example using ravel().\n",
      "  return f(**kwargs)\n"
     ]
    },
    {
     "name": "stdout",
     "output_type": "stream",
     "text": [
      "Score: 0.8237450648618161\n"
     ]
    }
   ],
   "source": [
    "log_l1.fit(X, y)\n",
    "print('Score: {}'.format(log_l1.score(X, y)))"
   ]
  },
  {
   "cell_type": "code",
   "execution_count": 10,
   "metadata": {},
   "outputs": [],
   "source": [
    "coef_l1_LR = log_l1.coef_.ravel()\n",
    "sparsity_l1_LR = np.mean(coef_l1_LR == 0) * 100"
   ]
  },
  {
   "cell_type": "code",
   "execution_count": 11,
   "metadata": {},
   "outputs": [
    {
     "data": {
      "text/plain": [
       "6.896551724137931"
      ]
     },
     "execution_count": 11,
     "metadata": {},
     "output_type": "execute_result"
    }
   ],
   "source": [
    "sparsity_l1_LR"
   ]
  },
  {
   "cell_type": "code",
   "execution_count": 12,
   "metadata": {},
   "outputs": [
    {
     "data": {
      "text/plain": [
       "<matplotlib.image.AxesImage at 0x7fe75f353ca0>"
      ]
     },
     "execution_count": 12,
     "metadata": {},
     "output_type": "execute_result"
    },
    {
     "data": {
      "image/png": "[encoded data removed]",
      "text/plain": [
       "<Figure size 432x288 with 1 Axes>"
      ]
     },
     "metadata": {
      "needs_background": "light"
     },
     "output_type": "display_data"
    }
   ],
   "source": [
    "from matplotlib import pyplot as plt\n",
    "plt.imshow(\n",
    "        np.abs(coef_l1_LR.reshape(1, 116)),\n",
    "        interpolation=\"nearest\",\n",
    "        cmap=\"binary\",\n",
    "        vmax=1,\n",
    "        vmin=0,\n",
    ")"
   ]
  },
  {
   "cell_type": "code",
   "execution_count": 13,
   "metadata": {},
   "outputs": [
    {
     "data": {
      "text/plain": [
       "array([-3.94440576e-01, -6.43754497e+00, -3.67481722e+00, -1.92561287e+00,\n",
       "       -6.37122151e-02, -5.73911357e-07,  3.15946529e-01,  1.07821438e+00,\n",
       "        1.78560751e+00,  4.77171371e+00,  5.45287236e+00,  5.71387901e+00,\n",
       "        5.25428432e+00,  3.83425008e+00,  2.25634096e+00,  1.10913840e+00,\n",
       "        6.53442990e-02,  0.00000000e+00,  0.00000000e+00,  0.00000000e+00,\n",
       "        6.37776030e-07,  2.23102761e-06,  0.00000000e+00,  0.00000000e+00,\n",
       "       -1.96528265e+00, -4.38355920e+00, -6.38347691e+00, -6.46844492e+00,\n",
       "       -5.04882787e+00, -1.61219954e+00,  0.00000000e+00,  7.55320696e-01,\n",
       "        4.25865800e+00,  5.63473010e+00,  5.76720153e+00,  5.19847893e+00,\n",
       "        3.69174616e+00,  1.63003567e+00,  1.49385198e-05,  1.14866964e-05,\n",
       "       -5.98940310e-01, -2.54169756e+00, -3.79883705e+00, -4.07321646e+00,\n",
       "       -2.37272332e+00, -9.98361621e-01, -2.61632228e-05,  0.00000000e+00,\n",
       "        0.00000000e+00, -7.01376841e-06, -3.18490629e-05, -4.04544557e-02,\n",
       "       -8.04338018e-01, -1.90033477e+00, -2.58922742e+00, -2.59550476e+00,\n",
       "       -2.62830272e+00, -2.70827044e+00, -2.04945595e+00, -1.11116514e+00,\n",
       "       -2.79780623e-01, -3.16939831e-05, -2.29502716e-06,  1.98933672e-05,\n",
       "        2.11477497e+00,  4.35164973e+00,  5.74657316e+00,  5.90302883e+00,\n",
       "        4.78386638e+00,  2.56628805e+00, -1.19068333e-05, -1.46515355e-04,\n",
       "       -9.04848680e-01, -1.55563618e+00, -1.45386286e+00, -7.16715508e-01,\n",
       "       -9.22616453e-05, -4.38596973e-05, -3.39688359e-05, -2.99440783e-05,\n",
       "       -3.21221256e-05, -3.62591336e-05, -3.79377140e-05, -4.21385827e-05,\n",
       "       -4.86089983e-02, -9.13450328e-01, -1.52221487e+00, -1.26294415e+00,\n",
       "       -8.59170333e-01, -1.72851185e-01, -8.51109562e-05, -8.83057042e-05,\n",
       "       -6.31216058e-03, -2.60746849e-01, -5.04765080e-01, -4.36594703e-01,\n",
       "       -5.83538791e-01, -3.57237386e-01, -1.88964987e-01, -1.15594871e-04,\n",
       "       -8.28078193e-05, -8.27197495e-05, -1.17708898e-04, -3.66784316e-01,\n",
       "       -3.40122447e-01, -7.10834887e-05, -2.31659468e-05,  1.16143228e-02,\n",
       "        7.70835255e-01, -1.37166744e-05, -8.41035077e-05, -1.20117406e-04,\n",
       "       -1.12634294e+00, -1.53202483e+00, -1.12582043e+00, -2.03503985e+00])"
      ]
     },
     "execution_count": 13,
     "metadata": {},
     "output_type": "execute_result"
    }
   ],
   "source": [
    "coef_l1_LR"
   ]
  },
  {
   "cell_type": "code",
   "execution_count": null,
   "metadata": {},
   "outputs": [],
   "source": []
  }
 ],
 "metadata": {
  "interpreter": {
   "hash": "bc81a3ec444beb1d5a523daf231afa571e79be8a57abb6fe0028623a3d4d7136"
  },
  "kernelspec": {
   "display_name": "Python 3.9.7 64-bit ('HySpecLab': conda)",
   "name": "python3"
  },
  "language_info": {
   "codemirror_mode": {
    "name": "ipython",
    "version": 3
   },
   "file_extension": ".py",
   "mimetype": "text/x-python",
   "name": "python",
   "nbconvert_exporter": "python",
   "pygments_lexer": "ipython3",
   "version": "3.9.7"
  },
  "orig_nbformat": 4
 },
 "nbformat": 4,
 "nbformat_minor": 2
}
