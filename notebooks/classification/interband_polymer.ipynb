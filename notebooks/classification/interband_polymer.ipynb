{
 "cells": [
  {
   "cell_type": "code",
   "execution_count": null,
   "metadata": {},
   "outputs": [],
   "source": [
    "import os, sys\n",
    "project_dir = os.path.join(os.getcwd(),'../..')\n",
    "if project_dir not in sys.path:\n",
    "    sys.path.append(project_dir)\n",
    "\n",
    "hyspeclab_dir = os.path.join(project_dir, 'HySpecLab')\n",
    "if hyspeclab_dir not in sys.path:\n",
    "    sys.path.append(hyspeclab_dir)\n",
    "\n",
    "ipdl_dir = os.path.join(project_dir, 'modules/IPDL')\n",
    "if ipdl_dir not in sys.path:\n",
    "    sys.path.append(ipdl_dir)    \n",
    "\n",
    "from scipy.io import loadmat\n",
    "from matplotlib import pyplot as plt\n",
    "import numpy as np\n",
    "import config\n",
    "\n",
    "from HySpecLab.utils import HyperSpectralCalibration as calibration\n",
    "from HySpecLab.utils import median"
   ]
  },
  {
   "cell_type": "markdown",
   "metadata": {},
   "source": [
    "Este notebook es un ejemplo de clasificación usando el algoritmo de reducción de bandas (see ***HySpecLab.feature_selection.InterbandRedundancySelector***). El resultado final corresponde a la siguiente imagen donde se segmentan los distintos elementos de la imagen usando los datos de la imagen VNIR:\n",
    "\n",
    "![Result](imgs/interband_polymer/interband_polymer_result.png)"
   ]
  },
  {
   "cell_type": "markdown",
   "metadata": {},
   "source": [
    "# VNIR"
   ]
  },
  {
   "cell_type": "code",
   "execution_count": null,
   "metadata": {},
   "outputs": [],
   "source": [
    "X = np.load(os.path.join(config.POLYMER_DATASET_DIR, 'Sensor_VNIR/C1_VNIR/processed/C1_VNIR.npy'))\n",
    "tiny_X = X.reshape((X.shape[0]*X.shape[1],X.shape[2]))"
   ]
  },
  {
   "cell_type": "markdown",
   "metadata": {},
   "source": [
    "# Band Selection\n",
    "Due to computational problems, the sample is reduced to a single line for Band Selection based in Interband Redundancy."
   ]
  },
  {
   "cell_type": "code",
   "execution_count": null,
   "metadata": {},
   "outputs": [],
   "source": [
    "sub_X = X[200:201, 100:-100:2].squeeze() # Una linea reducida\n",
    "fig, ax = plt.subplots(1,1,figsize=(20,16))\n",
    "ax.imshow(sub_X[np.newaxis, :, 100])\n",
    "ax.set_yticklabels([])\n",
    "plt.show()"
   ]
  },
  {
   "cell_type": "code",
   "execution_count": null,
   "metadata": {},
   "outputs": [],
   "source": [
    "from HySpecLab.transform import StandarizedTransform\n",
    "\n",
    "sub_X_std = StandarizedTransform().fit_transform(sub_X)"
   ]
  },
  {
   "cell_type": "code",
   "execution_count": null,
   "metadata": {},
   "outputs": [],
   "source": [
    "from HySpecLab.feature_selection import InterbandRedundancySelector\n",
    "\n",
    "selector = InterbandRedundancySelector(threshold=16)\n",
    "selector.fit(sub_X_std)\n",
    "\n",
    "n_features = selector.mask_.sum().item()\n",
    "features_selected = np.argwhere(selector.mask_ != 0).flatten()\n",
    "print('Features selected: {}'.format(np.argwhere(selector.mask_ != 0).flatten()))"
   ]
  },
  {
   "cell_type": "code",
   "execution_count": null,
   "metadata": {},
   "outputs": [],
   "source": [
    "tiny_X = selector.transform(tiny_X)\n",
    "X = tiny_X.reshape(X.shape[0], X.shape[1], n_features)"
   ]
  },
  {
   "cell_type": "markdown",
   "metadata": {},
   "source": [
    "## Normalize"
   ]
  },
  {
   "cell_type": "code",
   "execution_count": null,
   "metadata": {},
   "outputs": [],
   "source": [
    "from HySpecLab.transform import Norm1Transform, StandarizedTransform\n",
    "\n",
    "tiny_X_norm = Norm1Transform().fit_transform(tiny_X)\n",
    "tiny_X_std = StandarizedTransform().fit_transform(tiny_X)"
   ]
  },
  {
   "cell_type": "code",
   "execution_count": null,
   "metadata": {},
   "outputs": [],
   "source": [
    "fig, ax = plt.subplots(nrows=1, ncols=3, figsize=(16,4))\n",
    "\n",
    "samples_idx = np.arange(0, 1200, 400)\n",
    "\n",
    "ax[0].set_title('Original')\n",
    "ax[0].plot(tiny_X[samples_idx].T)\n",
    "ax[1].set_title('1-Norm')\n",
    "ax[1].plot(tiny_X_norm[samples_idx].T)\n",
    "ax[2].set_title('Std Norm')\n",
    "ax[2].plot(tiny_X_std[samples_idx].T)\n",
    "\n",
    "\n",
    "plt.show()"
   ]
  },
  {
   "cell_type": "markdown",
   "metadata": {},
   "source": [
    "# PCA Classification"
   ]
  },
  {
   "cell_type": "code",
   "execution_count": null,
   "metadata": {},
   "outputs": [],
   "source": [
    "w, h, b = X.shape"
   ]
  },
  {
   "cell_type": "code",
   "execution_count": null,
   "metadata": {},
   "outputs": [],
   "source": [
    "from sklearn.decomposition import PCA\n",
    "\n",
    "n_components = 3\n",
    "\n",
    "pca = PCA(n_components=n_components)\n",
    "X_pca = pca.fit_transform(tiny_X.copy())\n",
    "X_pca = X_pca.reshape(w, h, n_components)\n",
    "\n",
    "X_pca_norm = pca.fit_transform(tiny_X_norm.copy())\n",
    "X_pca_norm = X_pca_norm.reshape(w, h, n_components)\n",
    "\n",
    "X_pca_std = pca.fit_transform(tiny_X_std.copy())\n",
    "X_pca_std = X_pca_std.reshape(w, h, n_components)"
   ]
  },
  {
   "cell_type": "code",
   "execution_count": null,
   "metadata": {},
   "outputs": [],
   "source": [
    "fig, ax = plt.subplots(nrows=3, ncols=n_components, figsize=(16,8))\n",
    "\n",
    "for i in range(n_components):\n",
    "    ax[0, i].imshow(X_pca[:,:,i])\n",
    "    ax[0, i].set_title('Component {}'.format(i))\n",
    "    ax[0, i].set_xticklabels([])\n",
    "    ax[0, i].set_yticklabels([])\n",
    "\n",
    "ax[0, 0].set_ylabel('Original')\n",
    "\n",
    "for i in range(n_components):\n",
    "    ax[1, i].imshow(X_pca_norm[:,:,i])\n",
    "    ax[1, i].set_xticklabels([])\n",
    "    ax[1, i].set_yticklabels([])\n",
    "\n",
    "ax[1, 0].set_ylabel('1-Norm')\n",
    "\n",
    "for i in range(n_components):\n",
    "    ax[2, i].imshow(X_pca_std[:,:,i])\n",
    "    ax[2, i].set_xticklabels([])\n",
    "    ax[2, i].set_yticklabels([])\n",
    "\n",
    "ax[2, 0].set_ylabel('Std Norm')\n",
    "\n",
    "plt.show()"
   ]
  },
  {
   "cell_type": "code",
   "execution_count": null,
   "metadata": {},
   "outputs": [],
   "source": [
    "fig, ax = plt.subplots(nrows=1, ncols=3, figsize=(16,4))\n",
    "\n",
    "ax[0].set_title('Original')\n",
    "ax[0].set_xlabel('Commponent 1')\n",
    "ax[0].set_ylabel('Commponent 0')\n",
    "ax[0].scatter(X_pca[:,:, 1].flatten()[::50], X_pca[:,:, 0].flatten()[::50])\n",
    "\n",
    "ax[1].set_title('1-Norm')\n",
    "ax[1].set_xlabel('Commponent 1')\n",
    "ax[1].set_ylabel('Commponent 0')\n",
    "ax[1].scatter(X_pca_norm[:,:, 1].flatten()[::50], X_pca_norm[:,:, 0].flatten()[::50])\n",
    "\n",
    "ax[2].set_title('Std Norm')\n",
    "ax[2].set_xlabel('Commponent 1')\n",
    "ax[2].set_ylabel('Commponent 0')\n",
    "ax[2].scatter(X_pca_std[:,:, 1].flatten()[::50], X_pca_std[:,:, 0].flatten()[::50])\n",
    "plt.show()"
   ]
  },
  {
   "cell_type": "markdown",
   "metadata": {},
   "source": [
    "# Visualization"
   ]
  },
  {
   "cell_type": "code",
   "execution_count": null,
   "metadata": {},
   "outputs": [],
   "source": [
    "# data = X_pca\n",
    "data = X_pca_norm\n",
    "# data = X_pca_std"
   ]
  },
  {
   "cell_type": "code",
   "execution_count": null,
   "metadata": {},
   "outputs": [],
   "source": [
    "fig, ax = plt.subplots(nrows=n_components, ncols=n_components, figsize=(16, 16))\n",
    "\n",
    "for i in range(n_components):\n",
    "    for j in range(n_components):\n",
    "        ax[i,j].scatter(data[:,:, i].flatten()[::50], data[:,:, j].flatten()[::50])\n",
    "        ax[i,j].set_xlabel('Commponent {}'.format(i))\n",
    "        ax[i,j].set_ylabel('Commponent {}'.format(j))\n",
    "\n",
    "plt.show()"
   ]
  },
  {
   "cell_type": "code",
   "execution_count": null,
   "metadata": {},
   "outputs": [],
   "source": [
    "cmp_0 = data[:,:, 0].flatten().reshape(-1,1)\n",
    "cmp_1 = data[:,:, 1].flatten().reshape(-1,1)\n",
    "\n",
    "X = np.concatenate([cmp_0, cmp_1], axis=1)"
   ]
  },
  {
   "cell_type": "code",
   "execution_count": null,
   "metadata": {},
   "outputs": [],
   "source": [
    "from sklearn.cluster import KMeans\n",
    "n_clusters = 3\n",
    "model = KMeans(n_clusters=n_clusters, random_state=0).fit(X)"
   ]
  },
  {
   "cell_type": "code",
   "execution_count": null,
   "metadata": {},
   "outputs": [],
   "source": [
    "fig, ax = plt.subplots(nrows=1, ncols=n_clusters+1, figsize=(16,4))\n",
    "\n",
    "result = model.labels_.reshape(w, h)\n",
    "\n",
    "ax[0].imshow(result)\n",
    "ax[0].set_xticklabels([])\n",
    "ax[0].set_yticklabels([])\n",
    "\n",
    "for i in range(n_clusters):\n",
    "    mask = np.zeros(result.shape)\n",
    "    mask[np.where(result==i)] = 1\n",
    "    ax[i+1].imshow(mask)\n",
    "    ax[i+1].set_title('Label {}'.format(i))\n",
    "    ax[i+1].set_xticklabels([])\n",
    "    ax[i+1].set_yticklabels([])\n",
    "\n",
    "plt.show()"
   ]
  },
  {
   "cell_type": "code",
   "execution_count": null,
   "metadata": {},
   "outputs": [],
   "source": []
  }
 ],
 "metadata": {
  "interpreter": {
   "hash": "bc81a3ec444beb1d5a523daf231afa571e79be8a57abb6fe0028623a3d4d7136"
  },
  "kernelspec": {
   "display_name": "Python 3.9.7 64-bit ('HySpecLab': conda)",
   "language": "python",
   "name": "python3"
  },
  "language_info": {
   "codemirror_mode": {
    "name": "ipython",
    "version": 3
   },
   "file_extension": ".py",
   "mimetype": "text/x-python",
   "name": "python",
   "nbconvert_exporter": "python",
   "pygments_lexer": "ipython3",
   "version": "3.9.7"
  },
  "orig_nbformat": 4
 },
 "nbformat": 4,
 "nbformat_minor": 2
}
