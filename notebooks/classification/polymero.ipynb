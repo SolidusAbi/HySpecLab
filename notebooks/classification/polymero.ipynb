{
 "cells": [
  {
   "cell_type": "code",
   "execution_count": null,
   "metadata": {},
   "outputs": [],
   "source": [
    "import os, sys\n",
    "project_dir = os.path.join(os.getcwd(),'../..')\n",
    "if project_dir not in sys.path:\n",
    "    sys.path.append(project_dir)\n",
    "\n",
    "hyspeclab_dir = os.path.join(project_dir, 'HySpecLab')\n",
    "if hyspeclab_dir not in sys.path:\n",
    "    sys.path.append(hyspeclab_dir)\n",
    "\n",
    "ipdl_dir = os.path.join(project_dir, 'modules/IPDL')\n",
    "if ipdl_dir not in sys.path:\n",
    "    sys.path.append(ipdl_dir)    \n",
    "\n",
    "from scipy.io import loadmat\n",
    "from matplotlib import pyplot as plt\n",
    "import numpy as np\n",
    "import config\n",
    "\n",
    "from HySpecLab.utils import HyperSpectralCalibration as calibration\n",
    "from HySpecLab.utils import median"
   ]
  },
  {
   "cell_type": "markdown",
   "metadata": {},
   "source": [
    "# VNIR"
   ]
  },
  {
   "cell_type": "code",
   "execution_count": null,
   "metadata": {},
   "outputs": [],
   "source": [
    "X = np.load(os.path.join(config.POLYMER_DATASET_DIR, 'Sensor_VNIR/C1_VNIR/processed/C1_VNIR.npy'))\n",
    "tiny_X = X.reshape((X.shape[0]*X.shape[1],X.shape[2]))"
   ]
  },
  {
   "cell_type": "markdown",
   "metadata": {},
   "source": [
    "## Band reduction"
   ]
  },
  {
   "cell_type": "code",
   "execution_count": null,
   "metadata": {},
   "outputs": [],
   "source": [
    "sub_X = X[200:201, 100:-100:2].squeeze() # Una linea reducida\n",
    "fig, ax = plt.subplots(1,1,figsize=(20,16))\n",
    "ax.imshow(sub_X[np.newaxis, :, 100])\n",
    "ax.set_yticklabels([])\n",
    "plt.show()"
   ]
  },
  {
   "cell_type": "code",
   "execution_count": null,
   "metadata": {},
   "outputs": [],
   "source": [
    "from HySpecLab.feature_selection import InterbandRedundancySelector\n",
    "\n",
    "selector = InterbandRedundancySelector(threshold=25)\n",
    "selector.fit(sub_X)"
   ]
  },
  {
   "cell_type": "code",
   "execution_count": null,
   "metadata": {},
   "outputs": [],
   "source": [
    "print('Features selected: {}'.format(np.argwhere(selector.mask_ != 0).flatten()))"
   ]
  },
  {
   "cell_type": "code",
   "execution_count": null,
   "metadata": {},
   "outputs": [],
   "source": [
    "n_features = selector.mask_.sum().item()\n",
    "features_selected = np.argwhere(selector.mask_ != 0).flatten()\n",
    "\n",
    "reduced_tiny_X = selector.transform(tiny_X)\n",
    "reduced_X = reduced_tiny_X.reshape(X.shape[0],X.shape[1], n_features)"
   ]
  },
  {
   "cell_type": "code",
   "execution_count": null,
   "metadata": {},
   "outputs": [],
   "source": [
    "fig, ax = plt.subplots(nrows=1, ncols=n_features, figsize=(16,4))\n",
    "\n",
    "for i in range(n_features):\n",
    "    ax[i].imshow(reduced_X[:,:,i])\n",
    "    ax[i].set_title('Band {}'.format(features_selected[i]))"
   ]
  },
  {
   "cell_type": "code",
   "execution_count": null,
   "metadata": {},
   "outputs": [],
   "source": [
    "from HySpecLab.transform import Norm1Transform\n",
    "\n",
    "transform = Norm1Transform()\n",
    "sub_X_norm = transform.fit_transform(sub_X)"
   ]
  },
  {
   "cell_type": "code",
   "execution_count": null,
   "metadata": {},
   "outputs": [],
   "source": [
    "# selector.set_params(**{'threshold': 25})\n",
    "selector.fit(sub_X_norm)"
   ]
  },
  {
   "cell_type": "code",
   "execution_count": null,
   "metadata": {},
   "outputs": [],
   "source": [
    "n_features = selector.mask_.sum().item()\n",
    "features_selected = np.argwhere(selector.mask_ != 0).flatten()\n",
    "\n",
    "reduced_tiny_X_with_norm = selector.transform(tiny_X)\n",
    "reduced_X_with_norm = reduced_tiny_X_with_norm.reshape(X.shape[0],X.shape[1], n_features)"
   ]
  },
  {
   "cell_type": "code",
   "execution_count": null,
   "metadata": {},
   "outputs": [],
   "source": [
    "fig, ax = plt.subplots(nrows=1, ncols=n_features, figsize=(16,4))\n",
    "\n",
    "for i in range(n_features):\n",
    "    ax[i].imshow(reduced_X_with_norm[:,:,i])\n",
    "    ax[i].set_title('Band {}'.format(features_selected[i]))\n",
    "    ax[i].set_xticklabels([])\n",
    "    ax[i].set_yticklabels([])"
   ]
  },
  {
   "cell_type": "code",
   "execution_count": null,
   "metadata": {},
   "outputs": [],
   "source": [
    "from HySpecLab.transform import StandarizedTransform\n",
    "\n",
    "transform = StandarizedTransform()\n",
    "sub_X_std = transform.fit_transform(sub_X)"
   ]
  },
  {
   "cell_type": "code",
   "execution_count": null,
   "metadata": {},
   "outputs": [],
   "source": [
    "selector.set_params(**{'threshold': 16})\n",
    "selector.fit(sub_X_std)"
   ]
  },
  {
   "cell_type": "code",
   "execution_count": null,
   "metadata": {},
   "outputs": [],
   "source": [
    "n_features = selector.mask_.sum().item()\n",
    "features_selected = np.argwhere(selector.mask_ != 0).flatten()\n",
    "\n",
    "reduced_tiny_X_with_norm = selector.transform(tiny_X)\n",
    "reduced_X_with_norm = reduced_tiny_X_with_norm.reshape(X.shape[0],X.shape[1], n_features)"
   ]
  },
  {
   "cell_type": "code",
   "execution_count": null,
   "metadata": {},
   "outputs": [],
   "source": [
    "n_features"
   ]
  },
  {
   "cell_type": "code",
   "execution_count": null,
   "metadata": {},
   "outputs": [],
   "source": [
    "fig, ax = plt.subplots(nrows=1, ncols=n_features, figsize=(20,4))\n",
    "\n",
    "for i in range(n_features):\n",
    "    ax[i].imshow(reduced_X_with_norm[:,:,i])\n",
    "    ax[i].set_title('Band {}'.format(features_selected[i]))\n",
    "    ax[i].set_xticklabels([])\n",
    "    ax[i].set_yticklabels([])"
   ]
  },
  {
   "cell_type": "markdown",
   "metadata": {},
   "source": [
    "# Preprocessing"
   ]
  },
  {
   "cell_type": "code",
   "execution_count": null,
   "metadata": {},
   "outputs": [],
   "source": [
    "import spectral.io.envi as envi\n",
    "\n",
    "def read_data(capture_id, vnir=True):\n",
    "    '''\n",
    "        Return\n",
    "        ------\n",
    "            [Capture, White Reference, Black Reference] \n",
    "    '''\n",
    "\n",
    "    spectrum = 'VNIR'\n",
    "    if not(vnir):\n",
    "        spectrum = 'NIR'\n",
    "\n",
    "    if not os.path.exists( os.path.join(config.POLYMER_DATASET_DIR, 'Sensor_{}/{}/'.format(spectrum, capture_id)) ):\n",
    "        raise ValueError('The capture ID does not exist.')\n",
    "\n",
    "    ref_path = os.path.join(config.POLYMER_DATASET_DIR, 'Calibration/{}/'.format(spectrum))\n",
    "\n",
    "    white = envi.open(os.path.join(ref_path, '{}whiteReference.hdr'.format(spectrum)))\n",
    "    dark = envi.open(os.path.join(ref_path, '{}darkReference.hdr'.format(spectrum)))\n",
    "\n",
    "    polymer_path = os.path.join(config.POLYMER_DATASET_DIR, 'Sensor_{}/{}/'.format(spectrum, capture_id))\n",
    "    polymer = envi.open(os.path.join(polymer_path, 'raw.hdr'))\n",
    "\n",
    "    bands = np.arange(polymer.nbands)\n",
    "\n",
    "    return polymer.read_bands(bands), white.read_bands(bands), dark.read_bands(bands)\n",
    "\n",
    "def processing(img, white_ref, dark_ref):\n",
    "    img = calibration(img, white_ref, dark_ref)\n",
    "    img = median(img, kernel_size=5)\n",
    "    return (img / img.max())\n",
    "\n",
    "    "
   ]
  },
  {
   "cell_type": "code",
   "execution_count": null,
   "metadata": {},
   "outputs": [],
   "source": [
    "vnir_samples = os.listdir(os.path.join(config.POLYMER_DATASET_DIR, 'Sensor_VNIR'))\n",
    "nir_samples = os.listdir(os.path.join(config.POLYMER_DATASET_DIR, 'Sensor_NIR'))\n",
    "\n",
    "for sample in vnir_samples:\n",
    "    print('Sample {}'.format(sample))\n",
    "    img, white, dark = read_data(sample, vnir=True)\n",
    "    img = processing(img, white, dark)\n",
    "    break\n"
   ]
  },
  {
   "cell_type": "code",
   "execution_count": null,
   "metadata": {},
   "outputs": [],
   "source": [
    "vnir_path = os.path.join(config.POLYMER_DATASET_DIR, 'Sensor_VNIR')\n",
    "vnir_samples = os.listdir(vnir_path)\n",
    "\n",
    "sample = vnir_samples[0]\n",
    "save_dir = os.path.join(vnir_path, sample, 'processed/{}.npy'.format(sample))\n",
    "print(save_dir)"
   ]
  },
  {
   "cell_type": "code",
   "execution_count": null,
   "metadata": {},
   "outputs": [],
   "source": [
    "img=None"
   ]
  },
  {
   "cell_type": "code",
   "execution_count": null,
   "metadata": {},
   "outputs": [],
   "source": [
    "img, white, dark = read_data('C1_NIR', vnir=False)\n",
    "img.shape\n",
    "dark.shape"
   ]
  },
  {
   "cell_type": "code",
   "execution_count": null,
   "metadata": {},
   "outputs": [],
   "source": [
    "import spectral.io.envi as envi\n",
    "\n",
    "vnir_ref_path = os.path.join(config.POLYMER_DATASET_DIR, 'Calibration/VNIR/')\n",
    "\n",
    "vnir_white_data = envi.open(os.path.join(vnir_ref_path, 'VNIRwhiteReference.hdr'))\n",
    "vnir_dark_data = envi.open(os.path.join(vnir_ref_path, 'VNIRdarkReference.hdr'))\n",
    "\n",
    "vnir_polymer_path = os.path.join(config.POLYMER_DATASET_DIR, 'Sensor_VNIR/C1_VNIR/')\n",
    "vnir_polymer = envi.open(os.path.join(vnir_polymer_path, 'raw.hdr'))\n",
    "\n",
    "\n",
    "img = vnir_polymer.read_bands(np.arange(vnir_polymer.nbands))\n",
    "dark_ref = vnir_dark_data.read_bands(np.arange(vnir_dark_data.nbands))\n",
    "white_ref = vnir_white_data.read_bands(np.arange(vnir_white_data.nbands))\n",
    "\n",
    "c_vnir_img = calibration(img, white_ref, dark_ref)\n",
    "c_vnir_img = median(c_vnir_img, kernel_size=5)\n",
    "c_vnir_img = (c_vnir_img / c_vnir_img.max())\n"
   ]
  },
  {
   "cell_type": "code",
   "execution_count": null,
   "metadata": {},
   "outputs": [],
   "source": [
    "c_vnir_img = None\n",
    "vnir_white_data = None\n",
    "vnir_dark_data = None\n",
    "vnir_polymer = None\n",
    "img = None"
   ]
  },
  {
   "cell_type": "markdown",
   "metadata": {},
   "source": [
    "## Read Data and Calibration"
   ]
  },
  {
   "cell_type": "code",
   "execution_count": null,
   "metadata": {},
   "outputs": [],
   "source": [
    "import spectral.io.envi as envi\n",
    "\n",
    "vnir_ref_path = os.path.join(config.POLYMER_DATASET_DIR, 'Calibration/VNIR/')\n",
    "\n",
    "vnir_white_data = envi.open(os.path.join(vnir_ref_path, 'VNIRwhiteReference.hdr'))\n",
    "vnir_dark_data = envi.open(os.path.join(vnir_ref_path, 'VNIRdarkReference.hdr'))\n",
    "\n",
    "vnir_polymer_path = os.path.join(config.POLYMER_DATASET_DIR, 'Sensor_VNIR/C1_VNIR/')\n",
    "vnir_polymer = envi.open(os.path.join(vnir_polymer_path, 'raw.hdr'))\n",
    "\n",
    "# Bands to use\n",
    "bands = np.linspace(0, vnir_white_data.nbands-1, num=128, dtype=np.uint)\n",
    "\n",
    "img = vnir_polymer.read_bands(bands)\n",
    "dark_ref = vnir_dark_data.read_bands(bands)\n",
    "white_ref = vnir_white_data.read_bands(bands)\n",
    "\n",
    "vnir_white_data = None\n",
    "vnir_dark_data = None\n",
    "vnir_polymer = None\n",
    "\n",
    "c_vnir_img = calibration(img, white_ref, dark_ref)\n",
    "# Filter and Normalize\n",
    "c_vnir_img = median(c_vnir_img, kernel_size=5)\n",
    "c_vnir_img = (c_vnir_img / c_vnir_img.max())\n",
    "\n",
    "dark_ref = None\n",
    "white_ref = None\n",
    "\n",
    "vnir_w, vnir_h, vnir_c = c_vnir_img.shape \n",
    "tiny_vnir_img = c_vnir_img.reshape(vnir_w*vnir_h, vnir_c)"
   ]
  },
  {
   "cell_type": "markdown",
   "metadata": {},
   "source": [
    "## 1-Norm"
   ]
  },
  {
   "cell_type": "code",
   "execution_count": null,
   "metadata": {},
   "outputs": [],
   "source": [
    "from HySpecLab.transform import Norm1Transform\n",
    "\n",
    "transform = Norm1Transform()\n",
    "tiny_vnir_img_norm = transform.fit_transform(tiny_vnir_img)\n",
    "vnir_img_norm = tiny_vnir_img_norm.reshape(vnir_w, vnir_h, vnir_c)"
   ]
  },
  {
   "cell_type": "markdown",
   "metadata": {},
   "source": [
    "# Plot signals\n",
    "\n",
    "* **tiny_vnir_img**\n",
    "* **tiny_vnir_img_norm**\n",
    "* **tiny_vnir_img_norm_filtered** "
   ]
  },
  {
   "cell_type": "code",
   "execution_count": null,
   "metadata": {},
   "outputs": [],
   "source": [
    "fig, ax = plt.subplots(nrows=1, ncols=2, figsize=(16,4))\n",
    "\n",
    "samples_idx = np.arange(0, 1200, 400)\n",
    "\n",
    "ax[0].set_title('Original')\n",
    "ax[0].plot(tiny_vnir_img[samples_idx].T)\n",
    "ax[1].set_title('1-Norm')\n",
    "ax[1].plot(tiny_vnir_img_norm[samples_idx].T)\n",
    "\n",
    "plt.show()"
   ]
  },
  {
   "cell_type": "code",
   "execution_count": null,
   "metadata": {},
   "outputs": [],
   "source": [
    "from sklearn.decomposition import IncrementalPCA, PCA\n",
    "\n",
    "n_components = 5\n",
    "# pca = IncrementalPCA(n_components=n_components)\n",
    "pca = PCA(n_components=n_components)\n",
    "test = pca.fit_transform(tiny_vnir_img.copy())\n",
    "test = test.reshape(vnir_w, vnir_h, n_components)\n",
    "\n",
    "test_norm = pca.fit_transform(tiny_vnir_img_norm.copy())\n",
    "test_norm = test_norm.reshape(vnir_w, vnir_h, n_components)"
   ]
  },
  {
   "cell_type": "code",
   "execution_count": null,
   "metadata": {},
   "outputs": [],
   "source": [
    "fig, ax = plt.subplots(nrows=2, ncols=n_components, figsize=(16,4))\n",
    "\n",
    "for i in range(n_components):\n",
    "    ax[0, i].imshow(test[:,:,i])\n",
    "    ax[0, i].set_title('Component {}'.format(i))\n",
    "    ax[0, i].set_xticklabels([])\n",
    "    ax[0, i].set_yticklabels([])\n",
    "\n",
    "ax[0, 0].set_ylabel('Original')\n",
    "\n",
    "for i in range(n_components):\n",
    "    ax[1, i].imshow(test_norm[:,:,i])\n",
    "    ax[1, i].set_xticklabels([])\n",
    "    ax[1, i].set_yticklabels([])\n",
    "\n",
    "ax[1, 0].set_ylabel('1-Norm')\n",
    "\n",
    "plt.show()\n"
   ]
  },
  {
   "cell_type": "code",
   "execution_count": null,
   "metadata": {},
   "outputs": [],
   "source": [
    "fig, ax = plt.subplots(nrows=1, ncols=2, figsize=(16,4))\n",
    "\n",
    "ax[0].set_title('Original')\n",
    "ax[0].set_xlabel('Commponent 1')\n",
    "ax[0].set_ylabel('Commponent 0')\n",
    "ax[0].scatter(test[:,:, 1].flatten()[::50], test[:,:, 0].flatten()[::50])\n",
    "\n",
    "ax[1].set_title('1-Norm')\n",
    "ax[1].set_xlabel('Commponent 1')\n",
    "ax[1].set_ylabel('Commponent 0')\n",
    "ax[1].scatter(test_norm[:,:, 1].flatten()[::50], test_norm[:,:, 0].flatten()[::50])\n",
    "plt.show()"
   ]
  },
  {
   "cell_type": "code",
   "execution_count": null,
   "metadata": {},
   "outputs": [],
   "source": [
    "cmp_0 = test_norm[:,:, 0].flatten().reshape(-1,1)\n",
    "cmp_1 = test_norm[:,:, 1].flatten().reshape(-1,1)\n",
    "\n",
    "X = np.concatenate([cmp_0, cmp_1], axis=1)"
   ]
  },
  {
   "cell_type": "code",
   "execution_count": null,
   "metadata": {},
   "outputs": [],
   "source": [
    "from sklearn.cluster import KMeans\n",
    "n_clusters = 4\n",
    "model = KMeans(n_clusters=n_clusters, random_state=0).fit(X)"
   ]
  },
  {
   "cell_type": "code",
   "execution_count": null,
   "metadata": {},
   "outputs": [],
   "source": [
    "fig, ax = plt.subplots(nrows=1, ncols=n_clusters+1, figsize=(16,4))\n",
    "\n",
    "result = model.labels_.reshape(vnir_w, vnir_h)\n",
    "\n",
    "ax[0].imshow(result)\n",
    "ax[0].set_xticklabels([])\n",
    "ax[0].set_yticklabels([])\n",
    "\n",
    "for i in range(n_clusters):\n",
    "    mask = np.zeros(result.shape)\n",
    "    mask[np.where(result==i)] = 1\n",
    "    ax[i+1].imshow(mask)\n",
    "    ax[i+1].set_title('Label {}'.format(i))\n",
    "    ax[i+1].set_xticklabels([])\n",
    "    ax[i+1].set_yticklabels([])\n",
    "\n",
    "plt.show()"
   ]
  },
  {
   "cell_type": "code",
   "execution_count": null,
   "metadata": {},
   "outputs": [],
   "source": [
    "from scipy import linalg\n",
    "\n",
    "selected_data = tiny_vnir_img\n",
    "C   = np.cov(selected_data.T)\n",
    "D,V = linalg.eig(C)\n",
    "print(D)"
   ]
  },
  {
   "cell_type": "code",
   "execution_count": null,
   "metadata": {},
   "outputs": [],
   "source": [
    "plt.imshow(C)\n",
    "plt.colorbar()"
   ]
  },
  {
   "cell_type": "code",
   "execution_count": null,
   "metadata": {},
   "outputs": [],
   "source": [
    "TinyVecsPCA = np.dot(V.T, selected_data.T)\n"
   ]
  },
  {
   "cell_type": "code",
   "execution_count": null,
   "metadata": {},
   "outputs": [],
   "source": [
    "TinyVecsPCA.shape"
   ]
  },
  {
   "cell_type": "code",
   "execution_count": null,
   "metadata": {},
   "outputs": [],
   "source": [
    "P1 = TinyVecsPCA[0, :]\n",
    "PCAIm      = np.reshape(P1, (vnir_w, vnir_h))\n",
    "plt.imshow(PCAIm)"
   ]
  },
  {
   "cell_type": "markdown",
   "metadata": {},
   "source": [
    "# Features Selection"
   ]
  },
  {
   "cell_type": "code",
   "execution_count": null,
   "metadata": {},
   "outputs": [],
   "source": [
    "from HySpecLab.feature_selection import InterbandRedundancySelector\n",
    "\n",
    "selector = InterbandRedundancySelector(threshold=12)\n",
    "selector.fit(tiny_vnir_img_norm[::25,:])"
   ]
  },
  {
   "cell_type": "code",
   "execution_count": null,
   "metadata": {},
   "outputs": [],
   "source": [
    "print('Features selected: {}'.format(np.argwhere(selector.mask_).flatten()))"
   ]
  },
  {
   "cell_type": "code",
   "execution_count": null,
   "metadata": {},
   "outputs": [],
   "source": [
    "n_features = selector.mask_.sum().item()\n",
    "tiny_vnir_reduced = selector.transform(tiny_vnir_img).reshape(vnir_w, vnir_h, n_features)\n",
    "fig, ax = plt.subplots(nrows=1, ncols=n_features, figsize=(16,4))\n",
    "\n",
    "for i in range(n_features):\n",
    "    ax[i].imshow(tiny_vnir_reduced[:,:, i])\n",
    "    # ax[i].set_title('Label {}'.format(i))\n",
    "    ax[i].set_xticklabels([])\n",
    "    ax[i].set_yticklabels([])\n",
    "\n",
    "plt.show()"
   ]
  },
  {
   "cell_type": "markdown",
   "metadata": {},
   "source": [
    "# NIR"
   ]
  },
  {
   "cell_type": "code",
   "execution_count": null,
   "metadata": {},
   "outputs": [],
   "source": [
    "import spectral.io.envi as envi\n",
    "\n",
    "nir_ref_path = os.path.join(config.POLYMER_DATASET_DIR, 'Calibration/NIR/')\n",
    "\n",
    "nir_white_data = envi.open(os.path.join(nir_ref_path, 'NIRwhiteReference.hdr'))\n",
    "nir_dark_data = envi.open(os.path.join(nir_ref_path, 'NIRdarkReference.hdr'))\n",
    "\n",
    "nir_polymer_path = os.path.join(config.POLYMER_DATASET_DIR, 'Sensor_NIR/C1_NIR/')\n",
    "nir_polymer = envi.open(os.path.join(nir_polymer_path, 'raw.hdr'))\n",
    "\n",
    "bands = np.arange(nir_polymer.nbands)\n",
    "img = nir_polymer.read_bands(bands)\n",
    "dark_ref = nir_dark_data.read_bands(bands)\n",
    "white_ref = nir_white_data.read_bands(bands)\n",
    "\n",
    "nir_white_data = None\n",
    "nir_dark_data = None\n",
    "nir_polymer = None\n",
    "\n",
    "c_nir_img = calibration(img, white_ref, dark_ref)\n",
    "# Filter and Normalize\n",
    "c_nir_img = median(c_nir_img, kernel_size=5)\n",
    "c_nir_img = (c_nir_img / c_nir_img.max())\n",
    "\n",
    "dark_ref = None\n",
    "white_ref = None\n",
    "\n",
    "nir_w, nir_h, nir_c = c_nir_img.shape \n",
    "tiny_nir_img = c_nir_img.reshape(nir_w*nir_h, nir_c)"
   ]
  },
  {
   "cell_type": "markdown",
   "metadata": {},
   "source": [
    "## 1-Norm"
   ]
  },
  {
   "cell_type": "code",
   "execution_count": null,
   "metadata": {},
   "outputs": [],
   "source": [
    "from HySpecLab.transform import Norm1Transform\n",
    "\n",
    "transform = Norm1Transform()\n",
    "tiny_nir_img_norm = transform.fit_transform(tiny_nir_img)\n",
    "nir_img_norm = tiny_nir_img_norm.reshape(nir_w, nir_h, nir_c)"
   ]
  },
  {
   "cell_type": "code",
   "execution_count": null,
   "metadata": {},
   "outputs": [],
   "source": [
    "fig, ax = plt.subplots(nrows=1, ncols=2, figsize=(16,4))\n",
    "\n",
    "samples_idx = np.arange(0, 800, 400)\n",
    "\n",
    "ax[0].set_title('Original')\n",
    "ax[0].plot(tiny_nir_img[samples_idx].T)\n",
    "ax[1].set_title('1-Norm')\n",
    "ax[1].plot(tiny_nir_img_norm[samples_idx].T)\n",
    "\n",
    "plt.show()"
   ]
  },
  {
   "cell_type": "code",
   "execution_count": null,
   "metadata": {},
   "outputs": [],
   "source": [
    "from sklearn.decomposition import IncrementalPCA, PCA\n",
    "\n",
    "n_components = 5\n",
    "# pca = IncrementalPCA(n_components=n_components)\n",
    "pca = PCA(n_components=n_components)\n",
    "test = pca.fit_transform(tiny_nir_img.copy())\n",
    "test = test.reshape(nir_w, nir_h, n_components)\n",
    "\n",
    "test_norm = pca.fit_transform(tiny_nir_img_norm.copy())\n",
    "test_norm = test_norm.reshape(nir_w, nir_h, n_components)"
   ]
  },
  {
   "cell_type": "code",
   "execution_count": null,
   "metadata": {},
   "outputs": [],
   "source": [
    "fig, ax = plt.subplots(nrows=2, ncols=n_components, figsize=(16,4))\n",
    "\n",
    "for i in range(n_components):\n",
    "    ax[0, i].imshow(test[:,:,i])\n",
    "    ax[0, i].set_title('Component {}'.format(i))\n",
    "    ax[0, i].set_xticklabels([])\n",
    "    ax[0, i].set_yticklabels([])\n",
    "\n",
    "ax[0, 0].set_ylabel('Original')\n",
    "\n",
    "for i in range(n_components):\n",
    "    ax[1, i].imshow(test_norm[:,:,i])\n",
    "    ax[1, i].set_xticklabels([])\n",
    "    ax[1, i].set_yticklabels([])\n",
    "\n",
    "ax[1, 0].set_ylabel('1-Norm')\n",
    "\n",
    "plt.show()"
   ]
  },
  {
   "cell_type": "code",
   "execution_count": null,
   "metadata": {},
   "outputs": [],
   "source": [
    "fig, ax = plt.subplots(nrows=1, ncols=2, figsize=(16,4))\n",
    "\n",
    "ax[0].set_title('Original')\n",
    "ax[0].set_xlabel('Commponent 1')\n",
    "ax[0].set_ylabel('Commponent 0')\n",
    "ax[0].scatter(test[:,:, 1].flatten()[::50], test[:,:, 0].flatten()[::50])\n",
    "\n",
    "ax[1].set_title('1-Norm')\n",
    "ax[1].set_xlabel('Commponent 1')\n",
    "ax[1].set_ylabel('Commponent 0')\n",
    "ax[1].scatter(test_norm[:,:, 1].flatten()[::50], test_norm[:,:, 0].flatten()[::50])\n",
    "plt.show()"
   ]
  },
  {
   "cell_type": "code",
   "execution_count": null,
   "metadata": {},
   "outputs": [],
   "source": [
    "cmp_0 = test[:,:, 0].flatten().reshape(-1,1)\n",
    "cmp_1 = test[:,:, 1].flatten().reshape(-1,1)\n",
    "\n",
    "X = np.concatenate([cmp_0, cmp_1], axis=1)"
   ]
  },
  {
   "cell_type": "code",
   "execution_count": null,
   "metadata": {},
   "outputs": [],
   "source": [
    "from sklearn.cluster import KMeans\n",
    "n_clusters = 3\n",
    "model = KMeans(n_clusters=n_clusters, random_state=0).fit(X)"
   ]
  },
  {
   "cell_type": "code",
   "execution_count": null,
   "metadata": {},
   "outputs": [],
   "source": [
    "fig, ax = plt.subplots(nrows=1, ncols=n_clusters+1, figsize=(16,4))\n",
    "\n",
    "result = model.labels_.reshape(nir_w, nir_h)\n",
    "\n",
    "ax[0].imshow(result)\n",
    "ax[0].set_xticklabels([])\n",
    "ax[0].set_yticklabels([])\n",
    "\n",
    "for i in range(n_clusters):\n",
    "    mask = np.zeros(result.shape)\n",
    "    mask[np.where(result==i)] = 1\n",
    "    ax[i+1].imshow(mask)\n",
    "    ax[i+1].set_title('Label {}'.format(i))\n",
    "    ax[i+1].set_xticklabels([])\n",
    "    ax[i+1].set_yticklabels([])\n",
    "\n",
    "plt.show()"
   ]
  },
  {
   "cell_type": "code",
   "execution_count": null,
   "metadata": {},
   "outputs": [],
   "source": []
  }
 ],
 "metadata": {
  "interpreter": {
   "hash": "bc81a3ec444beb1d5a523daf231afa571e79be8a57abb6fe0028623a3d4d7136"
  },
  "kernelspec": {
   "display_name": "Python 3.9.7 64-bit ('HySpecLab': conda)",
   "language": "python",
   "name": "python3"
  },
  "language_info": {
   "codemirror_mode": {
    "name": "ipython",
    "version": 3
   },
   "file_extension": ".py",
   "mimetype": "text/x-python",
   "name": "python",
   "nbconvert_exporter": "python",
   "pygments_lexer": "ipython3",
   "version": "3.9.7"
  },
  "orig_nbformat": 4
 },
 "nbformat": 4,
 "nbformat_minor": 2
}
