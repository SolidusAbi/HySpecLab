{
 "cells": [
  {
   "cell_type": "code",
   "execution_count": null,
   "source": [
    "import skopt\n",
    "import numpy as np\n",
    "import pandas as pd\n",
    "from sklearn.model_selection import cross_val_score, RepeatedStratifiedKFold\n",
    "from sklearn.svm import SVC\n",
    "from skopt.space import Integer\n",
    "from skopt.space import Real\n",
    "from skopt.space import Categorical\n",
    "from skopt.utils import use_named_args\n",
    "from skopt import gp_minimize"
   ],
   "outputs": [],
   "metadata": {}
  },
  {
   "cell_type": "code",
   "execution_count": null,
   "source": [
    "# Test!!\n",
    "\n",
    "url = 'https://raw.githubusercontent.com/jbrownlee/Datasets/master/ionosphere.csv'\n",
    "df = pd.read_csv(url, header=None)\n",
    "data = df.values\n",
    "\n",
    "x, y = data[:, :-1], data[:, -1]"
   ],
   "outputs": [],
   "metadata": {}
  },
  {
   "cell_type": "code",
   "execution_count": null,
   "source": [
    "from sklearn.base import BaseEstimator, TransformerMixin\n",
    "\n",
    "class FeatureEquidistantSelection(TransformerMixin, BaseEstimator):\n",
    "    def __init__(self, n_features_to_select=None):\n",
    "        self.n_features_to_select = n_features_to_select\n",
    "        self.selected_features_idx = []\n",
    "\n",
    "    def get_params(self, deep=True):\n",
    "        return {\"n_features_to_select\": self.n_features_to_select}       \n",
    "\n",
    "    def fit(self, X, y=None):\n",
    "        n_features = X.shape[1]\n",
    "        self.selected_features_idx = np.linspace(0, n_features-1, self.n_features_to_select, dtype=int)\n",
    "        return self\n",
    "\n",
    "    def transform(self, X, y=None, **kwargs):\n",
    "        return X[:, self.selected_features_idx]\n",
    "\n",
    "\n",
    "class FeatureSelection(TransformerMixin, BaseEstimator):\n",
    "    def __init__(self, n_features=None, selected_features=None):\n",
    "        self.n_features = n_features\n",
    "        self.selected_features = selected_features\n",
    "\n",
    "    # def get_params(self, deep=True):\n",
    "    #     params = dict()\n",
    "    #     for feature in list(self.__dict__.keys()):\n",
    "    #         params[feature] = getattr(self, feature)\n",
    "            \n",
    "    #     return params\n",
    "\n",
    "    # def set_params(self, **parameters):\n",
    "    #     for parameter, value in parameters.items():\n",
    "    #         setattr(self, parameter, value)\n",
    "    #     return self\n",
    "\n",
    "    def fit(self, X, y=None):\n",
    "        # n_features = X.shape[1]\n",
    "        # self.selected_features_idx = np.linspace(0, n_features-1, self.n_features_to_select, dtype=int)\n",
    "        return self\n",
    "\n",
    "    def transform(self, X, y=None, **kwargs):\n",
    "        if self.selected_features:\n",
    "            feature_idx = format(self.selected_features, \"b\").zfill(n_bits)\n",
    "            feature_idx = np.array(list(map(int, feature_idx)), dtype=np.bool_)\n",
    "            print(feature_idx)\n",
    "            return X[:, feature_idx]\n",
    "        \n",
    "        return X"
   ],
   "outputs": [],
   "metadata": {}
  },
  {
   "cell_type": "code",
   "execution_count": null,
   "source": [
    "from sklearn.pipeline import Pipeline\n",
    "from skopt import BayesSearchCV\n",
    "\n",
    "\n",
    "pipe = Pipeline([(\"transform\", FeatureEquidistantSelection()), ('svc', SVC())])\n",
    "\n",
    "params = dict()\n",
    "n_features = x.shape[1]\n",
    "params['transform__n_features_to_select'] = (8, 34, 'uniform')\n",
    "params['svc__C'] = (1e-6, 100.0, 'log-uniform')\n",
    "params['svc__gamma'] = (1e-6, 100.0, 'log-uniform')\n",
    "params['svc__degree'] = (1,5)\n",
    "params['svc__kernel'] = ['linear', 'poly', 'rbf', 'sigmoid']\n",
    "\n",
    "# define evaluation\n",
    "cv = RepeatedStratifiedKFold(n_splits=10, n_repeats=3, random_state=1)\n",
    "# define the search\n",
    "search = BayesSearchCV(estimator=pipe, search_spaces=params, n_jobs=-1, cv=cv)\n",
    "# perform the search\n",
    "search.fit(x, y)\n",
    "# report the best result\n",
    "print(search.best_score_)\n",
    "print(search.best_params_)"
   ],
   "outputs": [],
   "metadata": {}
  },
  {
   "cell_type": "code",
   "execution_count": null,
   "source": [
    "from sklearn.pipeline import Pipeline\n",
    "from skopt import BayesSearchCV\n",
    "from skopt.space import Categorical\n",
    "\n",
    "pipe = Pipeline([(\"transform\", FeatureEquidistantSelection()), ('svc', SVC())])\n",
    "\n",
    "params = dict()\n",
    "\n",
    "params['transform__selected_features'] = Categorical( 'uniform',transform='onehot', name='kernel')\n",
    "params['svc__C'] = (1e-6, 100.0, 'log-uniform')\n",
    "params['svc__gamma'] = (1e-6, 100.0, 'log-uniform')\n",
    "params['svc__degree'] = (1,5)\n",
    "params['svc__kernel'] = ['linear', 'poly', 'rbf', 'sigmoid']\n",
    "\n",
    "# define evaluation\n",
    "cv = RepeatedStratifiedKFold(n_splits=10, n_repeats=3, random_state=1)\n",
    "# define the search\n",
    "search = BayesSearchCV(estimator=pipe, search_spaces=params, n_jobs=-1, cv=cv)\n",
    "# perform the search\n",
    "search.fit(x, y)\n",
    "# report the best result\n",
    "print(search.best_score_)\n",
    "print(search.best_params_)"
   ],
   "outputs": [],
   "metadata": {}
  },
  {
   "cell_type": "code",
   "execution_count": null,
   "source": [
    "from skopt.space import Categorical\n",
    "a = Categorical(['linear', 'poly', 'rbf', 'sigmoid'], transform='onehot', name='kernel')"
   ],
   "outputs": [],
   "metadata": {}
  },
  {
   "cell_type": "code",
   "execution_count": null,
   "source": [
    "a = FeatureSelection()\n",
    "a.get_params().keys()\n",
    "params = {'a':1, 'b':2}\n",
    "a.set_params(**params)\n",
    "a.get_params(deep=True)"
   ],
   "outputs": [],
   "metadata": {}
  },
  {
   "cell_type": "code",
   "execution_count": 127,
   "source": [
    "a = FeatureSelection()\n",
    "params = {'n_features':34, 'selected_features':737118218}\n",
    "a.set_params(**params)\n",
    "print(x.shape)\n",
    "a.transform(x).shape"
   ],
   "outputs": [
    {
     "output_type": "stream",
     "name": "stdout",
     "text": [
      "(351, 34)\n",
      "[False False False False  True False  True False  True  True  True  True\n",
      "  True False  True  True  True  True  True False False False  True False\n",
      " False False False False False False  True False  True False]\n"
     ]
    },
    {
     "output_type": "execute_result",
     "data": {
      "text/plain": [
       "(351, 15)"
      ]
     },
     "metadata": {},
     "execution_count": 127
    }
   ],
   "metadata": {}
  },
  {
   "cell_type": "code",
   "execution_count": 128,
   "source": [
    "value = 737118218\n",
    "# temp = {:7.2f.}format(value, \"b\")\n",
    "\n",
    "n_bits = 34\n",
    "temp = format(value, \"b\")\n",
    "temp = temp.zfill(n_bits)\n",
    "print(temp)\n"
   ],
   "outputs": [
    {
     "output_type": "stream",
     "name": "stdout",
     "text": [
      "0000101011111011111000100000001010\n"
     ]
    }
   ],
   "metadata": {}
  },
  {
   "cell_type": "code",
   "execution_count": null,
   "source": [
    "from itertools import compress, product\n",
    "\n",
    "def combinations(items):\n",
    "    return ( set(compress(items,mask)) for mask in product(*[[0,1]]*len(items)) )\n",
    "    # alternative:                      ...in product([0,1], repeat=len(items)) )\n",
    "\n",
    "list(combinations(range(0, 24)))"
   ],
   "outputs": [],
   "metadata": {}
  },
  {
   "cell_type": "code",
   "execution_count": null,
   "source": [
    "value = 2**(34)-1\n",
    "\n",
    "temp = format(value, \"b\")\n",
    "print(temp)\n"
   ],
   "outputs": [],
   "metadata": {}
  },
  {
   "cell_type": "code",
   "execution_count": null,
   "source": [
    "results = list(map(int, temp))\n",
    "print(results)"
   ],
   "outputs": [],
   "metadata": {}
  },
  {
   "cell_type": "code",
   "execution_count": null,
   "source": [
    "c = np.arange(0, 10).reshape(2,5)\n",
    "print(c)\n",
    "print(c[:, np.array([0, 1, 0, 0, 1], dtype=np.bool_)])"
   ],
   "outputs": [],
   "metadata": {}
  },
  {
   "cell_type": "code",
   "execution_count": null,
   "source": [
    "np.array()"
   ],
   "outputs": [],
   "metadata": {}
  }
 ],
 "metadata": {
  "orig_nbformat": 4,
  "language_info": {
   "name": "python",
   "version": "3.9.7",
   "mimetype": "text/x-python",
   "codemirror_mode": {
    "name": "ipython",
    "version": 3
   },
   "pygments_lexer": "ipython3",
   "nbconvert_exporter": "python",
   "file_extension": ".py"
  },
  "kernelspec": {
   "name": "python3",
   "display_name": "Python 3.9.7 64-bit ('HySpecLab': conda)"
  },
  "interpreter": {
   "hash": "ad5935529b3b777884ef70b3275d7b140d952d98f99a9f9dfce92ade9f76e179"
  }
 },
 "nbformat": 4,
 "nbformat_minor": 2
}