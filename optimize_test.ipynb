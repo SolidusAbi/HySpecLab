{
 "cells": [
  {
   "cell_type": "code",
   "execution_count": 2,
   "source": [
    "import skopt\n",
    "import numpy as np\n",
    "import pandas as pd\n",
    "from sklearn.model_selection import cross_val_score, RepeatedStratifiedKFold\n",
    "from sklearn.svm import SVC\n",
    "from skopt.space import Integer\n",
    "from skopt.space import Real\n",
    "from skopt.space import Categorical\n",
    "from skopt.utils import use_named_args\n",
    "from skopt import gp_minimize"
   ],
   "outputs": [],
   "metadata": {}
  },
  {
   "cell_type": "markdown",
   "source": [
    "# Optimization\n",
    "\n",
    "## Steps involved in HyperOptimization using Scikit-Optimizer\n",
    "\n",
    "1. Define the space of hyperparameters to search\n",
    "1. Define the function used to evaluate a given configuration\n",
    "1. Minimize the loss using Space and Function defined in previous steps."
   ],
   "metadata": {}
  },
  {
   "cell_type": "code",
   "execution_count": 3,
   "source": [
    "url = 'https://raw.githubusercontent.com/jbrownlee/Datasets/master/ionosphere.csv'\n",
    "df = pd.read_csv(url, header=None)\n",
    "data = df.values\n",
    "\n",
    "x, y = data[:, :-1], data[:, -1]\n",
    "print(x.shape, y.shape)"
   ],
   "outputs": [
    {
     "output_type": "stream",
     "name": "stdout",
     "text": [
      "(351, 34) (351,)\n"
     ]
    }
   ],
   "metadata": {}
  },
  {
   "cell_type": "code",
   "execution_count": 6,
   "source": [
    "import os, sys\n",
    "\n",
    "project_dir = os.getcwd()\n",
    "if project_dir not in sys.path:\n",
    "    sys.path.append(project_dir)\n",
    "\n",
    "from feature_selection import FeatureSelection"
   ],
   "outputs": [],
   "metadata": {}
  },
  {
   "cell_type": "code",
   "execution_count": 20,
   "source": [
    "model = FeatureSelection(n_features=1, selected_features=(2**34)-1)\n",
    "model.fit(x)\n",
    "model.transform(x).shape"
   ],
   "outputs": [
    {
     "output_type": "execute_result",
     "data": {
      "text/plain": [
       "(351, 34)"
      ]
     },
     "metadata": {},
     "execution_count": 20
    }
   ],
   "metadata": {}
  },
  {
   "cell_type": "code",
   "execution_count": 3,
   "source": [
    "n_features = x.shape[1]"
   ],
   "outputs": [],
   "metadata": {}
  },
  {
   "cell_type": "markdown",
   "source": [
    "## 1. Define the space of hyperparameters to search"
   ],
   "metadata": {}
  },
  {
   "cell_type": "code",
   "execution_count": 4,
   "source": [
    "search_space = list()\n",
    "search_space.append(Real(1e-6, 100.0, 'log-uniform', name='C'))\n",
    "search_space.append(Categorical(['linear', 'poly', 'rbf', 'sigmoid'], name='kernel'))\n",
    "search_space.append(Integer(1, 5, name='degree'))\n",
    "search_space.append(Real(1e-6, 100.0, 'log-uniform', name='gamma'))\n",
    "search_space.append(Integer(10, n_features, name='n_features'))"
   ],
   "outputs": [],
   "metadata": {}
  },
  {
   "cell_type": "markdown",
   "source": [
    "## 2. Define the function used to evaluate a given configuration"
   ],
   "metadata": {}
  },
  {
   "cell_type": "code",
   "execution_count": 11,
   "source": [
    "@use_named_args(search_space) # https://scikit-optimize.github.io/stable/modules/generated/skopt.utils.use_named_args.html\n",
    "def evaluate_model(**params):\n",
    "\tmodel_params = {key: value for key, value in params.items() if key != 'n_features'}\n",
    "\tfeatures_idx = np.linspace(0, n_features-1, params['n_features'], dtype=int)\n",
    "\t# configure the model with specific hyperparameters\n",
    "\tmodel = SVC()\n",
    "\tmodel.set_params(**model_params)\n",
    "\t# define test harness\n",
    "\tcv = RepeatedStratifiedKFold(n_splits=10, n_repeats=3, random_state=1)\n",
    "\t# calculate 5-fold cross validation\n",
    "\tresult = cross_val_score(model, x[:, features_idx], y, cv=cv, n_jobs=-1, scoring='accuracy')\n",
    "\t# calculate the mean of the scores\n",
    "\testimate = np.mean(result)\n",
    "\t# convert from a maximizing score to a minimizing score\n",
    "\treturn 1.0 - estimate"
   ],
   "outputs": [],
   "metadata": {}
  },
  {
   "cell_type": "markdown",
   "source": [
    "## 3. Perform optimization"
   ],
   "metadata": {}
  },
  {
   "cell_type": "code",
   "execution_count": 12,
   "source": [
    "result = gp_minimize(evaluate_model, search_space)"
   ],
   "outputs": [],
   "metadata": {}
  },
  {
   "cell_type": "code",
   "execution_count": 13,
   "source": [
    "# summarizing finding:\n",
    "print('Best Accuracy: %.3f' % (1.0 - result.fun))\n",
    "print('Best Parameters: %s' % (result.x))"
   ],
   "outputs": [
    {
     "output_type": "stream",
     "name": "stdout",
     "text": [
      "Best Accuracy: 0.952\n",
      "Best Parameters: [0.5810616726309397, 'rbf', 1, 0.19977534459005017, 31]\n"
     ]
    }
   ],
   "metadata": {}
  },
  {
   "cell_type": "markdown",
   "source": [
    "# Automated Way\n",
    "\n",
    "The Scikit-Optimize library provides a similar interface for performing a Bayesian Optimization of model hyperparameters via the BayesSearchCV class."
   ],
   "metadata": {}
  },
  {
   "cell_type": "code",
   "execution_count": null,
   "source": [
    "from skopt import BayesSearchCV\n",
    "\n",
    "# Define search space\n",
    "params = dict()\n",
    "params['C'] = (1e-6, 100.0, 'log-uniform')\n",
    "params['gamma'] = (1e-6, 100.0, 'log-uniform')\n",
    "params['degree'] = (1,5)\n",
    "params['kernel'] = ['linear', 'poly', 'rbf', 'sigmoid']\n",
    "\n",
    "# define evaluation\n",
    "cv = RepeatedStratifiedKFold(n_splits=10, n_repeats=3, random_state=1)\n",
    "# define the search\n",
    "search = BayesSearchCV(estimator=SVC(), search_spaces=params, n_jobs=-1, cv=cv)\n",
    "# perform the search\n",
    "search.fit(x, y)\n",
    "# report the best result\n",
    "print(search.best_score_)\n",
    "print(search.best_params_)"
   ],
   "outputs": [],
   "metadata": {}
  },
  {
   "cell_type": "code",
   "execution_count": null,
   "source": [
    "# import scipy.io\n",
    "# data_dir = \"/home/abian/Data/Dataset/IUMA/DermaDatabase/\"\n",
    "# files = list(map(lambda x: os.path.join(data_dir, x), os.listdir(data_dir)))\n",
    "# for filename in files:\n",
    "#     mat = scipy.io.loadmat(filename)\n",
    "#     print(mat)\n",
    "# mat['patient']"
   ],
   "outputs": [],
   "metadata": {}
  },
  {
   "cell_type": "code",
   "execution_count": null,
   "source": [
    "class SVC2(SVC):\n",
    "    def __init__(self, feature=-1, C=1.0, kernel='rbf', degree=3, gamma='scale'):\n",
    "        '''\n",
    "            Parameters:\n",
    "            ---\n",
    "                feature (int): features to uses from the dataset\n",
    "        '''\n",
    "        pass"
   ],
   "outputs": [],
   "metadata": {}
  },
  {
   "cell_type": "code",
   "execution_count": 17,
   "source": [
    "from sklearn.feature_selection import SelectFromModel\n",
    "from sklearn.svm import LinearSVC\n",
    "\n",
    "lsvc = LinearSVC(C=0.01, penalty=\"l1\", dual=False)\n",
    "a = SelectFromModel(lsvc)\n",
    "type(a)"
   ],
   "outputs": [
    {
     "output_type": "execute_result",
     "data": {
      "text/plain": [
       "sklearn.feature_selection._from_model.SelectFromModel"
      ]
     },
     "metadata": {},
     "execution_count": 17
    }
   ],
   "metadata": {}
  },
  {
   "cell_type": "code",
   "execution_count": 154,
   "source": [
    "from sklearn.base import BaseEstimator, TransformerMixin\n",
    "\n",
    "class FeatureEquidistantSelection(TransformerMixin, BaseEstimator):\n",
    "    def __init__(self, n_features_to_select=None):\n",
    "        self.n_features_to_select = n_features_to_select\n",
    "        self.selected_features_idx = []\n",
    "\n",
    "    def get_params(self, deep=True):\n",
    "        return {\"n_features_to_select\": self.n_features_to_select}       \n",
    "\n",
    "    def fit(self, X, y=None):\n",
    "        n_features = X.shape[1]\n",
    "        self.selected_features_idx = np.linspace(0, n_features-1, self.n_features_to_select, dtype=int)\n",
    "        return self\n",
    "\n",
    "    def transform(self, X, y=None, **kwargs):\n",
    "        return X[:, self.selected_features_idx]"
   ],
   "outputs": [],
   "metadata": {}
  },
  {
   "cell_type": "code",
   "execution_count": 155,
   "source": [
    "from sklearn.pipeline import Pipeline\n",
    "a = BandSelection()\n",
    "print(a.get_params())\n",
    "new_params = {'n_features_to_select': 10}\n",
    "a.set_params(**new_params)\n",
    "print(a.get_params())\n",
    "\n",
    "model = SVC()\n",
    "pipe = Pipeline([(\"transform\", a), ('svc', model)])\n",
    "\n",
    "new_params = {'transform__n_features_to_select': 22, 'svc__C': 0.12}\n",
    "\n",
    "print(pipe.get_params(deep=False))\n",
    "pipe.set_params(**new_params)\n",
    "print(pipe.get_params(deep=True))\n",
    "# assert pipe.get_params(deep=True) == dict( svc__a=None, svc__b=None, svc=clf, **pipe.get_params(deep=False) )"
   ],
   "outputs": [
    {
     "output_type": "stream",
     "name": "stdout",
     "text": [
      "{'n_features_to_select': None}\n",
      "{'n_features_to_select': 10}\n",
      "{'memory': None, 'steps': [('transform', BandSelection(n_features_to_select=10)), ('svc', SVC())], 'verbose': False}\n",
      "{'memory': None, 'steps': [('transform', BandSelection(n_features_to_select=22)), ('svc', SVC(C=0.12))], 'verbose': False, 'transform': BandSelection(n_features_to_select=22), 'svc': SVC(C=0.12), 'transform__n_features_to_select': 22, 'svc__C': 0.12, 'svc__break_ties': False, 'svc__cache_size': 200, 'svc__class_weight': None, 'svc__coef0': 0.0, 'svc__decision_function_shape': 'ovr', 'svc__degree': 3, 'svc__gamma': 'scale', 'svc__kernel': 'rbf', 'svc__max_iter': -1, 'svc__probability': False, 'svc__random_state': None, 'svc__shrinking': True, 'svc__tol': 0.001, 'svc__verbose': False}\n"
     ]
    }
   ],
   "metadata": {}
  },
  {
   "cell_type": "code",
   "execution_count": 156,
   "source": [
    "X = np.random.rand(10,25)\n",
    "a = BandSelection()\n",
    "new_params = {'n_features_to_select': 20}\n",
    "a.set_params(**new_params)\n",
    "a.fit(X)\n",
    "a.transform(X).shape"
   ],
   "outputs": [
    {
     "output_type": "execute_result",
     "data": {
      "text/plain": [
       "(10, 20)"
      ]
     },
     "metadata": {},
     "execution_count": 156
    }
   ],
   "metadata": {}
  },
  {
   "cell_type": "code",
   "execution_count": 178,
   "source": [
    "# X = np.random.rand(10,25)\n",
    "# y = np.random.randint(10,1)\n",
    "pipe = Pipeline([(\"transform\", a), ('svc', model)])\n",
    "# pipe = Pipeline([(\"transform\", a)])\n",
    "\n",
    "new_params = {'transform__n_features_to_select': 26, 'svc__C': 0.1}\n",
    "pipe.set_params(**new_params)\n",
    "\n",
    "pipe.fit(x, y)\n",
    "pipe.predict(x)"
   ],
   "outputs": [
    {
     "output_type": "execute_result",
     "data": {
      "text/plain": [
       "array(['g', 'b', 'g', 'b', 'g', 'b', 'g', 'b', 'g', 'b', 'g', 'b', 'g',\n",
       "       'g', 'g', 'b', 'g', 'b', 'g', 'b', 'g', 'b', 'g', 'b', 'g', 'b',\n",
       "       'g', 'b', 'g', 'b', 'g', 'b', 'g', 'g', 'g', 'b', 'g', 'b', 'g',\n",
       "       'g', 'g', 'b', 'g', 'b', 'g', 'b', 'g', 'b', 'g', 'b', 'g', 'b',\n",
       "       'g', 'b', 'g', 'b', 'g', 'b', 'g', 'b', 'g', 'b', 'g', 'b', 'g',\n",
       "       'g', 'g', 'b', 'g', 'b', 'g', 'b', 'g', 'g', 'g', 'b', 'g', 'b',\n",
       "       'g', 'b', 'g', 'b', 'g', 'g', 'g', 'g', 'g', 'g', 'g', 'g', 'g',\n",
       "       'b', 'g', 'b', 'g', 'g', 'g', 'g', 'b', 'g', 'b', 'g', 'b', 'g',\n",
       "       'b', 'g', 'b', 'g', 'b', 'g', 'b', 'g', 'b', 'g', 'g', 'g', 'g',\n",
       "       'g', 'b', 'g', 'g', 'g', 'b', 'g', 'b', 'g', 'g', 'g', 'b', 'g',\n",
       "       'g', 'g', 'b', 'g', 'b', 'g', 'b', 'g', 'b', 'g', 'b', 'g', 'g',\n",
       "       'g', 'g', 'g', 'b', 'g', 'g', 'g', 'b', 'g', 'b', 'g', 'b', 'g',\n",
       "       'b', 'g', 'g', 'g', 'b', 'g', 'b', 'g', 'b', 'g', 'b', 'g', 'b',\n",
       "       'g', 'b', 'g', 'b', 'g', 'g', 'g', 'b', 'g', 'b', 'g', 'b', 'g',\n",
       "       'b', 'g', 'b', 'g', 'b', 'g', 'b', 'g', 'b', 'g', 'b', 'g', 'b',\n",
       "       'g', 'b', 'g', 'b', 'g', 'b', 'g', 'b', 'g', 'b', 'g', 'b', 'g',\n",
       "       'b', 'g', 'b', 'g', 'b', 'g', 'b', 'g', 'b', 'g', 'b', 'g', 'b',\n",
       "       'g', 'b', 'g', 'b', 'g', 'b', 'g', 'b', 'g', 'b', 'g', 'b', 'g',\n",
       "       'g', 'g', 'g', 'g', 'b', 'g', 'b', 'g', 'b', 'g', 'g', 'g', 'b',\n",
       "       'g', 'b', 'g', 'b', 'g', 'b', 'g', 'g', 'g', 'g', 'g', 'g', 'g',\n",
       "       'g', 'g', 'g', 'g', 'g', 'g', 'g', 'g', 'g', 'g', 'g', 'g', 'g',\n",
       "       'g', 'g', 'g', 'g', 'g', 'g', 'g', 'g', 'g', 'g', 'g', 'g', 'g',\n",
       "       'g', 'g', 'g', 'g', 'g', 'g', 'g', 'g', 'g', 'g', 'g', 'g', 'g',\n",
       "       'g', 'g', 'g', 'g', 'g', 'g', 'g', 'g', 'g', 'g', 'g', 'g', 'g',\n",
       "       'g', 'g', 'g', 'g', 'g', 'g', 'g', 'g', 'g', 'g', 'g', 'g', 'g',\n",
       "       'g', 'g', 'g', 'g', 'g', 'g', 'g', 'g', 'g', 'g', 'g', 'g', 'g',\n",
       "       'g', 'g', 'b', 'g', 'g', 'g', 'g', 'g', 'g', 'g', 'g', 'g', 'g'],\n",
       "      dtype=object)"
      ]
     },
     "metadata": {},
     "execution_count": 178
    }
   ],
   "metadata": {}
  },
  {
   "cell_type": "code",
   "execution_count": 171,
   "source": [],
   "outputs": [
    {
     "output_type": "execute_result",
     "data": {
      "text/plain": [
       "BandSelection(n_features_to_select=22)"
      ]
     },
     "metadata": {},
     "execution_count": 171
    }
   ],
   "metadata": {}
  },
  {
   "cell_type": "code",
   "execution_count": null,
   "source": [],
   "outputs": [],
   "metadata": {}
  }
 ],
 "metadata": {
  "orig_nbformat": 4,
  "language_info": {
   "name": "python",
   "version": "3.9.7",
   "mimetype": "text/x-python",
   "codemirror_mode": {
    "name": "ipython",
    "version": 3
   },
   "pygments_lexer": "ipython3",
   "nbconvert_exporter": "python",
   "file_extension": ".py"
  },
  "kernelspec": {
   "name": "python3",
   "display_name": "Python 3.9.7 64-bit ('HySpecLab': conda)"
  },
  "interpreter": {
   "hash": "ad5935529b3b777884ef70b3275d7b140d952d98f99a9f9dfce92ade9f76e179"
  }
 },
 "nbformat": 4,
 "nbformat_minor": 2
}