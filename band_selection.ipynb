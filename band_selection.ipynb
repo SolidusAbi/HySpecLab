{
 "cells": [
  {
   "cell_type": "code",
   "execution_count": 1,
   "source": [
    "import os, sys\n",
    "import os, sys\n",
    "project_dir = os.getcwd()\n",
    "if project_dir not in sys.path:\n",
    "    sys.path.append(project_dir)\n",
    "\n",
    "import numpy as np\n",
    "from sklearn.model_selection import KFold\n",
    "from matplotlib import pyplot as plt\n",
    "from spectral.algorithms import spectral_angles\n",
    "from dataset import Dataset"
   ],
   "outputs": [],
   "metadata": {}
  },
  {
   "cell_type": "code",
   "execution_count": 2,
   "source": [
    "dataset_dir = '/home/abian/Data/Dataset/IUMA/DermaDatabase/'\n",
    "dataset = Dataset(dataset_dir)\n",
    "x, y = dataset.get()"
   ],
   "outputs": [],
   "metadata": {}
  },
  {
   "cell_type": "markdown",
   "source": [
    "# Data Preprocessing\n",
    "\n",
    "## Calibration \n",
    "\n",
    "$\\begin{align}\n",
    "    C_i = 100 * \\frac{R_i - D_r}{W_r - D_r}\n",
    "\\end{align}$\n",
    "\n",
    "where $C_i$ is the calibrated image, $R_i$ note raw image and the $W_r$ and $D_r$ represents the white and dark reference image, respectively.\n"
   ],
   "metadata": {}
  },
  {
   "cell_type": "code",
   "execution_count": 4,
   "source": [
    "# W_r y D_r es una imagen\n",
    "def calibrate(img, w_r, d_r):\n",
    "    if not(w_r.shape == d_r.shape == img.shape):\n",
    "        assert('Dimensionality error')\n",
    "    \n",
    "    return 100  * (img - d_r) / (w_r - d_r)"
   ],
   "outputs": [],
   "metadata": {}
  },
  {
   "cell_type": "code",
   "execution_count": null,
   "source": [],
   "outputs": [],
   "metadata": {}
  },
  {
   "cell_type": "markdown",
   "source": [
    "# Normalize data\n",
    "$\\begin{align}\n",
    "    P'_i = \\frac{P_i - P_{min}}{P_{max} - P_{min}}\n",
    "\\end{align}$\n",
    "\n",
    "where $P'_i$ is the normalized pixel value, $P_i$ the reflectance of the pixel, $P_{min}$ and $P_{max}$ is the minimum and maximum reflectance value, respectively."
   ],
   "metadata": {}
  },
  {
   "cell_type": "code",
   "execution_count": 5,
   "source": [
    "def normalize(img):\n",
    "    return (img - img.min()) / (img.max() - img.min())"
   ],
   "outputs": [],
   "metadata": {}
  },
  {
   "cell_type": "code",
   "execution_count": null,
   "source": [],
   "outputs": [],
   "metadata": {}
  },
  {
   "cell_type": "markdown",
   "source": [
    "# Sampling Interval Analysis\n",
    "\n",
    "Selected equidistant band ...\n",
    "\n",
    "$\\begin{align}\n",
    "    Sampling Interval (nm) = \\frac{\\lambda_{max} - \\lambda_{min}}{N_{\\lambda}}\n",
    "\\end{align}$\n",
    "\n",
    "where $\\lambda_{max} - \\lambda_{min}$ is the difference between the mamum and minimum wavelength and $N_{\\lambda}$ is the number of band captured by the sensor."
   ],
   "metadata": {}
  },
  {
   "cell_type": "code",
   "execution_count": 6,
   "source": [
    "def sampling_interval(lambda_min, lambda_max, n_spectral_bands):\n",
    "    '''\n",
    "        Param:\n",
    "        -----\n",
    "            lambda_min (int): minimum wavelenght\n",
    "            lambda_max (int): maximum wavelenght\n",
    "            n_spectral_bands (int): number of spectral bands captured by the sensor\n",
    "    '''\n",
    "    return (lambda_max - lambda_min) / n_spectral_bands"
   ],
   "outputs": [],
   "metadata": {}
  },
  {
   "cell_type": "code",
   "execution_count": null,
   "source": [],
   "outputs": [],
   "metadata": {}
  },
  {
   "cell_type": "markdown",
   "source": [
    "# Dataset reduction\n",
    "\n",
    "**Spectral Angle Mapper**\n",
    "\n",
    "$\\alpha = cos^{-1}\\left ( \\frac{\\sum_{i = 1}^{nb} t_{i} r_{i}}{(\\sum_{i = 1}^{nb} t_{i}^2)^{\\frac{1}{2}} (\\sum_{i = 1}^{nb} r_{i}^2)^{\\frac{1}{2}}} \\right )$\n",
    "\n",
    "where\n",
    "\n",
    "* $\\alpha$ = spectral angle between the standard and the spectral curve of the pixel\n",
    "* $nb$ = number of spectral channels\n",
    "* $t$ = vector of spectral response of the standard\n",
    "* $r$ = the spectral response vector of the analyzed pixel"
   ],
   "metadata": {}
  },
  {
   "cell_type": "code",
   "execution_count": 7,
   "source": [
    "from spectral.algorithms import spectral_angles\n",
    "from sklearn.cluster import KMeans\n",
    "\n",
    "def spectral_angles_pixel(x, ref):\n",
    "    '''\n",
    "        For pixel input, the original function is prepare for image\n",
    "    '''\n",
    "    return spectral_angles(x[np.newaxis,:], ref)[0]\n",
    "\n",
    "def get_most_relevant_samples(x, centroid, n_samples_per_centroid=10):\n",
    "    '''\n",
    "        Paper: Most Relevant Spectral Bands Identification for Brain\n",
    "        Cancer Detection Using Hyperspectral Imaging    \n",
    "    '''\n",
    "    if len(x.shape) != 2:\n",
    "        assert 'X shape error!'\n",
    "    \n",
    "    output = None\n",
    "    result = spectral_angles_pixel(x, centroid)\n",
    "    for i in range(len(centroid)):       \n",
    "        ind = np.argpartition(result[i], -n_samples_per_centroid)[-n_samples_per_centroid:]\n",
    "        if i == 0:\n",
    "            output = x[ind]\n",
    "        else:\n",
    "            output = np.concatenate([output, x[ind]], axis=0)\n",
    "\n",
    "    return output\n",
    "\n",
    "def dataset_reduction(x, y, n_centroid_per_class=100, random_state=123):\n",
    "    class_label = np.unique(y)\n",
    "    final_x = None\n",
    "    final_y = None\n",
    "    for i in range(len(class_label)):\n",
    "        idx = np.where(y==class_label[i])\n",
    "        _x = x[idx]\n",
    "        if len(idx[0]) > 1000:\n",
    "            kmeans = KMeans(n_clusters=n_centroid_per_class, random_state=random_state).fit(_x)\n",
    "            centroid = kmeans.cluster_centers_\n",
    "            _x = get_most_relevant_samples(_x, centroid)\n",
    "\n",
    "        if i == 0:\n",
    "            final_x = _x\n",
    "            final_y = np.full((_x.shape[0],), class_label[i])\n",
    "        else:\n",
    "            final_x = np.concatenate([final_x, _x], axis=0)\n",
    "            final_y = np.concatenate([final_y, np.full((_x.shape[0],), class_label[i])], axis=0)\n",
    "    \n",
    "    return final_x, final_y"
   ],
   "outputs": [],
   "metadata": {}
  },
  {
   "cell_type": "code",
   "execution_count": 3,
   "source": [
    "from imblearn.under_sampling.base import BaseUnderSampler\n",
    "from spectral.algorithms import spectral_angles\n",
    "from sklearn.cluster import KMeans\n",
    "\n",
    "## Por ahora no usar!!! Está en pruebas!!\n",
    "\n",
    "class HyperSpectralUnderSampler(BaseUnderSampler):\n",
    "    ''' \n",
    "        Class to perform HyperSpectral data under-sampling.\n",
    "\n",
    "        Under-sample the different class(es) by K-Mean unsupervised clustering approach. The K-Means clustering \n",
    "        is applied independently to each group of labeled pixels in order to obtain K clusters per group. In order \n",
    "        to reduce the original training dataset, such centroids are employed to identify the most representative pixels of\n",
    "        each class by using the Spectral Angle [2] algorithm. For each cluster centroid, only the S most similar\n",
    "        samples are selected.\n",
    "\n",
    "        Parameters\n",
    "        ----------\n",
    "        n_clusters: int, default=100\n",
    "            The number of centroids used in K-Mean clustering (K).\n",
    "        \n",
    "        samples_per_class: int, default=10\n",
    "            The number of most similiar signals to select (S)\n",
    "\n",
    "        {random_state}\n",
    "\n",
    "        References\n",
    "        ----------\n",
    "          [1] Martinez, B., Leon, R., Fabelo, H., Ortega, S., Piñeiro, J. F., Szolna, A., ... & M Callico, G. (2019). Most\n",
    "          relevant spectral bands identification for brain cancer detection using hyperspectral imaging.Sensors, 19(24), 5481.\n",
    "          \n",
    "          [2] Rashmi, S.; Addamani, S.; Ravikiran, A. Spectral Angle Mapper algorithm for remote sensing image classification. \n",
    "          IJISET Int. J. Innov. Sci. Eng. Technol. 2014, 1, 201–20\n",
    "    '''\n",
    "    def __init__(self, *, n_clusters=100, samples_per_class=10, random_state=None):\n",
    "        self.K = n_cluster\n",
    "        self.S = samples_per_class\n",
    "        self.random_state = random_state\n",
    "\n",
    "    def __spectral_angles_pixel(self, x, ref):\n",
    "        '''\n",
    "            For pixel input, the original function is prepare for image\n",
    "        '''\n",
    "        return spectral_angles(x[np.newaxis,:], ref)[0]\n",
    "\n",
    "    def _get_most_relevant_samples(self, x, centroid, n_samples_per_centroid=10):\n",
    "        if len(x.shape) != 2:\n",
    "            assert 'X shape error!'\n",
    "        \n",
    "        output = None\n",
    "        result = self.__spectral_angles_pixel(x, centroid)\n",
    "        for i in range(len(centroid)):       \n",
    "            ind = np.argpartition(result[i], -n_samples_per_centroid)[-n_samples_per_centroid:]\n",
    "            if i == 0:\n",
    "                output = x[ind]\n",
    "            else:\n",
    "                output = np.concatenate([output, x[ind]], axis=0)\n",
    "\n",
    "        return output\n",
    "\n",
    "    def __fit_resample(self, X, y):\n",
    "        # Mmmmm.... esperate esperate...\n",
    "        class_label = np.unique(y)\n",
    "        final_x = None\n",
    "        final_y = None\n",
    "        for i in range(len(class_label)):\n",
    "            idx = np.where(y==class_label[i])\n",
    "            _x = X[idx]\n",
    "            if len(idx[0]) > 1000:\n",
    "                kmeans = KMeans(n_clusters=self.K, random_state=self.random_state).fit(_x)\n",
    "                centroid = kmeans.cluster_centers_\n",
    "                _x = self._get_most_relevant_samples(_x, centroid, self.S)\n",
    "\n",
    "            if i == 0:\n",
    "                final_x = _x\n",
    "                final_y = np.full((_x.shape[0],), class_label[i])\n",
    "            else:\n",
    "                final_x = np.concatenate([final_x, _x], axis=0)\n",
    "                final_y = np.concatenate([final_y, np.full((_x.shape[0],), class_label[i])], axis=0)\n",
    "        \n",
    "\n",
    "        self.sample_indices_ = 0 # To finish\n",
    "        return final_x, final_y\n",
    "        \n"
   ],
   "outputs": [],
   "metadata": {}
  },
  {
   "cell_type": "code",
   "execution_count": 8,
   "source": [
    "x_red, y_red = dataset_reduction(x, y)\n",
    "print(x_red.shape)\n",
    "print(y_red.shape)"
   ],
   "outputs": [],
   "metadata": {}
  },
  {
   "cell_type": "markdown",
   "source": [
    "# Optimization\n",
    "\n",
    "## Steps involved in HyperOptimization using Scikit-Optimizer\n",
    "\n",
    "1. Define the space of hyperparameters to search\n",
    "1. Define the function used to evaluate a given configuration\n",
    "1. Minimize the loss using Space and Function defined in previous steps."
   ],
   "metadata": {}
  },
  {
   "cell_type": "code",
   "execution_count": null,
   "source": [
    "import skopt\n",
    "\n",
    "from feature_selection import FeatureSelection, FeatureEquidistantSelection\n",
    "from sklearn.pipeline import Pipeline\n",
    "from skopt import BayesSearchCV\n",
    "from skopt.space import Integer\n",
    "\n",
    "\n",
    "# pipe = Pipeline([(\"transform\", FeatureEquidistantSelection()), ('svc', SVC())])\n",
    "pipe = Pipeline([(\"transform\", FeatureSelection()), ('svc', SVC())])\n",
    "\n",
    "params = dict()\n",
    "n_features = x.shape[1]\n",
    "# params['transform__n_features_to_select'] = (8, 34, 'uniform')\n",
    "params['transform__selected_features'] = Integer(1, float(2**(116)-1), 'log-uniform')\n",
    "params['svc__C'] = (1e-6, 100.0, 'log-uniform')\n",
    "params['svc__gamma'] = (1e-6, 100.0, 'log-uniform')\n",
    "params['svc__degree'] = (1,5)\n",
    "params['svc__kernel'] = ['linear', 'poly', 'rbf', 'sigmoid']\n",
    "\n",
    "# define evaluation\n",
    "cv = RepeatedStratifiedKFold(n_splits=10, n_repeats=3, random_state=1)\n",
    "# define the search\n",
    "search = BayesSearchCV(estimator=pipe, search_spaces=params, n_jobs=-1, cv=cv)\n",
    "# perform the search\n",
    "search.fit(x, y)\n",
    "# report the best result\n",
    "print(search.best_score_)\n",
    "print(search.best_params_)"
   ],
   "outputs": [],
   "metadata": {}
  },
  {
   "cell_type": "markdown",
   "source": [
    "# Ant Colony Optimization (Testing)\n",
    "\n",
    "**Buff, no furula. Buscar otra lib?**"
   ],
   "metadata": {}
  },
  {
   "cell_type": "markdown",
   "source": [
    "probar **scikit-opt**: https://github.com/guofei9987/scikit-opt\n",
    "\n",
    "https://www.youtube.com/watch?v=YFN_fJEu63w"
   ],
   "metadata": {}
  },
  {
   "cell_type": "code",
   "execution_count": null,
   "source": [
    "nodes = []\n",
    "for _ in range(20):\n",
    "  x = np.random.uniform(-10, 10)\n",
    "  y = np.random.uniform(-10, 10)\n",
    "  nodes.append((x, y))\n",
    "\n",
    "nodes"
   ],
   "outputs": [],
   "metadata": {}
  },
  {
   "cell_type": "code",
   "execution_count": null,
   "source": [
    "import pants\n",
    "import math\n",
    "\n",
    "def euclidean(a, b):\n",
    "    return math.sqrt(pow(a[1] - b[1], 2) + pow(a[0] - b[0], 2))"
   ],
   "outputs": [],
   "metadata": {}
  },
  {
   "cell_type": "code",
   "execution_count": null,
   "source": [
    "world = pants.World(nodes, euclidean)\n",
    "solver = pants.Solver()\n",
    "# solution = solver.solve(world)\n",
    "\n",
    "solutions = solver.solutions(world)\n"
   ],
   "outputs": [],
   "metadata": {}
  },
  {
   "cell_type": "code",
   "execution_count": null,
   "source": [
    "# print(solution.distance)\n",
    "# print(solution.tour)    # Nodes visited in order\n",
    "# print(len(solution.tour))\n",
    "# print(solution.path)    # Edges taken in order\n",
    "# print(len(solution.path))\n",
    "\n",
    "best = float(\"inf\")\n",
    "for solution in solutions:\n",
    "    assert solution.distance < best\n",
    "    best = solution.distance\n",
    "    print(best)\n",
    "    print(len(solution.path))\n",
    "\n",
    "print(best)"
   ],
   "outputs": [],
   "metadata": {}
  },
  {
   "cell_type": "markdown",
   "source": [
    "For each centroid, only the 10 most similar pixels are selected, having a total of 1000 pixels per class (100 centroids ×10 pixels). Thus, the reduced dataset is\n",
    "intended to avoid the inclusion of redundant information in the training of the supervised classifier..."
   ],
   "metadata": {}
  },
  {
   "cell_type": "code",
   "execution_count": null,
   "source": [
    "solver.trace_elite[0]"
   ],
   "outputs": [],
   "metadata": {}
  },
  {
   "cell_type": "code",
   "execution_count": null,
   "source": [
    "n_cluster = 2\n",
    "\n",
    "X = np.array([[1, 2.5], [1, 4.1], [1, 0.1],\n",
    "        [10, 2.1], [10, 4.9], [10, 0]])\n",
    "\n",
    "kmeans = KMeans(n_clusters=n_cluster, random_state=0).fit(X)\n",
    "centroid = kmeans.cluster_centers_\n",
    "for x in X:\n",
    "    plt.scatter(x=x[0], y=x[1], alpha=.2)\n",
    "\n",
    "for x in centroid:\n",
    "    plt.scatter(x=x[0], y=x[1], marker='*')\n",
    "\n",
    "plt.show()"
   ],
   "outputs": [],
   "metadata": {}
  },
  {
   "cell_type": "code",
   "execution_count": null,
   "source": [],
   "outputs": [],
   "metadata": {}
  }
 ],
 "metadata": {
  "orig_nbformat": 4,
  "language_info": {
   "name": "python",
   "version": "3.9.7",
   "mimetype": "text/x-python",
   "codemirror_mode": {
    "name": "ipython",
    "version": 3
   },
   "pygments_lexer": "ipython3",
   "nbconvert_exporter": "python",
   "file_extension": ".py"
  },
  "kernelspec": {
   "name": "python3",
   "display_name": "Python 3.9.7 64-bit ('HySpecLab': conda)"
  },
  "interpreter": {
   "hash": "ad5935529b3b777884ef70b3275d7b140d952d98f99a9f9dfce92ade9f76e179"
  }
 },
 "nbformat": 4,
 "nbformat_minor": 2
}