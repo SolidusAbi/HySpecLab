{
 "cells": [
  {
   "cell_type": "code",
   "execution_count": 3,
   "metadata": {},
   "outputs": [],
   "source": [
    "import os, sys\n",
    "import os, sys\n",
    "project_dir = os.getcwd()\n",
    "if project_dir not in sys.path:\n",
    "    sys.path.append(project_dir)\n",
    "\n",
    "import numpy as np\n",
    "from sklearn.model_selection import KFold\n",
    "from matplotlib import pyplot as plt\n",
    "from spectral.algorithms import spectral_angles\n",
    "from dataset import DermaDataset"
   ]
  },
  {
   "cell_type": "code",
   "execution_count": 8,
   "metadata": {},
   "outputs": [],
   "source": [
    "dataset_root_dir = \"/home/abian/Data/Dataset/IUMA/DermaDatabase/dataCubes/\"\n",
    "train_dir = ['train', 'validation']\n",
    "dataset_dir = list(map(lambda x: os.path.join(dataset_root_dir, x), train_dir))\n",
    "\n",
    "dataset = DermaDataset(dataset_dir)\n",
    "x, y = dataset.get()"
   ]
  },
  {
   "cell_type": "markdown",
   "metadata": {},
   "source": [
    "# Data Preprocessing\n",
    "\n",
    "## Calibration \n",
    "\n",
    "$\\begin{align}\n",
    "    C_i = 100 * \\frac{R_i - D_r}{W_r - D_r}\n",
    "\\end{align}$\n",
    "\n",
    "where $C_i$ is the calibrated image, $R_i$ note raw image and the $W_r$ and $D_r$ represents the white and dark reference image, respectively.\n"
   ]
  },
  {
   "cell_type": "code",
   "execution_count": 9,
   "metadata": {},
   "outputs": [],
   "source": [
    "# W_r y D_r es una imagen\n",
    "def calibrate(img, w_r, d_r):\n",
    "    if not(w_r.shape == d_r.shape == img.shape):\n",
    "        assert('Dimensionality error')\n",
    "    \n",
    "    return 100  * (img - d_r) / (w_r - d_r)"
   ]
  },
  {
   "cell_type": "code",
   "execution_count": null,
   "metadata": {},
   "outputs": [],
   "source": []
  },
  {
   "cell_type": "markdown",
   "metadata": {},
   "source": [
    "# Normalize data\n",
    "$\\begin{align}\n",
    "    P'_i = \\frac{P_i - P_{min}}{P_{max} - P_{min}}\n",
    "\\end{align}$\n",
    "\n",
    "where $P'_i$ is the normalized pixel value, $P_i$ the reflectance of the pixel, $P_{min}$ and $P_{max}$ is the minimum and maximum reflectance value, respectively."
   ]
  },
  {
   "cell_type": "code",
   "execution_count": 10,
   "metadata": {},
   "outputs": [],
   "source": [
    "def normalize(img):\n",
    "    return (img - img.min()) / (img.max() - img.min())"
   ]
  },
  {
   "cell_type": "code",
   "execution_count": null,
   "metadata": {},
   "outputs": [],
   "source": []
  },
  {
   "cell_type": "markdown",
   "metadata": {},
   "source": [
    "# Sampling Interval Analysis\n",
    "\n",
    "Selected equidistant band ...\n",
    "\n",
    "$\\begin{align}\n",
    "    Sampling Interval (nm) = \\frac{\\lambda_{max} - \\lambda_{min}}{N_{\\lambda}}\n",
    "\\end{align}$\n",
    "\n",
    "where $\\lambda_{max} - \\lambda_{min}$ is the difference between the mamum and minimum wavelength and $N_{\\lambda}$ is the number of band captured by the sensor."
   ]
  },
  {
   "cell_type": "code",
   "execution_count": 11,
   "metadata": {},
   "outputs": [],
   "source": [
    "def sampling_interval(lambda_min, lambda_max, n_spectral_bands):\n",
    "    '''\n",
    "        Param:\n",
    "        -----\n",
    "            lambda_min (int): minimum wavelenght\n",
    "            lambda_max (int): maximum wavelenght\n",
    "            n_spectral_bands (int): number of spectral bands captured by the sensor\n",
    "    '''\n",
    "    return (lambda_max - lambda_min) / n_spectral_bands"
   ]
  },
  {
   "cell_type": "code",
   "execution_count": null,
   "metadata": {},
   "outputs": [],
   "source": []
  },
  {
   "cell_type": "markdown",
   "metadata": {},
   "source": [
    "# Dataset reduction\n",
    "\n",
    "**Spectral Angle Mapper**\n",
    "\n",
    "$\\alpha = cos^{-1}\\left ( \\frac{\\sum_{i = 1}^{nb} t_{i} r_{i}}{(\\sum_{i = 1}^{nb} t_{i}^2)^{\\frac{1}{2}} (\\sum_{i = 1}^{nb} r_{i}^2)^{\\frac{1}{2}}} \\right )$\n",
    "\n",
    "where\n",
    "\n",
    "* $\\alpha$ = spectral angle between the standard and the spectral curve of the pixel\n",
    "* $nb$ = number of spectral channels\n",
    "* $t$ = vector of spectral response of the standard\n",
    "* $r$ = the spectral response vector of the analyzed pixel"
   ]
  },
  {
   "cell_type": "code",
   "execution_count": 116,
   "metadata": {},
   "outputs": [],
   "source": [
    "from spectral.algorithms import spectral_angles\n",
    "from sklearn.cluster import KMeans\n",
    "\n",
    "def spectral_angles_pixel(x, ref):\n",
    "    '''\n",
    "        For pixel input, the original function is prepare for image\n",
    "    '''\n",
    "    return spectral_angles(x[np.newaxis,:], ref)[0]\n",
    "\n",
    "def get_most_relevant_samples(x, centroid, n_samples_per_centroid=10):\n",
    "    '''\n",
    "        Paper: Most Relevant Spectral Bands Identification for Brain\n",
    "        Cancer Detection Using Hyperspectral Imaging    \n",
    "    '''\n",
    "    if len(x.shape) != 2:\n",
    "        assert 'X shape error!'\n",
    "    \n",
    "    output = None\n",
    "    result = spectral_angles_pixel(x, centroid)\n",
    "    for i in range(len(centroid)):       \n",
    "        ind = np.argpartition(result[i], -n_samples_per_centroid)[-n_samples_per_centroid:]\n",
    "        if i == 0:\n",
    "            output = x[ind]\n",
    "        else:\n",
    "            output = np.concatenate([output, x[ind]], axis=0)\n",
    "\n",
    "    return output\n",
    "\n",
    "def get_most_relevant_samples_idx(x, centroid, n_samples_per_centroid=10):\n",
    "    '''\n",
    "        Paper: Most Relevant Spectral Bands Identification for Brain\n",
    "        Cancer Detection Using Hyperspectral Imaging    \n",
    "    '''\n",
    "    if len(x.shape) != 2:\n",
    "        assert 'X shape error!'\n",
    "    \n",
    "    output = np.array([], dtype=np.uint)\n",
    "    result = spectral_angles_pixel(x, centroid)\n",
    "    print(result.shape)\n",
    "    for i in range(len(centroid)):       \n",
    "        ind = np.argpartition(result[:, i], -n_samples_per_centroid)[-n_samples_per_centroid:].astype(np.uint)\n",
    "        output = np.concatenate((output, ind))\n",
    "\n",
    "    return output\n",
    "\n",
    "def dataset_reduction(x, y, n_centroid_per_class=100, random_state=123):\n",
    "    class_label = np.unique(y)\n",
    "    final_x = None\n",
    "    final_y = None\n",
    "    final_idx = np.array([])\n",
    "    for i in range(len(class_label)):\n",
    "        print('CLass: {}'.format(i))\n",
    "        idx = np.where(y==class_label[i])\n",
    "        _x = x[idx]\n",
    "        # print(_x)\n",
    "        if len(idx[0]) > 1000:\n",
    "            kmeans = KMeans(n_clusters=n_centroid_per_class, random_state=random_state).fit(_x)\n",
    "            centroid = kmeans.cluster_centers_\n",
    "            # _x = get_most_relevant_samples_idx(_x, centroid)\n",
    "            most_relevant_samples_idx = get_most_relevant_samples_idx(_x, centroid)\n",
    "            # print(idx[0][most_relevant_samples_idx])\n",
    "            final_idx = np.concatenate((final_idx, idx[0][most_relevant_samples_idx]))\n",
    "            # test = np.concatenate([test, get_most_relevant_samples_idx(_x, centroid)]) \n",
    "            # print(test)\n",
    "\n",
    "    #     if i == 0:\n",
    "    #         final_x = _x\n",
    "    #         final_y = np.full((_x.shape[0],), class_label[i])\n",
    "    #     else:\n",
    "    #         final_x = np.concatenate([final_x, _x], axis=0)\n",
    "    #         final_y = np.concatenate([final_y, np.full((_x.shape[0],), class_label[i])], axis=0)\n",
    "    \n",
    "    return final_idx\n",
    "    # return final_x, final_y"
   ]
  },
  {
   "cell_type": "code",
   "execution_count": 162,
   "metadata": {},
   "outputs": [],
   "source": [
    "class_label = np.unique(y)\n",
    "for i in range(len(class_label)):\n",
    "    idx = np.where(y==class_label[i])\n",
    "    _x = x[idx]\n",
    "    kmeans = KMeans(n_clusters=100, random_state=123).fit(_x)\n",
    "    centroid = kmeans.cluster_centers_\n",
    "    labels = kmeans.labels_\n",
    "    # result = spectral_angles_pixel(x, centroid)\n",
    "    # output = np.array([], dtype=np.uint)\n",
    "    # for i in range(len(centroid)):       \n",
    "    #     ind = np.argpartition(result[:, i], -10)[-10:].astype(np.uint)\n",
    "    #     output = np.concatenate((output, ind))\n",
    "    # break"
   ]
  },
  {
   "cell_type": "code",
   "execution_count": 165,
   "metadata": {},
   "outputs": [
    {
     "data": {
      "text/plain": [
       "(7295,)"
      ]
     },
     "execution_count": 165,
     "metadata": {},
     "output_type": "execute_result"
    }
   ],
   "source": [
    "labels.shape"
   ]
  },
  {
   "cell_type": "code",
   "execution_count": 158,
   "metadata": {},
   "outputs": [
    {
     "data": {
      "text/plain": [
       "array([ 111,  247,  264,  265,  284,  437,  438,  461,  462,  558,  607,\n",
       "        621,  628,  651, 6560, 6561, 6694, 6695, 6699, 6709, 6710, 6711,\n",
       "       6714, 6715, 6724, 6725, 6726], dtype=uint64)"
      ]
     },
     "execution_count": 158,
     "metadata": {},
     "output_type": "execute_result"
    }
   ],
   "source": [
    "np.unique(output)"
   ]
  },
  {
   "cell_type": "code",
   "execution_count": 148,
   "metadata": {},
   "outputs": [
    {
     "data": {
      "image/png": "[encoded data removed]",
      "text/plain": [
       "<Figure size 432x288 with 1 Axes>"
      ]
     },
     "metadata": {
      "needs_background": "light"
     },
     "output_type": "display_data"
    }
   ],
   "source": [
    "import matplotlib.pyplot as plt\n",
    "\n",
    "plt.figure()\n",
    "\n",
    "for i in range(c.shape[0]):\n",
    "    plt.plot(c[i])\n",
    "\n",
    "plt.grid()"
   ]
  },
  {
   "cell_type": "code",
   "execution_count": 146,
   "metadata": {},
   "outputs": [
    {
     "data": {
      "text/plain": [
       "(1, 1234008)"
      ]
     },
     "execution_count": 146,
     "metadata": {},
     "output_type": "execute_result"
    }
   ],
   "source": [
    "x.reshape(1, -1).shape"
   ]
  },
  {
   "cell_type": "code",
   "execution_count": 141,
   "metadata": {},
   "outputs": [
    {
     "name": "stdout",
     "output_type": "stream",
     "text": [
      "(1000,)\n",
      "(27,)\n"
     ]
    }
   ],
   "source": [
    "print(output.shape)\n",
    "print(np.unique(output).shape)"
   ]
  },
  {
   "cell_type": "code",
   "execution_count": 130,
   "metadata": {},
   "outputs": [
    {
     "data": {
      "text/plain": [
       "array([   56.,    58.,   758.,   763.,  2133.,  2170.,  2184.,  2285.,\n",
       "        2323.,  2342.,  2349.,  2354.,  2381.,  2417.,  2426.,  2438.,\n",
       "        2544.,  2556.,  2584.,  2588.,  2590.,  2621.,  2632.,  2666.,\n",
       "        2686.,  2743.,  2745.,  2820.,  2825.,  3010.,  3015.,  3035.,\n",
       "        4719.,  4810.,  5800.,  5885.,  5894.,  5950.,  5997.,  6024.,\n",
       "        6038.,  6086.,  6174.,  6189.,  6252.,  6266.,  6295.,  6381.,\n",
       "        6451.,  6502.,  6510.,  6735.,  6737.,  6754.,  6795.,  6858.,\n",
       "        6882.,  6925.,  6941.,  6962.,  7021.,  7080.,  7351.,  8192.,\n",
       "        8221.,  8229.,  8264.,  8271.,  8337.,  8819.,  8861.,  8913.,\n",
       "        8962.,  8966.,  9003.,  9028.,  9337.,  9382.,  9387.,  9414.,\n",
       "        9420.,  9476.,  9503.,  9517.,  9531.,  9549.,  9567.,  9572.,\n",
       "        9573.,  9574.,  9589.,  9607.,  9609.,  9611.,  9624.,  9646.,\n",
       "        9668., 10311., 10328., 10553.])"
      ]
     },
     "execution_count": 130,
     "metadata": {},
     "output_type": "execute_result"
    }
   ],
   "source": [
    "a = np.array([])\n",
    "for i in range(100):\n",
    "    min_value = np.min(result[:, i])\n",
    "    a = np.concatenate([a, np.argwhere(result[:, i] == min_value).reshape(-1)])\n",
    "\n",
    "np.unique(a)\n"
   ]
  },
  {
   "cell_type": "code",
   "execution_count": 131,
   "metadata": {},
   "outputs": [
    {
     "data": {
      "text/plain": [
       "(100,)"
      ]
     },
     "execution_count": 131,
     "metadata": {},
     "output_type": "execute_result"
    }
   ],
   "source": [
    "a.shape"
   ]
  },
  {
   "cell_type": "code",
   "execution_count": 118,
   "metadata": {},
   "outputs": [
    {
     "name": "stdout",
     "output_type": "stream",
     "text": [
      "CLass: 0\n",
      "(3343, 100)\n",
      "CLass: 1\n",
      "(7295, 100)\n",
      "[  25.   30.   35.   40.   45.   50.   55.   59.   60.   65.   95.   96.\n",
      "  111.  247.  264.  265.  284.  437.  438.  461.  462.  537.  558.  581.\n",
      "  607.  621.  628.  651. 2156. 2161. 2416. 2421. 2439. 2457. 2501. 2519.\n",
      " 2520. 2536. 2537. 2597. 2614. 2616. 2626. 2627. 2628. 2637. 2638. 2639.\n",
      " 2640. 2641. 3048. 3049. 3050. 3059. 3060. 3061. 3063. 3074. 3075. 6560.\n",
      " 6561. 6575. 6694. 6695. 6699. 6709. 6710. 6711. 6714. 6715. 6722. 6724.\n",
      " 6725. 6726.]\n"
     ]
    }
   ],
   "source": [
    "# x_red, y_red = dataset_reduction(x, y, n_centroid_per_class=100)\n",
    "samples_idx = dataset_reduction(x, y, n_centroid_per_class=100)\n",
    "samples_idx\n",
    "print(np.unique(samples_idx))\n",
    "# print(x_red.shape)\n",
    "# print(y_red.shape)"
   ]
  },
  {
   "cell_type": "code",
   "execution_count": 119,
   "metadata": {},
   "outputs": [
    {
     "data": {
      "text/plain": [
       "1000"
      ]
     },
     "execution_count": 119,
     "metadata": {},
     "output_type": "execute_result"
    }
   ],
   "source": [
    "test = y[samples_idx.astype(np.uint)]\n",
    "len(test[test==1])"
   ]
  },
  {
   "cell_type": "code",
   "execution_count": 54,
   "metadata": {},
   "outputs": [
    {
     "data": {
      "text/plain": [
       "0"
      ]
     },
     "execution_count": 54,
     "metadata": {},
     "output_type": "execute_result"
    }
   ],
   "source": [
    "test = np.array([])\n",
    "test.size"
   ]
  },
  {
   "cell_type": "code",
   "execution_count": 3,
   "metadata": {},
   "outputs": [],
   "source": [
    "from imblearn.under_sampling.base import BaseUnderSampler\n",
    "from spectral.algorithms import spectral_angles\n",
    "from sklearn.cluster import KMeans\n",
    "\n",
    "## Por ahora no usar!!! Está en pruebas!!\n",
    "\n",
    "class HyperSpectralUnderSampler(BaseUnderSampler):\n",
    "    ''' \n",
    "        Class to perform HyperSpectral data under-sampling.\n",
    "\n",
    "        Under-sample the different class(es) by K-Mean unsupervised clustering approach. The K-Means clustering \n",
    "        is applied independently to each group of labeled pixels in order to obtain K clusters per group. In order \n",
    "        to reduce the original training dataset, such centroids are employed to identify the most representative pixels of\n",
    "        each class by using the Spectral Angle [2] algorithm. For each cluster centroid, only the S most similar\n",
    "        samples are selected.\n",
    "\n",
    "        Parameters\n",
    "        ----------\n",
    "        n_clusters: int, default=100\n",
    "            The number of centroids used in K-Mean clustering (K).\n",
    "        \n",
    "        samples_per_class: int, default=10\n",
    "            The number of most similiar signals to select (S)\n",
    "\n",
    "        {random_state}\n",
    "\n",
    "        References\n",
    "        ----------\n",
    "          [1] Martinez, B., Leon, R., Fabelo, H., Ortega, S., Piñeiro, J. F., Szolna, A., ... & M Callico, G. (2019). Most\n",
    "          relevant spectral bands identification for brain cancer detection using hyperspectral imaging.Sensors, 19(24), 5481.\n",
    "          \n",
    "          [2] Rashmi, S.; Addamani, S.; Ravikiran, A. Spectral Angle Mapper algorithm for remote sensing image classification. \n",
    "          IJISET Int. J. Innov. Sci. Eng. Technol. 2014, 1, 201–20\n",
    "    '''\n",
    "    def __init__(self, *, n_clusters=100, samples_per_class=10, random_state=None):\n",
    "        self.K = n_cluster\n",
    "        self.S = samples_per_class\n",
    "        self.random_state = random_state\n",
    "\n",
    "    def __spectral_angles_pixel(self, x, ref):\n",
    "        '''\n",
    "            For pixel input, the original function is prepare for image\n",
    "        '''\n",
    "        return spectral_angles(x[np.newaxis,:], ref)[0]\n",
    "\n",
    "    def _get_most_relevant_samples(self, x, centroid, n_samples_per_centroid=10):\n",
    "        if len(x.shape) != 2:\n",
    "            assert 'X shape error!'\n",
    "        \n",
    "        output = None\n",
    "        result = self.__spectral_angles_pixel(x, centroid)\n",
    "        for i in range(len(centroid)):       \n",
    "            ind = np.argpartition(result[i], -n_samples_per_centroid)[-n_samples_per_centroid:]\n",
    "            if i == 0:\n",
    "                output = x[ind]\n",
    "            else:\n",
    "                output = np.concatenate([output, x[ind]], axis=0)\n",
    "\n",
    "        return output\n",
    "\n",
    "    def _fit_resample(self, X, y):\n",
    "        # Mmmmm.... esperate esperate...\n",
    "        class_label = np.unique(y)\n",
    "        final_x = None\n",
    "        final_y = None\n",
    "        for i in range(len(class_label)):\n",
    "            idx = np.where(y==class_label[i])\n",
    "            _x = X[idx]\n",
    "            if len(idx[0]) > 1000:\n",
    "                kmeans = KMeans(n_clusters=self.K, random_state=self.random_state).fit(_x)\n",
    "                centroid = kmeans.cluster_centers_\n",
    "                _x = self._get_most_relevant_samples(_x, centroid, self.S)\n",
    "\n",
    "            if i == 0:\n",
    "                final_x = _x\n",
    "                final_y = np.full((_x.shape[0],), class_label[i])\n",
    "            else:\n",
    "                final_x = np.concatenate([final_x, _x], axis=0)\n",
    "                final_y = np.concatenate([final_y, np.full((_x.shape[0],), class_label[i])], axis=0)\n",
    "        \n",
    "\n",
    "        self.sample_indices_ = 0 # To finish\n",
    "        return final_x, final_y\n",
    "        \n"
   ]
  },
  {
   "cell_type": "code",
   "execution_count": 13,
   "metadata": {},
   "outputs": [
    {
     "name": "stdout",
     "output_type": "stream",
     "text": [
      "(2000, 116)\n",
      "(2000,)\n"
     ]
    }
   ],
   "source": [
    "x_red, y_red = dataset_reduction(x, y)\n",
    "print(x_red.shape)\n",
    "print(y_red.shape)"
   ]
  },
  {
   "cell_type": "markdown",
   "metadata": {},
   "source": [
    "# Optimization\n",
    "\n",
    "## Steps involved in HyperOptimization using Scikit-Optimizer\n",
    "\n",
    "1. Define the space of hyperparameters to search\n",
    "1. Define the function used to evaluate a given configuration\n",
    "1. Minimize the loss using Space and Function defined in previous steps."
   ]
  },
  {
   "cell_type": "code",
   "execution_count": null,
   "metadata": {},
   "outputs": [],
   "source": [
    "import skopt\n",
    "\n",
    "from feature_selection import FeatureSelection, FeatureEquidistantSelection\n",
    "from sklearn.pipeline import Pipeline\n",
    "from skopt import BayesSearchCV\n",
    "from skopt.space import Integer\n",
    "\n",
    "\n",
    "# pipe = Pipeline([(\"transform\", FeatureEquidistantSelection()), ('svc', SVC())])\n",
    "pipe = Pipeline([(\"transform\", FeatureSelection()), ('svc', SVC())])\n",
    "\n",
    "params = dict()\n",
    "n_features = x.shape[1]\n",
    "# params['transform__n_features_to_select'] = (8, 34, 'uniform')\n",
    "params['transform__selected_features'] = Integer(1, float(2**(116)-1), 'log-uniform')\n",
    "params['svc__C'] = (1e-6, 100.0, 'log-uniform')\n",
    "params['svc__gamma'] = (1e-6, 100.0, 'log-uniform')\n",
    "params['svc__degree'] = (1,5)\n",
    "params['svc__kernel'] = ['linear', 'poly', 'rbf', 'sigmoid']\n",
    "\n",
    "# define evaluation\n",
    "cv = RepeatedStratifiedKFold(n_splits=10, n_repeats=3, random_state=1)\n",
    "# define the search\n",
    "search = BayesSearchCV(estimator=pipe, search_spaces=params, n_jobs=-1, cv=cv)\n",
    "# perform the search\n",
    "search.fit(x, y)\n",
    "# report the best result\n",
    "print(search.best_score_)\n",
    "print(search.best_params_)"
   ]
  },
  {
   "cell_type": "markdown",
   "metadata": {},
   "source": [
    "# Ant Colony Optimization (Testing)\n",
    "\n",
    "**Buff, no furula. Buscar otra lib?**"
   ]
  },
  {
   "cell_type": "markdown",
   "metadata": {},
   "source": [
    "probar **scikit-opt**: https://github.com/guofei9987/scikit-opt\n",
    "\n",
    "https://www.youtube.com/watch?v=YFN_fJEu63w"
   ]
  },
  {
   "cell_type": "code",
   "execution_count": null,
   "metadata": {},
   "outputs": [],
   "source": [
    "nodes = []\n",
    "for _ in range(20):\n",
    "  x = np.random.uniform(-10, 10)\n",
    "  y = np.random.uniform(-10, 10)\n",
    "  nodes.append((x, y))\n",
    "\n",
    "nodes"
   ]
  },
  {
   "cell_type": "code",
   "execution_count": null,
   "metadata": {},
   "outputs": [],
   "source": [
    "import pants\n",
    "import math\n",
    "\n",
    "def euclidean(a, b):\n",
    "    return math.sqrt(pow(a[1] - b[1], 2) + pow(a[0] - b[0], 2))"
   ]
  },
  {
   "cell_type": "code",
   "execution_count": null,
   "metadata": {},
   "outputs": [],
   "source": [
    "world = pants.World(nodes, euclidean)\n",
    "solver = pants.Solver()\n",
    "# solution = solver.solve(world)\n",
    "\n",
    "solutions = solver.solutions(world)\n"
   ]
  },
  {
   "cell_type": "code",
   "execution_count": null,
   "metadata": {},
   "outputs": [],
   "source": [
    "# print(solution.distance)\n",
    "# print(solution.tour)    # Nodes visited in order\n",
    "# print(len(solution.tour))\n",
    "# print(solution.path)    # Edges taken in order\n",
    "# print(len(solution.path))\n",
    "\n",
    "best = float(\"inf\")\n",
    "for solution in solutions:\n",
    "    assert solution.distance < best\n",
    "    best = solution.distance\n",
    "    print(best)\n",
    "    print(len(solution.path))\n",
    "\n",
    "print(best)"
   ]
  },
  {
   "cell_type": "markdown",
   "metadata": {},
   "source": [
    "For each centroid, only the 10 most similar pixels are selected, having a total of 1000 pixels per class (100 centroids ×10 pixels). Thus, the reduced dataset is\n",
    "intended to avoid the inclusion of redundant information in the training of the supervised classifier..."
   ]
  },
  {
   "cell_type": "code",
   "execution_count": null,
   "metadata": {},
   "outputs": [],
   "source": [
    "solver.trace_elite[0]"
   ]
  },
  {
   "cell_type": "code",
   "execution_count": null,
   "metadata": {},
   "outputs": [],
   "source": [
    "n_cluster = 2\n",
    "\n",
    "X = np.array([[1, 2.5], [1, 4.1], [1, 0.1],\n",
    "        [10, 2.1], [10, 4.9], [10, 0]])\n",
    "\n",
    "kmeans = KMeans(n_clusters=n_cluster, random_state=0).fit(X)\n",
    "centroid = kmeans.cluster_centers_\n",
    "for x in X:\n",
    "    plt.scatter(x=x[0], y=x[1], alpha=.2)\n",
    "\n",
    "for x in centroid:\n",
    "    plt.scatter(x=x[0], y=x[1], marker='*')\n",
    "\n",
    "plt.show()"
   ]
  },
  {
   "cell_type": "code",
   "execution_count": null,
   "metadata": {},
   "outputs": [],
   "source": []
  }
 ],
 "metadata": {
  "interpreter": {
   "hash": "bc81a3ec444beb1d5a523daf231afa571e79be8a57abb6fe0028623a3d4d7136"
  },
  "kernelspec": {
   "display_name": "Python 3.9.7 64-bit ('HySpecLab': conda)",
   "name": "python3"
  },
  "language_info": {
   "codemirror_mode": {
    "name": "ipython",
    "version": 3
   },
   "file_extension": ".py",
   "mimetype": "text/x-python",
   "name": "python",
   "nbconvert_exporter": "python",
   "pygments_lexer": "ipython3",
   "version": "3.9.7"
  },
  "orig_nbformat": 4
 },
 "nbformat": 4,
 "nbformat_minor": 2
}
