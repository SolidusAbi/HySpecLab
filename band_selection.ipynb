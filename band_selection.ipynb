{
 "cells": [
  {
   "cell_type": "code",
   "execution_count": null,
   "source": [
    "import os, sys\n",
    "import numpy as np\n",
    "from sklearn.model_selection import KFold\n",
    "from matplotlib import pyplot as plt\n",
    "import spectral"
   ],
   "outputs": [],
   "metadata": {}
  },
  {
   "cell_type": "code",
   "execution_count": null,
   "source": [
    "from spectral.algorithms import spectral_angles"
   ],
   "outputs": [],
   "metadata": {}
  },
  {
   "cell_type": "code",
   "execution_count": null,
   "source": [
    "x = np.random.rand(1, 10, 25)\n",
    "endmember = np.random.rand(5, 25)\n",
    "spectral_angles(x, endmember).shape"
   ],
   "outputs": [],
   "metadata": {}
  },
  {
   "cell_type": "markdown",
   "source": [
    "# Data Preprocessing\n",
    "\n",
    "## Calibration \n",
    "\n",
    "$\\begin{align}\n",
    "    C_i = 100 * \\frac{R_i - D_r}{W_r - D_r}\n",
    "\\end{align}$\n",
    "\n",
    "where $C_i$ is the calibrated image, $R_i$ note raw image and the $W_r$ and $D_r$ represents the white and dark reference image, respectively.\n"
   ],
   "metadata": {}
  },
  {
   "cell_type": "code",
   "execution_count": null,
   "source": [
    "# W_r y D_r es una imagen\n",
    "def calibrate(img, w_r, d_r):\n",
    "    if not(w_r.shape == d_r.shape == img.shape):\n",
    "        assert('Dimensionality error')\n",
    "    \n",
    "    return 100  * (img - d_r) / (w_r - d_r)"
   ],
   "outputs": [],
   "metadata": {}
  },
  {
   "cell_type": "code",
   "execution_count": null,
   "source": [],
   "outputs": [],
   "metadata": {}
  },
  {
   "cell_type": "markdown",
   "source": [
    "# Normalize data\n",
    "$\\begin{align}\n",
    "    P'_i = \\frac{P_i - P_{min}}{P_{max} - P_{min}}\n",
    "\\end{align}$\n",
    "\n",
    "where $P'_i$ is the normalized pixel value, $P_i$ the reflectance of the pixel, $P_{min}$ and $P_{max}$ is the minimum and maximum reflectance value, respectively."
   ],
   "metadata": {}
  },
  {
   "cell_type": "code",
   "execution_count": null,
   "source": [
    "def normalize(img):\n",
    "    return (img - img.min()) / (img.max() - img.min())"
   ],
   "outputs": [],
   "metadata": {}
  },
  {
   "cell_type": "code",
   "execution_count": null,
   "source": [],
   "outputs": [],
   "metadata": {}
  },
  {
   "cell_type": "markdown",
   "source": [
    "# Sampling Interval Analysis\n",
    "\n",
    "Selected band equidistant...\n",
    "\n",
    "$\\begin{align}\n",
    "    Sampling Interval (nm) = \\frac{\\lambda_{max} - \\lambda_{min}}{N_{\\lambda}}\n",
    "\\end{align}$\n",
    "\n",
    "where $\\lambda_{max} - \\lambda_{min}$ is the difference between the mamum and minimum wavelength and $N_{\\lambda}$ is the number of band captured by the sensor."
   ],
   "metadata": {}
  },
  {
   "cell_type": "code",
   "execution_count": null,
   "source": [
    "def sampling_interval(lambda_min, lambda_max, n_spectral_bands):\n",
    "    '''\n",
    "        Param:\n",
    "        -----\n",
    "            lambda_min (int): minimum wavelenght\n",
    "            lambda_max (int): maximum wavelenght\n",
    "            n_spectral_bands (int): number of spectral bands captured by the sensor\n",
    "    '''\n",
    "    return (lambda_max - lambda_min) / n_spectral_bands"
   ],
   "outputs": [],
   "metadata": {}
  },
  {
   "cell_type": "code",
   "execution_count": null,
   "source": [],
   "outputs": [],
   "metadata": {}
  },
  {
   "cell_type": "markdown",
   "source": [
    "# Dataset reduction\n",
    "\n",
    "**Spectral Angle Mapper**\n",
    "\n",
    "$[\\alpha = cos^{-1}\\left ( \\frac{\\sum_{i = 1}^{nb} t_{i} r_{i}}{(\\sum_{i = 1}^{nb} t_{i}^2)^{\\frac{1}{2}} (\\sum_{i = 1}^{nb} r_{i}^2)^{\\frac{1}{2}}} \\right )]$\n",
    "\n",
    "where\n",
    "\n",
    "* $\\alpha$ = spectral angle between the standard and the spectral curve of the pixel\n",
    "* $nb$ = number of spectral channels\n",
    "* $t$ = vector of spectral response of the standard\n",
    "* $r$ = the spectral response vector of the analyzed pixel"
   ],
   "metadata": {}
  },
  {
   "cell_type": "code",
   "execution_count": null,
   "source": [
    "from sklearn.cluster import KMeans\n",
    "from spectral.algorithms import spectral_angles\n",
    "\n",
    "# example, 12 pixels with 125 bands\n",
    "X = np.random.rand(12, 125)\n",
    "\n",
    "kmeans = KMeans(n_clusters=4, random_state=0).fit(X)\n",
    "centroid = kmeans.cluster_centers_\n",
    "\n",
    "spectral_angles(X[0:1].T, centroid[0:1])"
   ],
   "outputs": [],
   "metadata": {}
  },
  {
   "cell_type": "code",
   "execution_count": null,
   "source": [
    "X = np.random.rand(3, 125)\n",
    "result = spectral_angles(X[np.newaxis,:], X)\n",
    "\n",
    "print(result.shape)\n",
    "\n",
    "print(result)"
   ],
   "outputs": [],
   "metadata": {}
  },
  {
   "cell_type": "markdown",
   "source": [
    "# Optimization\n",
    "\n",
    "## Steps involved in HyperOptimization using Scikit-Optimizer\n",
    "\n",
    "1. Define the space of hyperparameters to search\n",
    "1. Define the function used to evaluate a given configuration\n",
    "1. Minimize the loss using Space and Function defined in previous steps."
   ],
   "metadata": {}
  },
  {
   "cell_type": "code",
   "execution_count": null,
   "source": [
    "import skopt"
   ],
   "outputs": [],
   "metadata": {}
  },
  {
   "cell_type": "markdown",
   "source": [
    "# Ant Colony Optimization"
   ],
   "metadata": {}
  },
  {
   "cell_type": "markdown",
   "source": [
    "probar **scikit-opt**: https://github.com/guofei9987/scikit-opt\n",
    "\n",
    "https://www.youtube.com/watch?v=YFN_fJEu63w"
   ],
   "metadata": {}
  },
  {
   "cell_type": "code",
   "execution_count": null,
   "source": [
    "nodes = []\n",
    "for _ in range(20):\n",
    "  x = np.random.uniform(-10, 10)\n",
    "  y = np.random.uniform(-10, 10)\n",
    "  nodes.append((x, y))\n",
    "\n",
    "nodes"
   ],
   "outputs": [],
   "metadata": {}
  },
  {
   "cell_type": "code",
   "execution_count": null,
   "source": [
    "import pants\n",
    "import math\n",
    "\n",
    "def euclidean(a, b):\n",
    "    return math.sqrt(pow(a[1] - b[1], 2) + pow(a[0] - b[0], 2))"
   ],
   "outputs": [],
   "metadata": {}
  },
  {
   "cell_type": "code",
   "execution_count": null,
   "source": [
    "world = pants.World(nodes, euclidean)\n",
    "solver = pants.Solver()\n",
    "# solution = solver.solve(world)\n",
    "\n",
    "solutions = solver.solutions(world)\n"
   ],
   "outputs": [],
   "metadata": {}
  },
  {
   "cell_type": "code",
   "execution_count": null,
   "source": [
    "# print(solution.distance)\n",
    "# print(solution.tour)    # Nodes visited in order\n",
    "# print(len(solution.tour))\n",
    "# print(solution.path)    # Edges taken in order\n",
    "# print(len(solution.path))\n",
    "\n",
    "best = float(\"inf\")\n",
    "for solution in solutions:\n",
    "    assert solution.distance < best\n",
    "    best = solution.distance\n",
    "    print(best)\n",
    "    print(len(solution.path))\n",
    "\n",
    "print(best)"
   ],
   "outputs": [],
   "metadata": {}
  },
  {
   "cell_type": "markdown",
   "source": [
    "For each centroid, only the 10 most similar pixels are selected, having a total of 1000 pixels per class (100 centroids ×10 pixels). Thus, the reduced dataset is\n",
    "intended to avoid the inclusion of redundant information in the training of the supervised classifier..."
   ],
   "metadata": {}
  },
  {
   "cell_type": "code",
   "execution_count": null,
   "source": [
    "solver.trace_elite[0]"
   ],
   "outputs": [],
   "metadata": {}
  },
  {
   "cell_type": "code",
   "execution_count": null,
   "source": [
    "n_cluster = 2\n",
    "\n",
    "X = np.array([[1, 2.5], [1, 4.1], [1, 0.1],\n",
    "        [10, 2.1], [10, 4.9], [10, 0]])\n",
    "\n",
    "kmeans = KMeans(n_clusters=n_cluster, random_state=0).fit(X)\n",
    "centroid = kmeans.cluster_centers_\n",
    "for x in X:\n",
    "    plt.scatter(x=x[0], y=x[1], alpha=.2)\n",
    "\n",
    "for x in centroid:\n",
    "    plt.scatter(x=x[0], y=x[1], marker='*')\n",
    "\n",
    "plt.show()"
   ],
   "outputs": [],
   "metadata": {}
  },
  {
   "cell_type": "markdown",
   "source": [
    "# Spectral Angle Mapper\n",
    "\n",
    "$[\\alpha = cos^{-1}\\left ( \\frac{\\sum_{i = 1}^{nb} t_{i} r_{i}}{(\\sum_{i = 1}^{nb} t_{i}^2)^{\\frac{1}{2}} (\\sum_{i = 1}^{nb} r_{i}^2)^{\\frac{1}{2}}} \\right )]$\n",
    "\n",
    "where\n",
    "\n",
    "* $\\alpha$ = spectral angle between the standard and the spectral curve of the pixel\n",
    "* $nb$ = number of spectral channels\n",
    "* $t$ = vector of spectral response of the standard\n",
    "* $r$ = the spectral response vector of the analyzed pixel"
   ],
   "metadata": {}
  },
  {
   "cell_type": "code",
   "execution_count": null,
   "source": [],
   "outputs": [],
   "metadata": {}
  },
  {
   "cell_type": "code",
   "execution_count": null,
   "source": [
    "X = [\"a\", \"b\", \"c\", \"d\"]\n",
    "kf = KFold(n_splits=4)\n",
    "for train, test in kf.split(X):\n",
    "    print(\"%s %s\" % (train, test))"
   ],
   "outputs": [],
   "metadata": {}
  },
  {
   "cell_type": "code",
   "execution_count": null,
   "source": [],
   "outputs": [],
   "metadata": {}
  }
 ],
 "metadata": {
  "orig_nbformat": 4,
  "language_info": {
   "name": "python",
   "version": "3.9.7",
   "mimetype": "text/x-python",
   "codemirror_mode": {
    "name": "ipython",
    "version": 3
   },
   "pygments_lexer": "ipython3",
   "nbconvert_exporter": "python",
   "file_extension": ".py"
  },
  "kernelspec": {
   "name": "python3",
   "display_name": "Python 3.9.7 64-bit ('HySpecLab': conda)"
  },
  "interpreter": {
   "hash": "af680f298c3d17ec705d00ff05262bced2955ca0c4523d2b3ea9cadbd32c0648"
  }
 },
 "nbformat": 4,
 "nbformat_minor": 2
}